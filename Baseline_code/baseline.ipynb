{
 "cells": [
  {
   "cell_type": "code",
   "execution_count": 4,
   "metadata": {},
   "outputs": [],
   "source": [
    "\"\"\"2 mismatched segments dilation model.\"\"\"\n",
    "import tensorflow as tf\n",
    "\n",
    "\n",
    "def dilation_model(\n",
    "    time_window=None,\n",
    "    eeg_input_dimension=64,\n",
    "    env_input_dimension=1,\n",
    "    layers=3,\n",
    "    kernel_size=3,\n",
    "    spatial_filters=8,\n",
    "    dilation_filters=16,\n",
    "    activation=\"relu\",\n",
    "    compile=True,\n",
    "    num_mismatched_segments=2\n",
    "):\n",
    "    \"\"\"Convolutional dilation model.\n",
    "\n",
    "    Code was taken and adapted from\n",
    "    https://github.com/exporl/eeg-matching-eusipco2020\n",
    "\n",
    "    Parameters\n",
    "    ----------\n",
    "    time_window : int or None\n",
    "        Segment length. If None, the model will accept every time window input\n",
    "        length.\n",
    "    eeg_input_dimension : int\n",
    "        number of channels of the EEG\n",
    "    env_input_dimension : int\n",
    "        dimemsion of the stimulus representation.\n",
    "        if stimulus == envelope, env_input_dimension =1\n",
    "        if stimulus == mel, env_input_dimension =28\n",
    "    layers : int\n",
    "        Depth of the network/Number of layers\n",
    "    kernel_size : int\n",
    "        Size of the kernel for the dilation convolutions\n",
    "    spatial_filters : int\n",
    "        Number of parallel filters to use in the spatial layer\n",
    "    dilation_filters : int\n",
    "        Number of parallel filters to use in the dilation layers\n",
    "    activation : str or list or tuple\n",
    "        Name of the non-linearity to apply after the dilation layers\n",
    "        or list/tuple of different non-linearities\n",
    "    compile : bool\n",
    "        If model should be compiled\n",
    "    inputs : tuple\n",
    "        Alternative inputs\n",
    "\n",
    "    Returns\n",
    "    -------\n",
    "    tf.Model\n",
    "        The dilation model\n",
    "\n",
    "\n",
    "    References\n",
    "    ----------\n",
    "    Accou, B., Jalilpour Monesi, M., Montoya, J., Van hamme, H. & Francart, T.\n",
    "    Modeling the relationship between acoustic stimulus and EEG with a dilated\n",
    "    convolutional neural network. In 2020 28th European Signal Processing\n",
    "    Conference (EUSIPCO), 1175–1179, DOI: 10.23919/Eusipco47968.2020.9287417\n",
    "    (2021). ISSN: 2076-1465.\n",
    "\n",
    "    Accou, B., Monesi, M. J., hamme, H. V. & Francart, T.\n",
    "    Predicting speech intelligibility from EEG in a non-linear classification\n",
    "    paradigm. J. Neural Eng. 18, 066008, DOI: 10.1088/1741-2552/ac33e9 (2021).\n",
    "    Publisher: IOP Publishing\n",
    "    \"\"\"\n",
    "\n",
    "    eeg = tf.keras.layers.Input(shape=[time_window, eeg_input_dimension])\n",
    "    stimuli_input = [tf.keras.layers.Input(shape=[time_window, env_input_dimension]) for _ in range(num_mismatched_segments+1)]\n",
    "\n",
    "    all_inputs = [eeg]\n",
    "    all_inputs.extend(stimuli_input)\n",
    "\n",
    "\n",
    "    stimuli_proj = [x for x in stimuli_input]\n",
    "\n",
    "    # Activations to apply\n",
    "    if isinstance(activation, str):\n",
    "        activations = [activation] * layers\n",
    "    else:\n",
    "        activations = activation\n",
    "\n",
    "\n",
    "    # Spatial convolution\n",
    "    eeg_proj_1 = tf.keras.layers.Conv1D(spatial_filters, kernel_size=1)(eeg)\n",
    "\n",
    "    # Construct dilation layers\n",
    "    for layer_index in range(layers):\n",
    "        # dilation on EEG\n",
    "        eeg_proj_1 = tf.keras.layers.Conv1D(\n",
    "            dilation_filters,\n",
    "            kernel_size=kernel_size,\n",
    "            dilation_rate=kernel_size ** layer_index,\n",
    "            strides=1,\n",
    "            activation=activations[layer_index],\n",
    "        )(eeg_proj_1)\n",
    "\n",
    "        # Dilation on envelope data, share weights\n",
    "        env_proj_layer = tf.keras.layers.Conv1D(\n",
    "            dilation_filters,\n",
    "            kernel_size=kernel_size,\n",
    "            dilation_rate=kernel_size ** layer_index,\n",
    "            strides=1,\n",
    "            activation=activations[layer_index],\n",
    "        )\n",
    "\n",
    "        stimuli_proj = [env_proj_layer(stimulus_proj) for stimulus_proj in stimuli_proj]\n",
    "\n",
    "\n",
    "    # Comparison\n",
    "    cos = [tf.keras.layers.Dot(1, normalize=True)([eeg_proj_1, stimulus_proj]) for stimulus_proj in stimuli_proj]\n",
    "\n",
    "    linear_proj_sim = tf.keras.layers.Dense(1, activation=\"linear\")\n",
    "\n",
    "    # Linear projection of similarity matrices\n",
    "    cos_proj = [linear_proj_sim(tf.keras.layers.Flatten()(cos_i)) for cos_i in cos]\n",
    "\n",
    "\n",
    "    # Classification\n",
    "    out = tf.keras.activations.softmax((tf.keras.layers.Concatenate()(cos_proj)))\n",
    "\n",
    "\n",
    "    model = tf.keras.Model(inputs=all_inputs, outputs=[out])\n",
    "\n",
    "    if compile:\n",
    "        model.compile(\n",
    "            optimizer=tf.keras.optimizers.Adam(),\n",
    "            metrics=[\"accuracy\"],\n",
    "            loss=[\"categorical_crossentropy\"],\n",
    "        )\n",
    "        print(model.summary())\n",
    "    return model"
   ]
  },
  {
   "cell_type": "code",
   "execution_count": 5,
   "metadata": {},
   "outputs": [],
   "source": [
    "\"\"\"Code for the dataset_generator for both tasks.\"\"\"\n",
    "import itertools\n",
    "import os\n",
    "import numpy as np\n",
    "import tensorflow as tf\n",
    "\n",
    "\n",
    "@tf.function\n",
    "def batch_equalizer_fn(*args):\n",
    "    \"\"\"Batch equalizer.\n",
    "    Prepares the inputs for a model to be trained in\n",
    "    match-mismatch task. It makes sure that match_env\n",
    "    and mismatch_env are equally presented as a first\n",
    "    envelope in match-mismatch task.\n",
    "\n",
    "    Parameters\n",
    "    ----------\n",
    "    args : Sequence[tf.Tensor]\n",
    "        List of tensors representing feature data\n",
    "\n",
    "    Returns\n",
    "    -------\n",
    "    Tuple[Tuple[tf.Tensor], tf.Tensor]\n",
    "        Tuple of the EEG/speech features serving as the input to the model and\n",
    "        the labels for the match/mismatch task\n",
    "\n",
    "    Notes\n",
    "    -----\n",
    "    This function will also double the batch size. E.g. if the batch size of\n",
    "    the elements in each of the args was 32, the output features will have\n",
    "    a batch size of 64.\n",
    "    \"\"\"\n",
    "    eeg = args[0]\n",
    "    num_stimuli = len(args) - 1\n",
    "    # repeat eeg num_stimuli times\n",
    "    new_eeg = tf.concat([eeg] * num_stimuli, axis=0)\n",
    "    all_features = [new_eeg]\n",
    "\n",
    "    # create args\n",
    "    args_to_zip = [args[i::num_stimuli] for i in range(1,num_stimuli+1)]\n",
    "    for stimuli_features in zip(*args_to_zip):\n",
    "\n",
    "        for i in range(num_stimuli):\n",
    "            stimulus_rolled = tf.roll(stimuli_features, shift=i, axis=0)\n",
    "            # reshape stimulus_rolled to merge the first two dimensions\n",
    "            stimulus_rolled = tf.reshape(stimulus_rolled, [tf.shape(stimulus_rolled)[0] * tf.shape(stimulus_rolled)[1], stimuli_features[0].shape[-2], stimuli_features[0].shape[-1]])\n",
    "\n",
    "            all_features.append(stimulus_rolled)\n",
    "    labels = tf.concat(\n",
    "        [\n",
    "            tf.tile(tf.constant([[1 if ii == i else 0 for ii in range(num_stimuli)]]), [tf.shape(eeg)[0], 1]) for i in range(num_stimuli)\n",
    "        ], axis=0\n",
    "    )\n",
    "\n",
    "    return tuple(all_features), labels\n",
    "\n",
    "def shuffle_fn(args, number_mismatch):\n",
    "    # repeat the last argument number_ mismatch times\n",
    "    args = list(args)\n",
    "    for _  in range(number_mismatch):\n",
    "        args.append(tf.random.shuffle(args[-1]))\n",
    "    return tuple(args)\n",
    "\n",
    "\n",
    "\n",
    "def create_tf_dataset(\n",
    "    data_generator,\n",
    "    window_length,\n",
    "    batch_equalizer_fn=None,\n",
    "    hop_length=64,\n",
    "    batch_size=64,\n",
    "    data_types=(tf.float32, tf.float32),\n",
    "    feature_dims=(64, 1),\n",
    "    number_mismatch = None # None for regression, 2 or 4 for match-mismatch\n",
    "):\n",
    "    \"\"\"Creates a tf.data.Dataset.\n",
    "\n",
    "    This will be used to create a dataset generator that will\n",
    "    pass windowed data to a model in both tasks.\n",
    "\n",
    "    Parameters\n",
    "    ---------\n",
    "    data_generator: DataGenerator\n",
    "        A data generator.\n",
    "    window_length: int\n",
    "        Length of the decision window in samples.\n",
    "    batch_equalizer_fn: Callable\n",
    "        Function that will be applied on the data after batching (using\n",
    "        the `map` method from tf.data.Dataset). In the match/mismatch task,\n",
    "        this function creates the imposter segments and labels.\n",
    "    hop_length: int\n",
    "        Hop length between two consecutive decision windows.\n",
    "    batch_size: Optional[int]\n",
    "        If not None, specifies the batch size. In the match/mismatch task,\n",
    "        this amount will be doubled by the default_batch_equalizer_fn\n",
    "    data_types: Union[Sequence[tf.dtype], tf.dtype]\n",
    "        The data types that the individual features of data_generator should\n",
    "        be cast to. If you only specify a single datatype, it will be chosen\n",
    "        for all EEG/speech features.\n",
    "\n",
    "    Returns\n",
    "    -------\n",
    "    tf.data.Dataset\n",
    "        A Dataset object that generates data to train/evaluate models\n",
    "        efficiently\n",
    "    \"\"\"\n",
    "    # create tf dataset from generator\n",
    "    dataset = tf.data.Dataset.from_generator(\n",
    "        data_generator,\n",
    "        output_signature=tuple(\n",
    "            tf.TensorSpec(shape=(None, x), dtype=data_types[index])\n",
    "            for index, x in enumerate(feature_dims)\n",
    "        ),\n",
    "    )\n",
    "    # window dataset\n",
    "    dataset = dataset.map(\n",
    "        lambda *args: [\n",
    "            tf.signal.frame(arg, window_length, hop_length, axis=0)\n",
    "            for arg in args\n",
    "        ],\n",
    "        num_parallel_calls=tf.data.AUTOTUNE\n",
    "    )\n",
    "\n",
    "    if number_mismatch is not None:\n",
    "        # map second argument to shifted version\n",
    "\n",
    "\n",
    "        dataset = dataset.map( lambda *args : shuffle_fn(args, number_mismatch),\n",
    "\n",
    "            num_parallel_calls=tf.data.AUTOTUNE\n",
    "        )\n",
    "    # batch data\n",
    "    dataset = dataset.interleave(\n",
    "        lambda *args: tf.data.Dataset.from_tensor_slices(args),\n",
    "        cycle_length=8,\n",
    "        block_length=1,\n",
    "        num_parallel_calls=tf.data.AUTOTUNE,\n",
    "    )\n",
    "    if batch_size is not None:\n",
    "        dataset = dataset.batch(batch_size, drop_remainder=True)\n",
    "\n",
    "    if batch_equalizer_fn is not None:\n",
    "        # Create the labels and make sure classes are balanced\n",
    "        dataset = dataset.map(batch_equalizer_fn,\n",
    "                              num_parallel_calls=tf.data.AUTOTUNE)\n",
    "\n",
    "    return dataset\n",
    "\n",
    "\n",
    "def group_recordings(files):\n",
    "    \"\"\"Group recordings and corresponding stimuli.\n",
    "\n",
    "    Parameters\n",
    "    ----------\n",
    "    files : Sequence[Union[str, pathlib.Path]]\n",
    "        List of filepaths to preprocessed and split EEG and speech features\n",
    "\n",
    "    Returns\n",
    "    -------\n",
    "    list\n",
    "        Files grouped by the self.group_key_fn and subsequently sorted\n",
    "        by the self.feature_sort_fn.\n",
    "    \"\"\"\n",
    "    new_files = []\n",
    "    grouped = itertools.groupby(sorted(files), lambda x: \"_-_\".join(os.path.basename(x).split(\"_-_\")[:3]))\n",
    "    for recording_name, feature_paths in grouped:\n",
    "        new_files += [sorted(feature_paths, key=lambda x: \"0\" if x == \"eeg\" else x)]\n",
    "    return new_files\n",
    "\n",
    "\n",
    "\n",
    "class DataGenerator:\n",
    "    \"\"\"Generate data for the Match/Mismatch task.\"\"\"\n",
    "\n",
    "    def __init__(\n",
    "        self,\n",
    "        files,\n",
    "        window_length,\n",
    "    ):\n",
    "        \"\"\"Initialize the DataGenerator.\n",
    "\n",
    "        Parameters\n",
    "        ----------\n",
    "        files: Sequence[Union[str, pathlib.Path]]\n",
    "            Files to load.\n",
    "        window_length: int\n",
    "            Length of the decision window.\n",
    "        spacing: int\n",
    "            Spacing between matched and mismatched samples\n",
    "        \"\"\"\n",
    "        self.window_length = window_length\n",
    "        self.files = self.group_recordings(files)\n",
    "\n",
    "\n",
    "    def group_recordings(self, files):\n",
    "        \"\"\"Group recordings and corresponding stimuli.\n",
    "\n",
    "        Parameters\n",
    "        ----------\n",
    "        files : Sequence[Union[str, pathlib.Path]]\n",
    "            List of filepaths to preprocessed and split EEG and speech features\n",
    "\n",
    "        Returns\n",
    "        -------\n",
    "        list\n",
    "            Files grouped by the self.group_key_fn and subsequently sorted\n",
    "            by the self.feature_sort_fn.\n",
    "        \"\"\"\n",
    "        new_files = []\n",
    "        grouped = itertools.groupby(sorted(files), lambda x: \"_-_\".join(os.path.basename(x).split(\"_-_\")[:3]))\n",
    "        for recording_name, feature_paths in grouped:\n",
    "            new_files += [sorted(feature_paths, key=lambda x: \"0\" if x == \"eeg\" else x)]\n",
    "        return new_files\n",
    "\n",
    "    def __len__(self):\n",
    "        return len(self.files)\n",
    "\n",
    "    def __getitem__(self, recording_index):\n",
    "        \"\"\"Get data for a certain recording.\n",
    "\n",
    "        Parameters\n",
    "        ----------\n",
    "        recording_index: int\n",
    "            Index of the recording in this dataset\n",
    "\n",
    "        Returns\n",
    "        -------\n",
    "        Union[Tuple[tf.Tensor,...], Tuple[np.ndarray,...]]\n",
    "            The features corresponding to the recording_index recording\n",
    "        \"\"\"\n",
    "        data = []\n",
    "        for feature in self.files[recording_index]:\n",
    "            f = np.load(feature).astype(np.float32)\n",
    "            if f.ndim == 1:\n",
    "                f = f[:,None]\n",
    "\n",
    "            data += [f]\n",
    "        data = self.prepare_data(data)\n",
    "        return tuple(tf.constant(x) for x in data)\n",
    "\n",
    "\n",
    "    def __call__(self):\n",
    "        \"\"\"Load data for the next recording.\n",
    "\n",
    "        Yields\n",
    "        -------\n",
    "        Union[Tuple[tf.Tensor,...], Tuple[np.ndarray,...]]\n",
    "            The features corresponding to the recording_index recording\n",
    "        \"\"\"\n",
    "        for idx in range(self.__len__()):\n",
    "            yield self.__getitem__(idx)\n",
    "\n",
    "            if idx == self.__len__() - 1:\n",
    "                self.on_epoch_end()\n",
    "\n",
    "    def on_epoch_end(self):\n",
    "        \"\"\"Change state at the end of an epoch.\"\"\"\n",
    "        np.random.shuffle(self.files)\n",
    "\n",
    "    def prepare_data(self, data):\n",
    "        # make sure data has dimensionality of (n_samples, n_features)\n",
    "\n",
    "\n",
    "        return data\n",
    "\n"
   ]
  },
  {
   "cell_type": "code",
   "execution_count": 6,
   "metadata": {},
   "outputs": [
    {
     "name": "stderr",
     "output_type": "stream",
     "text": [
      "2023-11-20 14:34:41.599441: I tensorflow/core/common_runtime/gpu/gpu_device.cc:1929] Created device /job:localhost/replica:0/task:0/device:GPU:0 with 43412 MB memory:  -> device: 0, name: NVIDIA L40, pci bus id: 0000:24:00.0, compute capability: 8.9\n"
     ]
    },
    {
     "name": "stdout",
     "output_type": "stream",
     "text": [
      "Model: \"model\"\n",
      "__________________________________________________________________________________________________\n",
      " Layer (type)                Output Shape                 Param #   Connected to                  \n",
      "==================================================================================================\n",
      " input_1 (InputLayer)        [(None, 320, 64)]            0         []                            \n",
      "                                                                                                  \n",
      " conv1d (Conv1D)             (None, 320, 8)               520       ['input_1[0][0]']             \n",
      "                                                                                                  \n",
      " input_2 (InputLayer)        [(None, 320, 1)]             0         []                            \n",
      "                                                                                                  \n",
      " input_3 (InputLayer)        [(None, 320, 1)]             0         []                            \n",
      "                                                                                                  \n",
      " input_4 (InputLayer)        [(None, 320, 1)]             0         []                            \n",
      "                                                                                                  \n",
      " input_5 (InputLayer)        [(None, 320, 1)]             0         []                            \n",
      "                                                                                                  \n",
      " input_6 (InputLayer)        [(None, 320, 1)]             0         []                            \n",
      "                                                                                                  \n",
      " conv1d_1 (Conv1D)           (None, 318, 16)              400       ['conv1d[0][0]']              \n",
      "                                                                                                  \n",
      " conv1d_2 (Conv1D)           (None, 318, 16)              64        ['input_2[0][0]',             \n",
      "                                                                     'input_3[0][0]',             \n",
      "                                                                     'input_4[0][0]',             \n",
      "                                                                     'input_5[0][0]',             \n",
      "                                                                     'input_6[0][0]']             \n",
      "                                                                                                  \n",
      " conv1d_3 (Conv1D)           (None, 312, 16)              784       ['conv1d_1[0][0]']            \n",
      "                                                                                                  \n",
      " conv1d_4 (Conv1D)           (None, 312, 16)              784       ['conv1d_2[0][0]',            \n",
      "                                                                     'conv1d_2[1][0]',            \n",
      "                                                                     'conv1d_2[2][0]',            \n",
      "                                                                     'conv1d_2[3][0]',            \n",
      "                                                                     'conv1d_2[4][0]']            \n",
      "                                                                                                  \n",
      " conv1d_5 (Conv1D)           (None, 294, 16)              784       ['conv1d_3[0][0]']            \n",
      "                                                                                                  \n",
      " conv1d_6 (Conv1D)           (None, 294, 16)              784       ['conv1d_4[0][0]',            \n",
      "                                                                     'conv1d_4[1][0]',            \n",
      "                                                                     'conv1d_4[2][0]',            \n",
      "                                                                     'conv1d_4[3][0]',            \n",
      "                                                                     'conv1d_4[4][0]']            \n",
      "                                                                                                  \n",
      " dot (Dot)                   (None, 16, 16)               0         ['conv1d_5[0][0]',            \n",
      "                                                                     'conv1d_6[0][0]']            \n",
      "                                                                                                  \n",
      " dot_1 (Dot)                 (None, 16, 16)               0         ['conv1d_5[0][0]',            \n",
      "                                                                     'conv1d_6[1][0]']            \n",
      "                                                                                                  \n",
      " dot_2 (Dot)                 (None, 16, 16)               0         ['conv1d_5[0][0]',            \n",
      "                                                                     'conv1d_6[2][0]']            \n",
      "                                                                                                  \n",
      " dot_3 (Dot)                 (None, 16, 16)               0         ['conv1d_5[0][0]',            \n",
      "                                                                     'conv1d_6[3][0]']            \n",
      "                                                                                                  \n",
      " dot_4 (Dot)                 (None, 16, 16)               0         ['conv1d_5[0][0]',            \n",
      "                                                                     'conv1d_6[4][0]']            \n",
      "                                                                                                  \n",
      " flatten (Flatten)           (None, 256)                  0         ['dot[0][0]']                 \n",
      "                                                                                                  \n",
      " flatten_1 (Flatten)         (None, 256)                  0         ['dot_1[0][0]']               \n",
      "                                                                                                  \n",
      " flatten_2 (Flatten)         (None, 256)                  0         ['dot_2[0][0]']               \n",
      "                                                                                                  \n",
      " flatten_3 (Flatten)         (None, 256)                  0         ['dot_3[0][0]']               \n",
      "                                                                                                  \n",
      " flatten_4 (Flatten)         (None, 256)                  0         ['dot_4[0][0]']               \n",
      "                                                                                                  \n",
      " dense (Dense)               (None, 1)                    257       ['flatten[0][0]',             \n",
      "                                                                     'flatten_1[0][0]',           \n",
      "                                                                     'flatten_2[0][0]',           \n",
      "                                                                     'flatten_3[0][0]',           \n",
      "                                                                     'flatten_4[0][0]']           \n",
      "                                                                                                  \n",
      " concatenate (Concatenate)   (None, 5)                    0         ['dense[0][0]',               \n",
      "                                                                     'dense[1][0]',               \n",
      "                                                                     'dense[2][0]',               \n",
      "                                                                     'dense[3][0]',               \n",
      "                                                                     'dense[4][0]']               \n",
      "                                                                                                  \n",
      " tf.nn.softmax (TFOpLambda)  (None, 5)                    0         ['concatenate[0][0]']         \n",
      "                                                                                                  \n",
      "==================================================================================================\n",
      "Total params: 4377 (17.10 KB)\n",
      "Trainable params: 4377 (17.10 KB)\n",
      "Non-trainable params: 0 (0.00 Byte)\n",
      "__________________________________________________________________________________________________\n"
     ]
    },
    {
     "name": "stdout",
     "output_type": "stream",
     "text": [
      "None\n",
      "Epoch 1/100\n"
     ]
    },
    {
     "name": "stderr",
     "output_type": "stream",
     "text": [
      "2023-11-20 14:34:45.885497: I external/local_xla/xla/stream_executor/cuda/cuda_dnn.cc:454] Loaded cuDNN version 8904\n",
      "2023-11-20 14:34:46.389673: E external/local_xla/xla/stream_executor/gpu/asm_compiler.cc:115] *** WARNING *** You are using ptxas 10.1.168, which is older than 11.1. ptxas before 11.1 is known to miscompile XLA code, leading to incorrect results or invalid-address errors.\n",
      "\n",
      "2023-11-20 14:34:46.563419: W external/local_xla/xla/stream_executor/gpu/asm_compiler.cc:225] Falling back to the CUDA driver for PTX compilation; ptxas does not support CC 8.9\n",
      "2023-11-20 14:34:46.563473: W external/local_xla/xla/stream_executor/gpu/asm_compiler.cc:228] Used ptxas at ptxas\n",
      "2023-11-20 14:34:46.563706: W external/local_xla/xla/stream_executor/gpu/redzone_allocator.cc:322] UNIMPLEMENTED: ptxas ptxas too old. Falling back to the driver to compile.\n",
      "Relying on driver to perform ptx compilation. \n",
      "Modify $PATH to customize ptxas location.\n",
      "This message will be only logged once.\n",
      "2023-11-20 14:34:46.911283: E external/local_xla/xla/stream_executor/gpu/asm_compiler.cc:115] *** WARNING *** You are using ptxas 10.1.168, which is older than 11.1. ptxas before 11.1 is known to miscompile XLA code, leading to incorrect results or invalid-address errors.\n",
      "\n",
      "2023-11-20 14:34:46.996669: E external/local_xla/xla/stream_executor/gpu/asm_compiler.cc:115] *** WARNING *** You are using ptxas 10.1.168, which is older than 11.1. ptxas before 11.1 is known to miscompile XLA code, leading to incorrect results or invalid-address errors.\n",
      "\n",
      "2023-11-20 14:34:47.109858: E external/local_xla/xla/stream_executor/gpu/asm_compiler.cc:115] *** WARNING *** You are using ptxas 10.1.168, which is older than 11.1. ptxas before 11.1 is known to miscompile XLA code, leading to incorrect results or invalid-address errors.\n",
      "\n",
      "2023-11-20 14:34:47.210094: W tensorflow/compiler/mlir/tools/kernel_gen/transforms/gpu_kernel_to_blob_pass.cc:191] Failed to compile generated PTX with ptxas. Falling back to compilation by driver.\n",
      "2023-11-20 14:34:47.218125: W tensorflow/compiler/mlir/tools/kernel_gen/transforms/gpu_kernel_to_blob_pass.cc:191] Failed to compile generated PTX with ptxas. Falling back to compilation by driver.\n",
      "2023-11-20 14:34:47.228876: E external/local_xla/xla/stream_executor/gpu/asm_compiler.cc:115] *** WARNING *** You are using ptxas 10.1.168, which is older than 11.1. ptxas before 11.1 is known to miscompile XLA code, leading to incorrect results or invalid-address errors.\n",
      "\n",
      "2023-11-20 14:34:47.324022: E external/local_xla/xla/stream_executor/gpu/asm_compiler.cc:115] *** WARNING *** You are using ptxas 10.1.168, which is older than 11.1. ptxas before 11.1 is known to miscompile XLA code, leading to incorrect results or invalid-address errors.\n",
      "\n",
      "2023-11-20 14:34:47.422362: W tensorflow/compiler/mlir/tools/kernel_gen/transforms/gpu_kernel_to_blob_pass.cc:191] Failed to compile generated PTX with ptxas. Falling back to compilation by driver.\n",
      "2023-11-20 14:34:47.534304: W tensorflow/compiler/mlir/tools/kernel_gen/transforms/gpu_kernel_to_blob_pass.cc:191] Failed to compile generated PTX with ptxas. Falling back to compilation by driver.\n",
      "2023-11-20 14:34:47.561687: W tensorflow/compiler/mlir/tools/kernel_gen/transforms/gpu_kernel_to_blob_pass.cc:191] Failed to compile generated PTX with ptxas. Falling back to compilation by driver.\n",
      "2023-11-20 14:34:48.044347: E external/local_xla/xla/stream_executor/gpu/asm_compiler.cc:115] *** WARNING *** You are using ptxas 10.1.168, which is older than 11.1. ptxas before 11.1 is known to miscompile XLA code, leading to incorrect results or invalid-address errors.\n",
      "\n",
      "2023-11-20 14:34:48.164297: E external/local_xla/xla/stream_executor/gpu/asm_compiler.cc:115] *** WARNING *** You are using ptxas 10.1.168, which is older than 11.1. ptxas before 11.1 is known to miscompile XLA code, leading to incorrect results or invalid-address errors.\n",
      "\n",
      "2023-11-20 14:34:48.271575: E external/local_xla/xla/stream_executor/gpu/asm_compiler.cc:115] *** WARNING *** You are using ptxas 10.1.168, which is older than 11.1. ptxas before 11.1 is known to miscompile XLA code, leading to incorrect results or invalid-address errors.\n",
      "\n",
      "2023-11-20 14:34:48.375459: W tensorflow/compiler/mlir/tools/kernel_gen/transforms/gpu_kernel_to_blob_pass.cc:191] Failed to compile generated PTX with ptxas. Falling back to compilation by driver.\n",
      "2023-11-20 14:34:48.386868: E external/local_xla/xla/stream_executor/gpu/asm_compiler.cc:115] *** WARNING *** You are using ptxas 10.1.168, which is older than 11.1. ptxas before 11.1 is known to miscompile XLA code, leading to incorrect results or invalid-address errors.\n",
      "\n",
      "2023-11-20 14:34:48.487098: W tensorflow/compiler/mlir/tools/kernel_gen/transforms/gpu_kernel_to_blob_pass.cc:191] Failed to compile generated PTX with ptxas. Falling back to compilation by driver.\n",
      "2023-11-20 14:34:48.505043: E external/local_xla/xla/stream_executor/gpu/asm_compiler.cc:115] *** WARNING *** You are using ptxas 10.1.168, which is older than 11.1. ptxas before 11.1 is known to miscompile XLA code, leading to incorrect results or invalid-address errors.\n",
      "\n",
      "2023-11-20 14:34:48.615431: W tensorflow/compiler/mlir/tools/kernel_gen/transforms/gpu_kernel_to_blob_pass.cc:191] Failed to compile generated PTX with ptxas. Falling back to compilation by driver.\n",
      "2023-11-20 14:34:48.623651: E external/local_xla/xla/stream_executor/gpu/asm_compiler.cc:115] *** WARNING *** You are using ptxas 10.1.168, which is older than 11.1. ptxas before 11.1 is known to miscompile XLA code, leading to incorrect results or invalid-address errors.\n",
      "\n",
      "2023-11-20 14:34:48.729303: W tensorflow/compiler/mlir/tools/kernel_gen/transforms/gpu_kernel_to_blob_pass.cc:191] Failed to compile generated PTX with ptxas. Falling back to compilation by driver.\n",
      "2023-11-20 14:34:48.775430: W tensorflow/compiler/mlir/tools/kernel_gen/transforms/gpu_kernel_to_blob_pass.cc:191] Failed to compile generated PTX with ptxas. Falling back to compilation by driver.\n",
      "2023-11-20 14:34:48.889198: W tensorflow/compiler/mlir/tools/kernel_gen/transforms/gpu_kernel_to_blob_pass.cc:191] Failed to compile generated PTX with ptxas. Falling back to compilation by driver.\n",
      "2023-11-20 14:34:48.951437: E external/local_xla/xla/stream_executor/gpu/asm_compiler.cc:115] *** WARNING *** You are using ptxas 10.1.168, which is older than 11.1. ptxas before 11.1 is known to miscompile XLA code, leading to incorrect results or invalid-address errors.\n",
      "\n",
      "2023-11-20 14:34:49.110319: E external/local_xla/xla/stream_executor/gpu/asm_compiler.cc:115] *** WARNING *** You are using ptxas 10.1.168, which is older than 11.1. ptxas before 11.1 is known to miscompile XLA code, leading to incorrect results or invalid-address errors.\n",
      "\n",
      "2023-11-20 14:34:49.114487: E external/local_xla/xla/stream_executor/gpu/asm_compiler.cc:115] *** WARNING *** You are using ptxas 10.1.168, which is older than 11.1. ptxas before 11.1 is known to miscompile XLA code, leading to incorrect results or invalid-address errors.\n",
      "\n",
      "2023-11-20 14:34:49.117044: E external/local_xla/xla/stream_executor/gpu/asm_compiler.cc:115] *** WARNING *** You are using ptxas 10.1.168, which is older than 11.1. ptxas before 11.1 is known to miscompile XLA code, leading to incorrect results or invalid-address errors.\n",
      "\n",
      "2023-11-20 14:34:49.246223: W tensorflow/compiler/mlir/tools/kernel_gen/transforms/gpu_kernel_to_blob_pass.cc:191] Failed to compile generated PTX with ptxas. Falling back to compilation by driver.\n",
      "2023-11-20 14:34:49.392073: E external/local_xla/xla/stream_executor/gpu/asm_compiler.cc:115] *** WARNING *** You are using ptxas 10.1.168, which is older than 11.1. ptxas before 11.1 is known to miscompile XLA code, leading to incorrect results or invalid-address errors.\n",
      "\n",
      "2023-11-20 14:34:49.394814: E external/local_xla/xla/stream_executor/gpu/asm_compiler.cc:115] *** WARNING *** You are using ptxas 10.1.168, which is older than 11.1. ptxas before 11.1 is known to miscompile XLA code, leading to incorrect results or invalid-address errors.\n",
      "\n",
      "2023-11-20 14:34:49.396891: E external/local_xla/xla/stream_executor/gpu/asm_compiler.cc:115] *** WARNING *** You are using ptxas 10.1.168, which is older than 11.1. ptxas before 11.1 is known to miscompile XLA code, leading to incorrect results or invalid-address errors.\n",
      "\n",
      "2023-11-20 14:34:49.397804: E external/local_xla/xla/stream_executor/gpu/asm_compiler.cc:115] *** WARNING *** You are using ptxas 10.1.168, which is older than 11.1. ptxas before 11.1 is known to miscompile XLA code, leading to incorrect results or invalid-address errors.\n",
      "\n",
      "2023-11-20 14:34:49.404042: W tensorflow/compiler/mlir/tools/kernel_gen/transforms/gpu_kernel_to_blob_pass.cc:191] Failed to compile generated PTX with ptxas. Falling back to compilation by driver.\n",
      "2023-11-20 14:34:49.407556: E external/local_xla/xla/stream_executor/gpu/asm_compiler.cc:115] *** WARNING *** You are using ptxas 10.1.168, which is older than 11.1. ptxas before 11.1 is known to miscompile XLA code, leading to incorrect results or invalid-address errors.\n",
      "\n",
      "2023-11-20 14:34:49.407828: E external/local_xla/xla/stream_executor/gpu/asm_compiler.cc:115] *** WARNING *** You are using ptxas 10.1.168, which is older than 11.1. ptxas before 11.1 is known to miscompile XLA code, leading to incorrect results or invalid-address errors.\n",
      "\n",
      "2023-11-20 14:34:49.408597: E external/local_xla/xla/stream_executor/gpu/asm_compiler.cc:115] *** WARNING *** You are using ptxas 10.1.168, which is older than 11.1. ptxas before 11.1 is known to miscompile XLA code, leading to incorrect results or invalid-address errors.\n",
      "\n",
      "2023-11-20 14:34:49.558181: W tensorflow/compiler/mlir/tools/kernel_gen/transforms/gpu_kernel_to_blob_pass.cc:191] Failed to compile generated PTX with ptxas. Falling back to compilation by driver.\n",
      "2023-11-20 14:34:49.559359: E external/local_xla/xla/stream_executor/gpu/asm_compiler.cc:115] *** WARNING *** You are using ptxas 10.1.168, which is older than 11.1. ptxas before 11.1 is known to miscompile XLA code, leading to incorrect results or invalid-address errors.\n",
      "\n",
      "2023-11-20 14:34:49.696697: E external/local_xla/xla/stream_executor/gpu/asm_compiler.cc:115] *** WARNING *** You are using ptxas 10.1.168, which is older than 11.1. ptxas before 11.1 is known to miscompile XLA code, leading to incorrect results or invalid-address errors.\n",
      "\n",
      "2023-11-20 14:34:49.818003: E external/local_xla/xla/stream_executor/gpu/asm_compiler.cc:115] *** WARNING *** You are using ptxas 10.1.168, which is older than 11.1. ptxas before 11.1 is known to miscompile XLA code, leading to incorrect results or invalid-address errors.\n",
      "\n",
      "2023-11-20 14:34:49.926000: W tensorflow/compiler/mlir/tools/kernel_gen/transforms/gpu_kernel_to_blob_pass.cc:191] Failed to compile generated PTX with ptxas. Falling back to compilation by driver.\n",
      "2023-11-20 14:34:49.926532: E external/local_xla/xla/stream_executor/gpu/asm_compiler.cc:115] *** WARNING *** You are using ptxas 10.1.168, which is older than 11.1. ptxas before 11.1 is known to miscompile XLA code, leading to incorrect results or invalid-address errors.\n",
      "\n",
      "2023-11-20 14:34:49.927047: E external/local_xla/xla/stream_executor/gpu/asm_compiler.cc:115] *** WARNING *** You are using ptxas 10.1.168, which is older than 11.1. ptxas before 11.1 is known to miscompile XLA code, leading to incorrect results or invalid-address errors.\n",
      "\n",
      "2023-11-20 14:34:50.049823: W tensorflow/compiler/mlir/tools/kernel_gen/transforms/gpu_kernel_to_blob_pass.cc:191] Failed to compile generated PTX with ptxas. Falling back to compilation by driver.\n",
      "2023-11-20 14:34:50.050503: E external/local_xla/xla/stream_executor/gpu/asm_compiler.cc:115] *** WARNING *** You are using ptxas 10.1.168, which is older than 11.1. ptxas before 11.1 is known to miscompile XLA code, leading to incorrect results or invalid-address errors.\n",
      "\n",
      "2023-11-20 14:34:50.051202: W tensorflow/compiler/mlir/tools/kernel_gen/transforms/gpu_kernel_to_blob_pass.cc:191] Failed to compile generated PTX with ptxas. Falling back to compilation by driver.\n",
      "2023-11-20 14:34:50.056653: E external/local_xla/xla/stream_executor/gpu/asm_compiler.cc:115] *** WARNING *** You are using ptxas 10.1.168, which is older than 11.1. ptxas before 11.1 is known to miscompile XLA code, leading to incorrect results or invalid-address errors.\n",
      "\n",
      "2023-11-20 14:34:50.169555: W tensorflow/compiler/mlir/tools/kernel_gen/transforms/gpu_kernel_to_blob_pass.cc:191] Failed to compile generated PTX with ptxas. Falling back to compilation by driver.\n",
      "2023-11-20 14:34:50.169995: E external/local_xla/xla/stream_executor/gpu/asm_compiler.cc:115] *** WARNING *** You are using ptxas 10.1.168, which is older than 11.1. ptxas before 11.1 is known to miscompile XLA code, leading to incorrect results or invalid-address errors.\n",
      "\n",
      "2023-11-20 14:34:50.170562: E external/local_xla/xla/stream_executor/gpu/asm_compiler.cc:115] *** WARNING *** You are using ptxas 10.1.168, which is older than 11.1. ptxas before 11.1 is known to miscompile XLA code, leading to incorrect results or invalid-address errors.\n",
      "\n",
      "2023-11-20 14:34:50.171247: E external/local_xla/xla/stream_executor/gpu/asm_compiler.cc:115] *** WARNING *** You are using ptxas 10.1.168, which is older than 11.1. ptxas before 11.1 is known to miscompile XLA code, leading to incorrect results or invalid-address errors.\n",
      "\n",
      "2023-11-20 14:34:50.276312: W tensorflow/compiler/mlir/tools/kernel_gen/transforms/gpu_kernel_to_blob_pass.cc:191] Failed to compile generated PTX with ptxas. Falling back to compilation by driver.\n",
      "2023-11-20 14:34:50.277075: E external/local_xla/xla/stream_executor/gpu/asm_compiler.cc:115] *** WARNING *** You are using ptxas 10.1.168, which is older than 11.1. ptxas before 11.1 is known to miscompile XLA code, leading to incorrect results or invalid-address errors.\n",
      "\n",
      "2023-11-20 14:34:50.277207: E external/local_xla/xla/stream_executor/gpu/asm_compiler.cc:115] *** WARNING *** You are using ptxas 10.1.168, which is older than 11.1. ptxas before 11.1 is known to miscompile XLA code, leading to incorrect results or invalid-address errors.\n",
      "\n",
      "2023-11-20 14:34:50.402813: E external/local_xla/xla/stream_executor/gpu/asm_compiler.cc:115] *** WARNING *** You are using ptxas 10.1.168, which is older than 11.1. ptxas before 11.1 is known to miscompile XLA code, leading to incorrect results or invalid-address errors.\n",
      "\n",
      "2023-11-20 14:34:50.407473: W tensorflow/compiler/mlir/tools/kernel_gen/transforms/gpu_kernel_to_blob_pass.cc:191] Failed to compile generated PTX with ptxas. Falling back to compilation by driver.\n",
      "2023-11-20 14:34:50.528399: E external/local_xla/xla/stream_executor/gpu/asm_compiler.cc:115] *** WARNING *** You are using ptxas 10.1.168, which is older than 11.1. ptxas before 11.1 is known to miscompile XLA code, leading to incorrect results or invalid-address errors.\n",
      "\n",
      "2023-11-20 14:34:50.636597: W tensorflow/compiler/mlir/tools/kernel_gen/transforms/gpu_kernel_to_blob_pass.cc:191] Failed to compile generated PTX with ptxas. Falling back to compilation by driver.\n",
      "2023-11-20 14:34:50.760213: W tensorflow/compiler/mlir/tools/kernel_gen/transforms/gpu_kernel_to_blob_pass.cc:191] Failed to compile generated PTX with ptxas. Falling back to compilation by driver.\n",
      "2023-11-20 14:34:51.008590: W tensorflow/compiler/mlir/tools/kernel_gen/transforms/gpu_kernel_to_blob_pass.cc:191] Failed to compile generated PTX with ptxas. Falling back to compilation by driver.\n",
      "2023-11-20 14:34:51.009724: W tensorflow/compiler/mlir/tools/kernel_gen/transforms/gpu_kernel_to_blob_pass.cc:191] Failed to compile generated PTX with ptxas. Falling back to compilation by driver.\n",
      "2023-11-20 14:34:51.010152: E external/local_xla/xla/stream_executor/gpu/asm_compiler.cc:115] *** WARNING *** You are using ptxas 10.1.168, which is older than 11.1. ptxas before 11.1 is known to miscompile XLA code, leading to incorrect results or invalid-address errors.\n",
      "\n",
      "2023-11-20 14:34:51.120764: W tensorflow/compiler/mlir/tools/kernel_gen/transforms/gpu_kernel_to_blob_pass.cc:191] Failed to compile generated PTX with ptxas. Falling back to compilation by driver.\n",
      "2023-11-20 14:34:51.121964: W tensorflow/compiler/mlir/tools/kernel_gen/transforms/gpu_kernel_to_blob_pass.cc:191] Failed to compile generated PTX with ptxas. Falling back to compilation by driver.\n",
      "2023-11-20 14:34:51.122866: E external/local_xla/xla/stream_executor/gpu/asm_compiler.cc:115] *** WARNING *** You are using ptxas 10.1.168, which is older than 11.1. ptxas before 11.1 is known to miscompile XLA code, leading to incorrect results or invalid-address errors.\n",
      "\n",
      "2023-11-20 14:34:51.244679: E external/local_xla/xla/stream_executor/gpu/asm_compiler.cc:115] *** WARNING *** You are using ptxas 10.1.168, which is older than 11.1. ptxas before 11.1 is known to miscompile XLA code, leading to incorrect results or invalid-address errors.\n",
      "\n",
      "2023-11-20 14:34:51.247435: W tensorflow/compiler/mlir/tools/kernel_gen/transforms/gpu_kernel_to_blob_pass.cc:191] Failed to compile generated PTX with ptxas. Falling back to compilation by driver.\n",
      "2023-11-20 14:34:51.368589: E external/local_xla/xla/stream_executor/gpu/asm_compiler.cc:115] *** WARNING *** You are using ptxas 10.1.168, which is older than 11.1. ptxas before 11.1 is known to miscompile XLA code, leading to incorrect results or invalid-address errors.\n",
      "\n",
      "2023-11-20 14:34:51.368812: W tensorflow/compiler/mlir/tools/kernel_gen/transforms/gpu_kernel_to_blob_pass.cc:191] Failed to compile generated PTX with ptxas. Falling back to compilation by driver.\n",
      "2023-11-20 14:34:51.592193: W tensorflow/compiler/mlir/tools/kernel_gen/transforms/gpu_kernel_to_blob_pass.cc:191] Failed to compile generated PTX with ptxas. Falling back to compilation by driver.\n",
      "2023-11-20 14:34:51.710859: W tensorflow/compiler/mlir/tools/kernel_gen/transforms/gpu_kernel_to_blob_pass.cc:191] Failed to compile generated PTX with ptxas. Falling back to compilation by driver.\n",
      "2023-11-20 14:34:51.836387: W tensorflow/compiler/mlir/tools/kernel_gen/transforms/gpu_kernel_to_blob_pass.cc:191] Failed to compile generated PTX with ptxas. Falling back to compilation by driver.\n",
      "2023-11-20 14:34:51.954511: W tensorflow/compiler/mlir/tools/kernel_gen/transforms/gpu_kernel_to_blob_pass.cc:191] Failed to compile generated PTX with ptxas. Falling back to compilation by driver.\n",
      "2023-11-20 14:34:51.954972: W tensorflow/compiler/mlir/tools/kernel_gen/transforms/gpu_kernel_to_blob_pass.cc:191] Failed to compile generated PTX with ptxas. Falling back to compilation by driver.\n",
      "2023-11-20 14:34:52.212014: W tensorflow/compiler/mlir/tools/kernel_gen/transforms/gpu_kernel_to_blob_pass.cc:191] Failed to compile generated PTX with ptxas. Falling back to compilation by driver.\n",
      "2023-11-20 14:34:52.334429: W tensorflow/compiler/mlir/tools/kernel_gen/transforms/gpu_kernel_to_blob_pass.cc:191] Failed to compile generated PTX with ptxas. Falling back to compilation by driver.\n",
      "2023-11-20 14:34:52.439629: W tensorflow/compiler/mlir/tools/kernel_gen/transforms/gpu_kernel_to_blob_pass.cc:191] Failed to compile generated PTX with ptxas. Falling back to compilation by driver.\n",
      "2023-11-20 14:34:52.561975: W tensorflow/compiler/mlir/tools/kernel_gen/transforms/gpu_kernel_to_blob_pass.cc:191] Failed to compile generated PTX with ptxas. Falling back to compilation by driver.\n",
      "2023-11-20 14:34:52.570660: E external/local_xla/xla/stream_executor/gpu/asm_compiler.cc:115] *** WARNING *** You are using ptxas 10.1.168, which is older than 11.1. ptxas before 11.1 is known to miscompile XLA code, leading to incorrect results or invalid-address errors.\n",
      "\n",
      "2023-11-20 14:34:52.570985: E external/local_xla/xla/stream_executor/gpu/asm_compiler.cc:115] *** WARNING *** You are using ptxas 10.1.168, which is older than 11.1. ptxas before 11.1 is known to miscompile XLA code, leading to incorrect results or invalid-address errors.\n",
      "\n"
     ]
    },
    {
     "name": "stderr",
     "output_type": "stream",
     "text": [
      "2023-11-20 14:34:52.703746: W tensorflow/compiler/mlir/tools/kernel_gen/transforms/gpu_kernel_to_blob_pass.cc:191] Failed to compile generated PTX with ptxas. Falling back to compilation by driver.\n",
      "2023-11-20 14:34:52.820693: W tensorflow/compiler/mlir/tools/kernel_gen/transforms/gpu_kernel_to_blob_pass.cc:191] Failed to compile generated PTX with ptxas. Falling back to compilation by driver.\n",
      "2023-11-20 14:34:52.821384: W tensorflow/compiler/mlir/tools/kernel_gen/transforms/gpu_kernel_to_blob_pass.cc:191] Failed to compile generated PTX with ptxas. Falling back to compilation by driver.\n",
      "2023-11-20 14:34:52.842583: E external/local_xla/xla/stream_executor/gpu/asm_compiler.cc:115] *** WARNING *** You are using ptxas 10.1.168, which is older than 11.1. ptxas before 11.1 is known to miscompile XLA code, leading to incorrect results or invalid-address errors.\n",
      "\n",
      "2023-11-20 14:34:52.973613: W tensorflow/compiler/mlir/tools/kernel_gen/transforms/gpu_kernel_to_blob_pass.cc:191] Failed to compile generated PTX with ptxas. Falling back to compilation by driver.\n",
      "2023-11-20 14:34:52.974149: W tensorflow/compiler/mlir/tools/kernel_gen/transforms/gpu_kernel_to_blob_pass.cc:191] Failed to compile generated PTX with ptxas. Falling back to compilation by driver.\n",
      "2023-11-20 14:34:52.989027: E external/local_xla/xla/stream_executor/gpu/asm_compiler.cc:115] *** WARNING *** You are using ptxas 10.1.168, which is older than 11.1. ptxas before 11.1 is known to miscompile XLA code, leading to incorrect results or invalid-address errors.\n",
      "\n",
      "2023-11-20 14:34:53.114870: W tensorflow/compiler/mlir/tools/kernel_gen/transforms/gpu_kernel_to_blob_pass.cc:191] Failed to compile generated PTX with ptxas. Falling back to compilation by driver.\n",
      "2023-11-20 14:34:53.127529: E external/local_xla/xla/stream_executor/gpu/asm_compiler.cc:115] *** WARNING *** You are using ptxas 10.1.168, which is older than 11.1. ptxas before 11.1 is known to miscompile XLA code, leading to incorrect results or invalid-address errors.\n",
      "\n",
      "2023-11-20 14:34:53.256345: E external/local_xla/xla/stream_executor/gpu/asm_compiler.cc:115] *** WARNING *** You are using ptxas 10.1.168, which is older than 11.1. ptxas before 11.1 is known to miscompile XLA code, leading to incorrect results or invalid-address errors.\n",
      "\n",
      "2023-11-20 14:34:53.372906: W tensorflow/compiler/mlir/tools/kernel_gen/transforms/gpu_kernel_to_blob_pass.cc:191] Failed to compile generated PTX with ptxas. Falling back to compilation by driver.\n",
      "2023-11-20 14:34:53.374307: E external/local_xla/xla/stream_executor/gpu/asm_compiler.cc:115] *** WARNING *** You are using ptxas 10.1.168, which is older than 11.1. ptxas before 11.1 is known to miscompile XLA code, leading to incorrect results or invalid-address errors.\n",
      "\n",
      "2023-11-20 14:34:53.499268: W tensorflow/compiler/mlir/tools/kernel_gen/transforms/gpu_kernel_to_blob_pass.cc:191] Failed to compile generated PTX with ptxas. Falling back to compilation by driver.\n",
      "2023-11-20 14:34:53.502953: E external/local_xla/xla/stream_executor/gpu/asm_compiler.cc:115] *** WARNING *** You are using ptxas 10.1.168, which is older than 11.1. ptxas before 11.1 is known to miscompile XLA code, leading to incorrect results or invalid-address errors.\n",
      "\n",
      "2023-11-20 14:34:53.503046: E external/local_xla/xla/stream_executor/gpu/asm_compiler.cc:115] *** WARNING *** You are using ptxas 10.1.168, which is older than 11.1. ptxas before 11.1 is known to miscompile XLA code, leading to incorrect results or invalid-address errors.\n",
      "\n",
      "2023-11-20 14:34:53.743926: W tensorflow/compiler/mlir/tools/kernel_gen/transforms/gpu_kernel_to_blob_pass.cc:191] Failed to compile generated PTX with ptxas. Falling back to compilation by driver.\n",
      "2023-11-20 14:34:53.744541: W tensorflow/compiler/mlir/tools/kernel_gen/transforms/gpu_kernel_to_blob_pass.cc:191] Failed to compile generated PTX with ptxas. Falling back to compilation by driver.\n",
      "2023-11-20 14:34:53.750581: E external/local_xla/xla/stream_executor/gpu/asm_compiler.cc:115] *** WARNING *** You are using ptxas 10.1.168, which is older than 11.1. ptxas before 11.1 is known to miscompile XLA code, leading to incorrect results or invalid-address errors.\n",
      "\n",
      "2023-11-20 14:34:53.853644: W tensorflow/compiler/mlir/tools/kernel_gen/transforms/gpu_kernel_to_blob_pass.cc:191] Failed to compile generated PTX with ptxas. Falling back to compilation by driver.\n",
      "2023-11-20 14:34:53.860372: E external/local_xla/xla/stream_executor/gpu/asm_compiler.cc:115] *** WARNING *** You are using ptxas 10.1.168, which is older than 11.1. ptxas before 11.1 is known to miscompile XLA code, leading to incorrect results or invalid-address errors.\n",
      "\n",
      "2023-11-20 14:34:53.972463: W tensorflow/compiler/mlir/tools/kernel_gen/transforms/gpu_kernel_to_blob_pass.cc:191] Failed to compile generated PTX with ptxas. Falling back to compilation by driver.\n",
      "2023-11-20 14:34:53.999489: W tensorflow/compiler/mlir/tools/kernel_gen/transforms/gpu_kernel_to_blob_pass.cc:191] Failed to compile generated PTX with ptxas. Falling back to compilation by driver.\n",
      "2023-11-20 14:34:54.116739: E external/local_xla/xla/stream_executor/gpu/asm_compiler.cc:115] *** WARNING *** You are using ptxas 10.1.168, which is older than 11.1. ptxas before 11.1 is known to miscompile XLA code, leading to incorrect results or invalid-address errors.\n",
      "\n",
      "2023-11-20 14:34:54.116947: E external/local_xla/xla/stream_executor/gpu/asm_compiler.cc:115] *** WARNING *** You are using ptxas 10.1.168, which is older than 11.1. ptxas before 11.1 is known to miscompile XLA code, leading to incorrect results or invalid-address errors.\n",
      "\n",
      "2023-11-20 14:34:54.325572: W tensorflow/compiler/mlir/tools/kernel_gen/transforms/gpu_kernel_to_blob_pass.cc:191] Failed to compile generated PTX with ptxas. Falling back to compilation by driver.\n",
      "2023-11-20 14:34:54.332445: E external/local_xla/xla/stream_executor/gpu/asm_compiler.cc:115] *** WARNING *** You are using ptxas 10.1.168, which is older than 11.1. ptxas before 11.1 is known to miscompile XLA code, leading to incorrect results or invalid-address errors.\n",
      "\n",
      "2023-11-20 14:34:54.332658: E external/local_xla/xla/stream_executor/gpu/asm_compiler.cc:115] *** WARNING *** You are using ptxas 10.1.168, which is older than 11.1. ptxas before 11.1 is known to miscompile XLA code, leading to incorrect results or invalid-address errors.\n",
      "\n",
      "2023-11-20 14:34:54.451053: W tensorflow/compiler/mlir/tools/kernel_gen/transforms/gpu_kernel_to_blob_pass.cc:191] Failed to compile generated PTX with ptxas. Falling back to compilation by driver.\n",
      "2023-11-20 14:34:54.454922: E external/local_xla/xla/stream_executor/gpu/asm_compiler.cc:115] *** WARNING *** You are using ptxas 10.1.168, which is older than 11.1. ptxas before 11.1 is known to miscompile XLA code, leading to incorrect results or invalid-address errors.\n",
      "\n",
      "2023-11-20 14:34:54.578738: E external/local_xla/xla/stream_executor/gpu/asm_compiler.cc:115] *** WARNING *** You are using ptxas 10.1.168, which is older than 11.1. ptxas before 11.1 is known to miscompile XLA code, leading to incorrect results or invalid-address errors.\n",
      "\n",
      "2023-11-20 14:34:54.579189: E external/local_xla/xla/stream_executor/gpu/asm_compiler.cc:115] *** WARNING *** You are using ptxas 10.1.168, which is older than 11.1. ptxas before 11.1 is known to miscompile XLA code, leading to incorrect results or invalid-address errors.\n",
      "\n",
      "2023-11-20 14:34:54.684482: W tensorflow/compiler/mlir/tools/kernel_gen/transforms/gpu_kernel_to_blob_pass.cc:191] Failed to compile generated PTX with ptxas. Falling back to compilation by driver.\n",
      "2023-11-20 14:34:54.684808: W tensorflow/compiler/mlir/tools/kernel_gen/transforms/gpu_kernel_to_blob_pass.cc:191] Failed to compile generated PTX with ptxas. Falling back to compilation by driver.\n",
      "2023-11-20 14:34:54.915246: W tensorflow/compiler/mlir/tools/kernel_gen/transforms/gpu_kernel_to_blob_pass.cc:191] Failed to compile generated PTX with ptxas. Falling back to compilation by driver.\n",
      "2023-11-20 14:34:54.915672: W tensorflow/compiler/mlir/tools/kernel_gen/transforms/gpu_kernel_to_blob_pass.cc:191] Failed to compile generated PTX with ptxas. Falling back to compilation by driver.\n",
      "2023-11-20 14:34:54.918281: E external/local_xla/xla/stream_executor/gpu/asm_compiler.cc:115] *** WARNING *** You are using ptxas 10.1.168, which is older than 11.1. ptxas before 11.1 is known to miscompile XLA code, leading to incorrect results or invalid-address errors.\n",
      "\n",
      "2023-11-20 14:34:55.046973: W tensorflow/compiler/mlir/tools/kernel_gen/transforms/gpu_kernel_to_blob_pass.cc:191] Failed to compile generated PTX with ptxas. Falling back to compilation by driver.\n",
      "2023-11-20 14:34:55.095155: W tensorflow/compiler/mlir/tools/kernel_gen/transforms/gpu_kernel_to_blob_pass.cc:191] Failed to compile generated PTX with ptxas. Falling back to compilation by driver.\n",
      "2023-11-20 14:34:55.219698: W tensorflow/compiler/mlir/tools/kernel_gen/transforms/gpu_kernel_to_blob_pass.cc:191] Failed to compile generated PTX with ptxas. Falling back to compilation by driver.\n",
      "2023-11-20 14:34:55.233695: E external/local_xla/xla/stream_executor/gpu/asm_compiler.cc:115] *** WARNING *** You are using ptxas 10.1.168, which is older than 11.1. ptxas before 11.1 is known to miscompile XLA code, leading to incorrect results or invalid-address errors.\n",
      "\n",
      "2023-11-20 14:34:55.233818: E external/local_xla/xla/stream_executor/gpu/asm_compiler.cc:115] *** WARNING *** You are using ptxas 10.1.168, which is older than 11.1. ptxas before 11.1 is known to miscompile XLA code, leading to incorrect results or invalid-address errors.\n",
      "\n"
     ]
    },
    {
     "name": "stderr",
     "output_type": "stream",
     "text": [
      "2023-11-20 14:34:55.471480: E external/local_xla/xla/stream_executor/gpu/asm_compiler.cc:115] *** WARNING *** You are using ptxas 10.1.168, which is older than 11.1. ptxas before 11.1 is known to miscompile XLA code, leading to incorrect results or invalid-address errors.\n",
      "\n",
      "2023-11-20 14:34:55.596799: W tensorflow/compiler/mlir/tools/kernel_gen/transforms/gpu_kernel_to_blob_pass.cc:191] Failed to compile generated PTX with ptxas. Falling back to compilation by driver.\n",
      "2023-11-20 14:34:55.602510: E external/local_xla/xla/stream_executor/gpu/asm_compiler.cc:115] *** WARNING *** You are using ptxas 10.1.168, which is older than 11.1. ptxas before 11.1 is known to miscompile XLA code, leading to incorrect results or invalid-address errors.\n",
      "\n",
      "2023-11-20 14:34:55.725297: W tensorflow/compiler/mlir/tools/kernel_gen/transforms/gpu_kernel_to_blob_pass.cc:191] Failed to compile generated PTX with ptxas. Falling back to compilation by driver.\n",
      "2023-11-20 14:34:55.755661: W tensorflow/compiler/mlir/tools/kernel_gen/transforms/gpu_kernel_to_blob_pass.cc:191] Failed to compile generated PTX with ptxas. Falling back to compilation by driver.\n",
      "2023-11-20 14:34:55.773240: E external/local_xla/xla/stream_executor/gpu/asm_compiler.cc:115] *** WARNING *** You are using ptxas 10.1.168, which is older than 11.1. ptxas before 11.1 is known to miscompile XLA code, leading to incorrect results or invalid-address errors.\n",
      "\n",
      "2023-11-20 14:34:55.890471: W tensorflow/compiler/mlir/tools/kernel_gen/transforms/gpu_kernel_to_blob_pass.cc:191] Failed to compile generated PTX with ptxas. Falling back to compilation by driver.\n",
      "2023-11-20 14:34:56.037700: W tensorflow/compiler/mlir/tools/kernel_gen/transforms/gpu_kernel_to_blob_pass.cc:191] Failed to compile generated PTX with ptxas. Falling back to compilation by driver.\n",
      "2023-11-20 14:34:56.325745: I external/local_xla/xla/service/service.cc:168] XLA service 0x2af6ae7bdcc0 initialized for platform CUDA (this does not guarantee that XLA will be used). Devices:\n",
      "2023-11-20 14:34:56.325785: I external/local_xla/xla/service/service.cc:176]   StreamExecutor device (0): NVIDIA L40, Compute Capability 8.9\n",
      "2023-11-20 14:34:56.332347: I tensorflow/compiler/mlir/tensorflow/utils/dump_mlir_util.cc:269] disabling MLIR crash reproducer, set env var `MLIR_CRASH_REPRODUCER_DIRECTORY` to enable.\n",
      "2023-11-20 14:34:56.372160: E external/local_xla/xla/stream_executor/gpu/asm_compiler.cc:115] *** WARNING *** You are using ptxas 10.1.168, which is older than 11.1. ptxas before 11.1 is known to miscompile XLA code, leading to incorrect results or invalid-address errors.\n",
      "\n",
      "WARNING: All log messages before absl::InitializeLog() is called are written to STDERR\n",
      "I0000 00:00:1700508896.691819  205486 device_compiler.h:186] Compiled cluster using XLA!  This line is logged at most once for the lifetime of the process.\n",
      "2023-11-20 14:34:56.847718: E external/local_xla/xla/stream_executor/gpu/asm_compiler.cc:115] *** WARNING *** You are using ptxas 10.1.168, which is older than 11.1. ptxas before 11.1 is known to miscompile XLA code, leading to incorrect results or invalid-address errors.\n",
      "\n",
      "2023-11-20 14:34:57.482390: E external/local_xla/xla/stream_executor/gpu/asm_compiler.cc:115] *** WARNING *** You are using ptxas 10.1.168, which is older than 11.1. ptxas before 11.1 is known to miscompile XLA code, leading to incorrect results or invalid-address errors.\n",
      "\n",
      "2023-11-20 14:34:57.592797: E external/local_xla/xla/stream_executor/gpu/asm_compiler.cc:115] *** WARNING *** You are using ptxas 10.1.168, which is older than 11.1. ptxas before 11.1 is known to miscompile XLA code, leading to incorrect results or invalid-address errors.\n",
      "\n",
      "2023-11-20 14:34:57.715690: E external/local_xla/xla/stream_executor/gpu/asm_compiler.cc:115] *** WARNING *** You are using ptxas 10.1.168, which is older than 11.1. ptxas before 11.1 is known to miscompile XLA code, leading to incorrect results or invalid-address errors.\n",
      "\n",
      "2023-11-20 14:34:57.835991: W tensorflow/compiler/mlir/tools/kernel_gen/transforms/gpu_kernel_to_blob_pass.cc:191] Failed to compile generated PTX with ptxas. Falling back to compilation by driver.\n",
      "2023-11-20 14:34:57.841466: E external/local_xla/xla/stream_executor/gpu/asm_compiler.cc:115] *** WARNING *** You are using ptxas 10.1.168, which is older than 11.1. ptxas before 11.1 is known to miscompile XLA code, leading to incorrect results or invalid-address errors.\n",
      "\n",
      "2023-11-20 14:34:57.967812: W tensorflow/compiler/mlir/tools/kernel_gen/transforms/gpu_kernel_to_blob_pass.cc:191] Failed to compile generated PTX with ptxas. Falling back to compilation by driver.\n",
      "2023-11-20 14:34:57.969398: E external/local_xla/xla/stream_executor/gpu/asm_compiler.cc:115] *** WARNING *** You are using ptxas 10.1.168, which is older than 11.1. ptxas before 11.1 is known to miscompile XLA code, leading to incorrect results or invalid-address errors.\n",
      "\n",
      "2023-11-20 14:34:58.097896: W tensorflow/compiler/mlir/tools/kernel_gen/transforms/gpu_kernel_to_blob_pass.cc:191] Failed to compile generated PTX with ptxas. Falling back to compilation by driver.\n",
      "2023-11-20 14:34:58.099093: E external/local_xla/xla/stream_executor/gpu/asm_compiler.cc:115] *** WARNING *** You are using ptxas 10.1.168, which is older than 11.1. ptxas before 11.1 is known to miscompile XLA code, leading to incorrect results or invalid-address errors.\n",
      "\n",
      "2023-11-20 14:34:58.099200: E external/local_xla/xla/stream_executor/gpu/asm_compiler.cc:115] *** WARNING *** You are using ptxas 10.1.168, which is older than 11.1. ptxas before 11.1 is known to miscompile XLA code, leading to incorrect results or invalid-address errors.\n",
      "\n",
      "2023-11-20 14:34:58.213998: W tensorflow/compiler/mlir/tools/kernel_gen/transforms/gpu_kernel_to_blob_pass.cc:191] Failed to compile generated PTX with ptxas. Falling back to compilation by driver.\n",
      "2023-11-20 14:34:58.340272: W tensorflow/compiler/mlir/tools/kernel_gen/transforms/gpu_kernel_to_blob_pass.cc:191] Failed to compile generated PTX with ptxas. Falling back to compilation by driver.\n",
      "2023-11-20 14:34:58.342553: E external/local_xla/xla/stream_executor/gpu/asm_compiler.cc:115] *** WARNING *** You are using ptxas 10.1.168, which is older than 11.1. ptxas before 11.1 is known to miscompile XLA code, leading to incorrect results or invalid-address errors.\n",
      "\n",
      "2023-11-20 14:34:58.465646: W tensorflow/compiler/mlir/tools/kernel_gen/transforms/gpu_kernel_to_blob_pass.cc:191] Failed to compile generated PTX with ptxas. Falling back to compilation by driver.\n",
      "2023-11-20 14:34:58.471061: E external/local_xla/xla/stream_executor/gpu/asm_compiler.cc:115] *** WARNING *** You are using ptxas 10.1.168, which is older than 11.1. ptxas before 11.1 is known to miscompile XLA code, leading to incorrect results or invalid-address errors.\n",
      "\n",
      "2023-11-20 14:34:58.610594: W tensorflow/compiler/mlir/tools/kernel_gen/transforms/gpu_kernel_to_blob_pass.cc:191] Failed to compile generated PTX with ptxas. Falling back to compilation by driver.\n",
      "2023-11-20 14:34:58.610644: W tensorflow/compiler/mlir/tools/kernel_gen/transforms/gpu_kernel_to_blob_pass.cc:191] Failed to compile generated PTX with ptxas. Falling back to compilation by driver.\n",
      "2023-11-20 14:34:58.774367: W tensorflow/compiler/mlir/tools/kernel_gen/transforms/gpu_kernel_to_blob_pass.cc:191] Failed to compile generated PTX with ptxas. Falling back to compilation by driver.\n",
      "2023-11-20 14:34:59.331918: E external/local_xla/xla/stream_executor/gpu/asm_compiler.cc:115] *** WARNING *** You are using ptxas 10.1.168, which is older than 11.1. ptxas before 11.1 is known to miscompile XLA code, leading to incorrect results or invalid-address errors.\n",
      "\n",
      "2023-11-20 14:35:00.054008: E external/local_xla/xla/stream_executor/gpu/asm_compiler.cc:115] *** WARNING *** You are using ptxas 10.1.168, which is older than 11.1. ptxas before 11.1 is known to miscompile XLA code, leading to incorrect results or invalid-address errors.\n",
      "\n",
      "2023-11-20 14:35:01.264702: E external/local_xla/xla/stream_executor/gpu/asm_compiler.cc:115] *** WARNING *** You are using ptxas 10.1.168, which is older than 11.1. ptxas before 11.1 is known to miscompile XLA code, leading to incorrect results or invalid-address errors.\n",
      "\n",
      "2023-11-20 14:35:01.760661: E external/local_xla/xla/stream_executor/gpu/asm_compiler.cc:115] *** WARNING *** You are using ptxas 10.1.168, which is older than 11.1. ptxas before 11.1 is known to miscompile XLA code, leading to incorrect results or invalid-address errors.\n",
      "\n"
     ]
    },
    {
     "name": "stderr",
     "output_type": "stream",
     "text": [
      "2023-11-20 14:35:02.258963: E external/local_xla/xla/stream_executor/gpu/asm_compiler.cc:115] *** WARNING *** You are using ptxas 10.1.168, which is older than 11.1. ptxas before 11.1 is known to miscompile XLA code, leading to incorrect results or invalid-address errors.\n",
      "\n",
      "2023-11-20 14:35:02.813239: E external/local_xla/xla/stream_executor/gpu/asm_compiler.cc:115] *** WARNING *** You are using ptxas 10.1.168, which is older than 11.1. ptxas before 11.1 is known to miscompile XLA code, leading to incorrect results or invalid-address errors.\n",
      "\n"
     ]
    },
    {
     "name": "stdout",
     "output_type": "stream",
     "text": [
      "   7082/Unknown - 155s 19ms/step - loss: 1.1344 - accuracy: 0.5476"
     ]
    },
    {
     "name": "stderr",
     "output_type": "stream",
     "text": [
      "/home/ss6928/.conda/envs/myenv/lib/python3.10/site-packages/keras/src/engine/training.py:3103: UserWarning: You are saving your model as an HDF5 file via `model.save()`. This file format is considered legacy. We recommend using instead the native Keras format, e.g. `model.save('my_model.keras')`.\n",
      "  saving_api.save_model(\n"
     ]
    },
    {
     "name": "stdout",
     "output_type": "stream",
     "text": [
      "7082/7082 [==============================] - 165s 20ms/step - loss: 1.1344 - accuracy: 0.5476 - val_loss: 1.3292 - val_accuracy: 0.4998\n",
      "Epoch 2/100\n",
      "7082/7082 [==============================] - 144s 20ms/step - loss: 1.0833 - accuracy: 0.5775 - val_loss: 1.1202 - val_accuracy: 0.5551\n",
      "Epoch 3/100\n",
      "7082/7082 [==============================] - 144s 20ms/step - loss: 1.0387 - accuracy: 0.5953 - val_loss: 1.0924 - val_accuracy: 0.5697\n",
      "Epoch 4/100\n",
      "7082/7082 [==============================] - 144s 20ms/step - loss: 1.0168 - accuracy: 0.6046 - val_loss: 1.0606 - val_accuracy: 0.5830\n",
      "Epoch 5/100\n",
      "7082/7082 [==============================] - 142s 20ms/step - loss: 0.9982 - accuracy: 0.6141 - val_loss: 1.1107 - val_accuracy: 0.5600\n",
      "Epoch 6/100\n",
      "7082/7082 [==============================] - 143s 20ms/step - loss: 0.9934 - accuracy: 0.6146 - val_loss: 1.0555 - val_accuracy: 0.5833\n",
      "Epoch 7/100\n",
      "7082/7082 [==============================] - 139s 20ms/step - loss: 0.9778 - accuracy: 0.6226 - val_loss: 1.0360 - val_accuracy: 0.5909\n",
      "Epoch 8/100\n",
      "7082/7082 [==============================] - 140s 20ms/step - loss: 0.9742 - accuracy: 0.6235 - val_loss: 1.0317 - val_accuracy: 0.5928\n",
      "Epoch 9/100\n",
      "7082/7082 [==============================] - 141s 20ms/step - loss: 0.9655 - accuracy: 0.6269 - val_loss: 1.0617 - val_accuracy: 0.5810\n",
      "Epoch 10/100\n",
      "7082/7082 [==============================] - 139s 20ms/step - loss: 0.9594 - accuracy: 0.6299 - val_loss: 1.0180 - val_accuracy: 0.6013\n",
      "Epoch 11/100\n",
      "7082/7082 [==============================] - 138s 19ms/step - loss: 0.9602 - accuracy: 0.6294 - val_loss: 1.0104 - val_accuracy: 0.6042\n",
      "Epoch 12/100\n",
      "7082/7082 [==============================] - 135s 19ms/step - loss: 0.9497 - accuracy: 0.6334 - val_loss: 1.0152 - val_accuracy: 0.6008\n",
      "Epoch 13/100\n",
      "7082/7082 [==============================] - 138s 19ms/step - loss: 0.9479 - accuracy: 0.6349 - val_loss: 1.0148 - val_accuracy: 0.5998\n",
      "Epoch 14/100\n",
      "7082/7082 [==============================] - 139s 20ms/step - loss: 0.9473 - accuracy: 0.6347 - val_loss: 0.9968 - val_accuracy: 0.6081\n",
      "Epoch 15/100\n",
      "7082/7082 [==============================] - 136s 19ms/step - loss: 0.9427 - accuracy: 0.6365 - val_loss: 0.9924 - val_accuracy: 0.6082\n",
      "Epoch 16/100\n",
      "7082/7082 [==============================] - 135s 19ms/step - loss: 0.9372 - accuracy: 0.6384 - val_loss: 0.9935 - val_accuracy: 0.6102\n",
      "Epoch 17/100\n",
      "7082/7082 [==============================] - 137s 19ms/step - loss: 0.9343 - accuracy: 0.6393 - val_loss: 1.0060 - val_accuracy: 0.6095\n",
      "Epoch 18/100\n",
      "7082/7082 [==============================] - 135s 19ms/step - loss: 0.9329 - accuracy: 0.6406 - val_loss: 0.9970 - val_accuracy: 0.6077\n",
      "Epoch 19/100\n",
      "7082/7082 [==============================] - 138s 19ms/step - loss: 0.9300 - accuracy: 0.6422 - val_loss: 0.9932 - val_accuracy: 0.6090\n",
      "Epoch 20/100\n",
      "7082/7082 [==============================] - 136s 19ms/step - loss: 0.9280 - accuracy: 0.6429 - val_loss: 0.9868 - val_accuracy: 0.6107\n",
      "Epoch 21/100\n",
      "7082/7082 [==============================] - 136s 19ms/step - loss: 0.9280 - accuracy: 0.6425 - val_loss: 0.9932 - val_accuracy: 0.6088\n",
      "Epoch 22/100\n",
      "7082/7082 [==============================] - 138s 19ms/step - loss: 0.9257 - accuracy: 0.6436 - val_loss: 0.9987 - val_accuracy: 0.6076\n",
      "Epoch 23/100\n",
      "7082/7082 [==============================] - 137s 19ms/step - loss: 0.9224 - accuracy: 0.6452 - val_loss: 1.0201 - val_accuracy: 0.6016\n",
      "Epoch 24/100\n",
      "7082/7082 [==============================] - 138s 19ms/step - loss: 0.9229 - accuracy: 0.6440 - val_loss: 0.9960 - val_accuracy: 0.6076\n",
      "Epoch 25/100\n",
      "7082/7082 [==============================] - 138s 19ms/step - loss: 0.9238 - accuracy: 0.6442 - val_loss: 0.9696 - val_accuracy: 0.6203\n",
      "Epoch 26/100\n",
      "7082/7082 [==============================] - 138s 19ms/step - loss: 0.9203 - accuracy: 0.6465 - val_loss: 1.0079 - val_accuracy: 0.6021\n",
      "Epoch 27/100\n",
      "7082/7082 [==============================] - 138s 19ms/step - loss: 0.9187 - accuracy: 0.6470 - val_loss: 0.9838 - val_accuracy: 0.6129\n",
      "Epoch 28/100\n",
      "7082/7082 [==============================] - 138s 19ms/step - loss: 0.9237 - accuracy: 0.6445 - val_loss: 0.9792 - val_accuracy: 0.6141\n",
      "Epoch 29/100\n",
      "7082/7082 [==============================] - 138s 20ms/step - loss: 0.9309 - accuracy: 0.6416 - val_loss: 0.9774 - val_accuracy: 0.6164\n",
      "Epoch 30/100\n",
      "7082/7082 [==============================] - 136s 19ms/step - loss: 0.9204 - accuracy: 0.6464 - val_loss: 0.9768 - val_accuracy: 0.6158\n",
      "Model: \"model_1\"\n",
      "__________________________________________________________________________________________________\n",
      " Layer (type)                Output Shape                 Param #   Connected to                  \n",
      "==================================================================================================\n",
      " input_7 (InputLayer)        [(None, 192, 64)]            0         []                            \n",
      "                                                                                                  \n",
      " conv1d_7 (Conv1D)           (None, 192, 8)               520       ['input_7[0][0]']             \n",
      "                                                                                                  \n",
      " input_8 (InputLayer)        [(None, 192, 1)]             0         []                            \n",
      "                                                                                                  \n",
      " input_9 (InputLayer)        [(None, 192, 1)]             0         []                            \n",
      "                                                                                                  \n",
      " input_10 (InputLayer)       [(None, 192, 1)]             0         []                            \n",
      "                                                                                                  \n",
      " conv1d_8 (Conv1D)           (None, 190, 16)              400       ['conv1d_7[0][0]']            \n",
      "                                                                                                  \n",
      " conv1d_9 (Conv1D)           (None, 190, 16)              64        ['input_8[0][0]',             \n",
      "                                                                     'input_9[0][0]',             \n",
      "                                                                     'input_10[0][0]']            \n",
      "                                                                                                  \n",
      " conv1d_10 (Conv1D)          (None, 184, 16)              784       ['conv1d_8[0][0]']            \n",
      "                                                                                                  \n",
      " conv1d_11 (Conv1D)          (None, 184, 16)              784       ['conv1d_9[0][0]',            \n",
      "                                                                     'conv1d_9[1][0]',            \n",
      "                                                                     'conv1d_9[2][0]']            \n",
      "                                                                                                  \n",
      " conv1d_12 (Conv1D)          (None, 166, 16)              784       ['conv1d_10[0][0]']           \n",
      "                                                                                                  \n",
      " conv1d_13 (Conv1D)          (None, 166, 16)              784       ['conv1d_11[0][0]',           \n",
      "                                                                     'conv1d_11[1][0]',           \n",
      "                                                                     'conv1d_11[2][0]']           \n",
      "                                                                                                  \n",
      " dot_5 (Dot)                 (None, 16, 16)               0         ['conv1d_12[0][0]',           \n",
      "                                                                     'conv1d_13[0][0]']           \n",
      "                                                                                                  \n",
      " dot_6 (Dot)                 (None, 16, 16)               0         ['conv1d_12[0][0]',           \n",
      "                                                                     'conv1d_13[1][0]']           \n",
      "                                                                                                  \n",
      " dot_7 (Dot)                 (None, 16, 16)               0         ['conv1d_12[0][0]',           \n"
     ]
    },
    {
     "name": "stdout",
     "output_type": "stream",
     "text": [
      "                                                                     'conv1d_13[2][0]']           \n",
      "                                                                                                  \n",
      " flatten_5 (Flatten)         (None, 256)                  0         ['dot_5[0][0]']               \n",
      "                                                                                                  \n",
      " flatten_6 (Flatten)         (None, 256)                  0         ['dot_6[0][0]']               \n",
      "                                                                                                  \n",
      " flatten_7 (Flatten)         (None, 256)                  0         ['dot_7[0][0]']               \n",
      "                                                                                                  \n",
      " dense_1 (Dense)             (None, 1)                    257       ['flatten_5[0][0]',           \n",
      "                                                                     'flatten_6[0][0]',           \n",
      "                                                                     'flatten_7[0][0]']           \n",
      "                                                                                                  \n",
      " concatenate_1 (Concatenate  (None, 3)                    0         ['dense_1[0][0]',             \n",
      " )                                                                   'dense_1[1][0]',             \n",
      "                                                                     'dense_1[2][0]']             \n",
      "                                                                                                  \n",
      " tf.nn.softmax_1 (TFOpLambd  (None, 3)                    0         ['concatenate_1[0][0]']       \n",
      " a)                                                                                               \n",
      "                                                                                                  \n",
      "==================================================================================================\n",
      "Total params: 4377 (17.10 KB)\n",
      "Trainable params: 4377 (17.10 KB)\n",
      "Non-trainable params: 0 (0.00 Byte)\n",
      "__________________________________________________________________________________________________\n",
      "None\n",
      "846/846 - 5s - loss: 0.9964 - accuracy: 0.6017 - 5s/epoch - 6ms/step\n",
      "570/570 - 3s - loss: 0.7458 - accuracy: 0.6977 - 3s/epoch - 6ms/step\n"
     ]
    },
    {
     "name": "stderr",
     "output_type": "stream",
     "text": [
      "2023-11-20 15:44:53.163895: I tensorflow/core/framework/local_rendezvous.cc:421] Local rendezvous recv item cancelled. Key hash: 17095094114822350930\n"
     ]
    },
    {
     "name": "stdout",
     "output_type": "stream",
     "text": [
      "627/627 - 3s - loss: 0.9364 - accuracy: 0.6108 - 3s/epoch - 6ms/step\n",
      "550/550 - 3s - loss: 0.8264 - accuracy: 0.6612 - 3s/epoch - 6ms/step\n",
      "627/627 - 4s - loss: 0.9900 - accuracy: 0.5853 - 4s/epoch - 6ms/step\n",
      "846/846 - 5s - loss: 0.8745 - accuracy: 0.6296 - 5s/epoch - 5ms/step\n",
      "846/846 - 4s - loss: 0.8040 - accuracy: 0.6655 - 4s/epoch - 5ms/step\n",
      "561/561 - 3s - loss: 0.7069 - accuracy: 0.7314 - 3s/epoch - 6ms/step\n",
      "846/846 - 4s - loss: 0.6902 - accuracy: 0.6931 - 4s/epoch - 5ms/step\n",
      "627/627 - 5s - loss: 0.6404 - accuracy: 0.7422 - 5s/epoch - 8ms/step\n",
      "550/550 - 3s - loss: 0.8249 - accuracy: 0.6345 - 3s/epoch - 6ms/step\n",
      "846/846 - 4s - loss: 1.0042 - accuracy: 0.6001 - 4s/epoch - 5ms/step\n",
      "549/549 - 3s - loss: 1.1601 - accuracy: 0.5337 - 3s/epoch - 6ms/step\n"
     ]
    },
    {
     "name": "stderr",
     "output_type": "stream",
     "text": [
      "2023-11-20 15:45:36.409444: I tensorflow/core/framework/local_rendezvous.cc:421] Local rendezvous recv item cancelled. Key hash: 17095094114822350930\n"
     ]
    },
    {
     "name": "stdout",
     "output_type": "stream",
     "text": [
      "625/625 - 4s - loss: 1.0510 - accuracy: 0.5685 - 4s/epoch - 6ms/step\n",
      "837/837 - 5s - loss: 0.8731 - accuracy: 0.6149 - 5s/epoch - 6ms/step\n",
      "653/653 - 4s - loss: 1.0484 - accuracy: 0.4722 - 4s/epoch - 6ms/step\n",
      "653/653 - 4s - loss: 1.1094 - accuracy: 0.5360 - 4s/epoch - 6ms/step\n",
      "846/846 - 5s - loss: 0.7267 - accuracy: 0.7049 - 5s/epoch - 5ms/step\n",
      "846/846 - 5s - loss: 0.9353 - accuracy: 0.6261 - 5s/epoch - 5ms/step\n"
     ]
    },
    {
     "name": "stderr",
     "output_type": "stream",
     "text": [
      "2023-11-20 15:46:01.042025: I tensorflow/core/framework/local_rendezvous.cc:421] Local rendezvous recv item cancelled. Key hash: 17095094114822350930\n"
     ]
    },
    {
     "name": "stdout",
     "output_type": "stream",
     "text": [
      "561/561 - 3s - loss: 1.0260 - accuracy: 0.5502 - 3s/epoch - 5ms/step\n",
      "561/561 - 3s - loss: 0.7770 - accuracy: 0.6845 - 3s/epoch - 5ms/step\n",
      "549/549 - 3s - loss: 0.7772 - accuracy: 0.6891 - 3s/epoch - 6ms/step\n"
     ]
    },
    {
     "name": "stderr",
     "output_type": "stream",
     "text": [
      "2023-11-20 15:46:10.137413: I tensorflow/core/framework/local_rendezvous.cc:421] Local rendezvous recv item cancelled. Key hash: 17095094114822350930\n"
     ]
    },
    {
     "name": "stdout",
     "output_type": "stream",
     "text": [
      "306/306 - 2s - loss: 1.4270 - accuracy: 0.4553 - 2s/epoch - 6ms/step\n",
      "653/653 - 4s - loss: 0.7527 - accuracy: 0.6856 - 4s/epoch - 5ms/step\n"
     ]
    },
    {
     "name": "stderr",
     "output_type": "stream",
     "text": [
      "2023-11-20 15:46:15.493750: I tensorflow/core/framework/local_rendezvous.cc:421] Local rendezvous recv item cancelled. Key hash: 17095094114822350930\n"
     ]
    },
    {
     "name": "stdout",
     "output_type": "stream",
     "text": [
      "656/656 - 4s - loss: 0.5149 - accuracy: 0.7876 - 4s/epoch - 6ms/step\n"
     ]
    },
    {
     "name": "stderr",
     "output_type": "stream",
     "text": [
      "2023-11-20 15:46:19.426421: I tensorflow/core/framework/local_rendezvous.cc:421] Local rendezvous recv item cancelled. Key hash: 17095094114822350930\n"
     ]
    },
    {
     "name": "stdout",
     "output_type": "stream",
     "text": [
      "570/570 - 3s - loss: 1.0030 - accuracy: 0.5778 - 3s/epoch - 5ms/step\n"
     ]
    },
    {
     "name": "stderr",
     "output_type": "stream",
     "text": [
      "2023-11-20 15:46:22.514357: I tensorflow/core/framework/local_rendezvous.cc:421] Local rendezvous recv item cancelled. Key hash: 17095094114822350930\n"
     ]
    },
    {
     "name": "stdout",
     "output_type": "stream",
     "text": [
      "561/561 - 3s - loss: 0.7274 - accuracy: 0.7130 - 3s/epoch - 5ms/step\n",
      "549/549 - 3s - loss: 1.1998 - accuracy: 0.5039 - 3s/epoch - 6ms/step\n"
     ]
    },
    {
     "name": "stderr",
     "output_type": "stream",
     "text": [
      "2023-11-20 15:46:28.546131: I tensorflow/core/framework/local_rendezvous.cc:421] Local rendezvous recv item cancelled. Key hash: 17095094114822350930\n"
     ]
    },
    {
     "name": "stdout",
     "output_type": "stream",
     "text": [
      "625/625 - 4s - loss: 0.6991 - accuracy: 0.7056 - 4s/epoch - 6ms/step\n",
      "676/676 - 4s - loss: 0.6854 - accuracy: 0.7229 - 4s/epoch - 5ms/step\n",
      "846/846 - 4s - loss: 0.5994 - accuracy: 0.7518 - 4s/epoch - 5ms/step\n",
      "627/627 - 3s - loss: 0.8573 - accuracy: 0.6358 - 3s/epoch - 5ms/step\n"
     ]
    },
    {
     "name": "stderr",
     "output_type": "stream",
     "text": [
      "2023-11-20 15:46:43.635859: I tensorflow/core/framework/local_rendezvous.cc:421] Local rendezvous recv item cancelled. Key hash: 17095094114822350930\n"
     ]
    },
    {
     "name": "stdout",
     "output_type": "stream",
     "text": [
      "846/846 - 5s - loss: 0.8724 - accuracy: 0.6391 - 5s/epoch - 6ms/step\n",
      "327/327 - 2s - loss: 1.0199 - accuracy: 0.6371 - 2s/epoch - 6ms/step\n",
      "550/550 - 3s - loss: 0.3638 - accuracy: 0.8479 - 3s/epoch - 6ms/step\n"
     ]
    },
    {
     "name": "stderr",
     "output_type": "stream",
     "text": [
      "2023-11-20 15:46:53.558236: I tensorflow/core/framework/local_rendezvous.cc:421] Local rendezvous recv item cancelled. Key hash: 17095094114822350930\n"
     ]
    },
    {
     "name": "stdout",
     "output_type": "stream",
     "text": [
      "549/549 - 3s - loss: 0.9646 - accuracy: 0.5798 - 3s/epoch - 6ms/step\n"
     ]
    },
    {
     "name": "stderr",
     "output_type": "stream",
     "text": [
      "2023-11-20 15:46:56.935457: I tensorflow/core/framework/local_rendezvous.cc:421] Local rendezvous recv item cancelled. Key hash: 17095094114822350930\n"
     ]
    },
    {
     "name": "stdout",
     "output_type": "stream",
     "text": [
      "846/846 - 5s - loss: 0.9058 - accuracy: 0.6257 - 5s/epoch - 5ms/step\n"
     ]
    },
    {
     "name": "stderr",
     "output_type": "stream",
     "text": [
      "2023-11-20 15:47:01.533039: I tensorflow/core/framework/local_rendezvous.cc:421] Local rendezvous recv item cancelled. Key hash: 17095094114822350930\n"
     ]
    },
    {
     "name": "stdout",
     "output_type": "stream",
     "text": [
      "627/627 - 3s - loss: 0.8835 - accuracy: 0.6332 - 3s/epoch - 5ms/step\n"
     ]
    },
    {
     "name": "stderr",
     "output_type": "stream",
     "text": [
      "2023-11-20 15:47:04.936511: I tensorflow/core/framework/local_rendezvous.cc:421] Local rendezvous recv item cancelled. Key hash: 17095094114822350930\n"
     ]
    },
    {
     "name": "stdout",
     "output_type": "stream",
     "text": [
      "837/837 - 4s - loss: 1.0147 - accuracy: 0.5743 - 4s/epoch - 5ms/step\n"
     ]
    },
    {
     "name": "stderr",
     "output_type": "stream",
     "text": [
      "2023-11-20 15:47:09.404584: I tensorflow/core/framework/local_rendezvous.cc:421] Local rendezvous recv item cancelled. Key hash: 17095094114822350930\n"
     ]
    },
    {
     "name": "stdout",
     "output_type": "stream",
     "text": [
      "570/570 - 3s - loss: 0.6852 - accuracy: 0.7257 - 3s/epoch - 5ms/step\n"
     ]
    },
    {
     "name": "stderr",
     "output_type": "stream",
     "text": [
      "2023-11-20 15:47:12.393853: I tensorflow/core/framework/local_rendezvous.cc:421] Local rendezvous recv item cancelled. Key hash: 17095094114822350930\n"
     ]
    },
    {
     "name": "stdout",
     "output_type": "stream",
     "text": [
      "489/489 - 3s - loss: 0.7966 - accuracy: 0.6830 - 3s/epoch - 6ms/step\n"
     ]
    },
    {
     "name": "stderr",
     "output_type": "stream",
     "text": [
      "2023-11-20 15:47:15.153734: I tensorflow/core/framework/local_rendezvous.cc:421] Local rendezvous recv item cancelled. Key hash: 17819828739976890747\n",
      "2023-11-20 15:47:15.153821: I tensorflow/core/framework/local_rendezvous.cc:421] Local rendezvous recv item cancelled. Key hash: 17095094114822350930\n",
      "2023-11-20 15:47:15.153837: I tensorflow/core/framework/local_rendezvous.cc:421] Local rendezvous recv item cancelled. Key hash: 15067671553824512208\n",
      "2023-11-20 15:47:15.153879: I tensorflow/core/framework/local_rendezvous.cc:421] Local rendezvous recv item cancelled. Key hash: 1235346546309526868\n"
     ]
    },
    {
     "name": "stdout",
     "output_type": "stream",
     "text": [
      "561/561 - 3s - loss: 0.5482 - accuracy: 0.7659 - 3s/epoch - 5ms/step\n",
      "570/570 - 3s - loss: 0.7528 - accuracy: 0.6696 - 3s/epoch - 5ms/step\n"
     ]
    },
    {
     "name": "stderr",
     "output_type": "stream",
     "text": [
      "2023-11-20 15:47:21.220073: I tensorflow/core/framework/local_rendezvous.cc:421] Local rendezvous recv item cancelled. Key hash: 17095094114822350930\n"
     ]
    },
    {
     "name": "stdout",
     "output_type": "stream",
     "text": [
      "540/540 - 3s - loss: 1.1043 - accuracy: 0.5265 - 3s/epoch - 5ms/step\n"
     ]
    },
    {
     "name": "stderr",
     "output_type": "stream",
     "text": [
      "2023-11-20 15:47:24.196803: I tensorflow/core/framework/local_rendezvous.cc:421] Local rendezvous recv item cancelled. Key hash: 17095094114822350930\n"
     ]
    },
    {
     "name": "stdout",
     "output_type": "stream",
     "text": [
      "846/846 - 5s - loss: 0.5976 - accuracy: 0.7368 - 5s/epoch - 5ms/step\n"
     ]
    },
    {
     "name": "stderr",
     "output_type": "stream",
     "text": [
      "2023-11-20 15:47:28.731079: I tensorflow/core/framework/local_rendezvous.cc:421] Local rendezvous recv item cancelled. Key hash: 17095094114822350930\n",
      "2023-11-20 15:47:28.731148: I tensorflow/core/framework/local_rendezvous.cc:421] Local rendezvous recv item cancelled. Key hash: 15067671553824512208\n"
     ]
    },
    {
     "name": "stdout",
     "output_type": "stream",
     "text": [
      "837/837 - 5s - loss: 1.1097 - accuracy: 0.5317 - 5s/epoch - 6ms/step\n"
     ]
    },
    {
     "name": "stderr",
     "output_type": "stream",
     "text": [
      "2023-11-20 15:47:33.392912: I tensorflow/core/framework/local_rendezvous.cc:421] Local rendezvous recv item cancelled. Key hash: 17095094114822350930\n"
     ]
    },
    {
     "name": "stdout",
     "output_type": "stream",
     "text": [
      "561/561 - 3s - loss: 1.0490 - accuracy: 0.5633 - 3s/epoch - 5ms/step\n"
     ]
    },
    {
     "name": "stderr",
     "output_type": "stream",
     "text": [
      "2023-11-20 15:47:36.401693: I tensorflow/core/framework/local_rendezvous.cc:421] Local rendezvous recv item cancelled. Key hash: 17095094114822350930\n"
     ]
    },
    {
     "name": "stdout",
     "output_type": "stream",
     "text": [
      "653/653 - 3s - loss: 1.0574 - accuracy: 0.5457 - 3s/epoch - 5ms/step\n"
     ]
    },
    {
     "name": "stderr",
     "output_type": "stream",
     "text": [
      "2023-11-20 15:47:39.849613: I tensorflow/core/framework/local_rendezvous.cc:421] Local rendezvous recv item cancelled. Key hash: 17095094114822350930\n"
     ]
    },
    {
     "name": "stdout",
     "output_type": "stream",
     "text": [
      "549/549 - 3s - loss: 1.0167 - accuracy: 0.5823 - 3s/epoch - 5ms/step\n",
      "625/625 - 3s - loss: 0.7369 - accuracy: 0.6837 - 3s/epoch - 6ms/step\n"
     ]
    },
    {
     "name": "stderr",
     "output_type": "stream",
     "text": [
      "2023-11-20 15:47:46.268894: I tensorflow/core/framework/local_rendezvous.cc:421] Local rendezvous recv item cancelled. Key hash: 17095094114822350930\n"
     ]
    },
    {
     "name": "stdout",
     "output_type": "stream",
     "text": [
      "653/653 - 3s - loss: 1.0625 - accuracy: 0.5528 - 3s/epoch - 5ms/step\n"
     ]
    },
    {
     "name": "stderr",
     "output_type": "stream",
     "text": [
      "2023-11-20 15:47:49.762767: I tensorflow/core/framework/local_rendezvous.cc:421] Local rendezvous recv item cancelled. Key hash: 17095094114822350930\n"
     ]
    },
    {
     "name": "stdout",
     "output_type": "stream",
     "text": [
      "846/846 - 4s - loss: 1.1618 - accuracy: 0.5374 - 4s/epoch - 5ms/step\n"
     ]
    },
    {
     "name": "stderr",
     "output_type": "stream",
     "text": [
      "2023-11-20 15:47:54.226147: I tensorflow/core/framework/local_rendezvous.cc:421] Local rendezvous recv item cancelled. Key hash: 17095094114822350930\n"
     ]
    },
    {
     "name": "stdout",
     "output_type": "stream",
     "text": [
      "874/874 - 5s - loss: 0.8032 - accuracy: 0.6747 - 5s/epoch - 6ms/step\n"
     ]
    },
    {
     "name": "stderr",
     "output_type": "stream",
     "text": [
      "2023-11-20 15:47:59.100121: I tensorflow/core/framework/local_rendezvous.cc:421] Local rendezvous recv item cancelled. Key hash: 17095094114822350930\n"
     ]
    },
    {
     "name": "stdout",
     "output_type": "stream",
     "text": [
      "693/693 - 4s - loss: 0.9712 - accuracy: 0.6147 - 4s/epoch - 5ms/step\n",
      "653/653 - 4s - loss: 1.0904 - accuracy: 0.5615 - 4s/epoch - 6ms/step\n",
      "767/767 - 4s - loss: 0.7239 - accuracy: 0.7027 - 4s/epoch - 6ms/step\n",
      "656/656 - 4s - loss: 0.5776 - accuracy: 0.7652 - 4s/epoch - 6ms/step\n",
      "627/627 - 4s - loss: 0.9098 - accuracy: 0.6427 - 4s/epoch - 6ms/step\n",
      "656/656 - 4s - loss: 0.8035 - accuracy: 0.6616 - 4s/epoch - 6ms/step\n"
     ]
    },
    {
     "name": "stderr",
     "output_type": "stream",
     "text": [
      "2023-11-20 15:48:22.312306: I tensorflow/core/framework/local_rendezvous.cc:421] Local rendezvous recv item cancelled. Key hash: 17095094114822350930\n"
     ]
    },
    {
     "name": "stdout",
     "output_type": "stream",
     "text": [
      "758/758 - 4s - loss: 0.6599 - accuracy: 0.7190 - 4s/epoch - 6ms/step\n",
      "625/625 - 3s - loss: 0.8316 - accuracy: 0.6651 - 3s/epoch - 5ms/step\n",
      "767/767 - 4s - loss: 0.9151 - accuracy: 0.6145 - 4s/epoch - 5ms/step\n",
      "656/656 - 4s - loss: 0.6609 - accuracy: 0.7210 - 4s/epoch - 6ms/step\n"
     ]
    },
    {
     "name": "stderr",
     "output_type": "stream",
     "text": [
      "2023-11-20 15:48:38.370612: I tensorflow/core/framework/local_rendezvous.cc:421] Local rendezvous recv item cancelled. Key hash: 17095094114822350930\n"
     ]
    },
    {
     "name": "stdout",
     "output_type": "stream",
     "text": [
      "264/264 - 2s - loss: 1.1565 - accuracy: 0.5139 - 2s/epoch - 6ms/step\n",
      "846/846 - 5s - loss: 0.8544 - accuracy: 0.6245 - 5s/epoch - 6ms/step\n"
     ]
    },
    {
     "name": "stderr",
     "output_type": "stream",
     "text": [
      "2023-11-20 15:48:44.750655: I tensorflow/core/framework/local_rendezvous.cc:421] Local rendezvous recv item cancelled. Key hash: 17095094114822350930\n"
     ]
    },
    {
     "name": "stdout",
     "output_type": "stream",
     "text": [
      "309/309 - 2s - loss: 1.1707 - accuracy: 0.4132 - 2s/epoch - 6ms/step\n"
     ]
    },
    {
     "name": "stderr",
     "output_type": "stream",
     "text": [
      "2023-11-20 15:48:46.646328: I tensorflow/core/framework/local_rendezvous.cc:421] Local rendezvous recv item cancelled. Key hash: 17095094114822350930\n"
     ]
    },
    {
     "name": "stdout",
     "output_type": "stream",
     "text": [
      "570/570 - 3s - loss: 1.0637 - accuracy: 0.5725 - 3s/epoch - 5ms/step\n",
      "570/570 - 3s - loss: 0.9618 - accuracy: 0.6316 - 3s/epoch - 6ms/step\n",
      "653/653 - 4s - loss: 1.0817 - accuracy: 0.5875 - 4s/epoch - 5ms/step\n",
      "550/550 - 3s - loss: 1.0286 - accuracy: 0.5970 - 3s/epoch - 5ms/step\n"
     ]
    },
    {
     "name": "stderr",
     "output_type": "stream",
     "text": [
      "2023-11-20 15:48:59.263781: I tensorflow/core/framework/local_rendezvous.cc:421] Local rendezvous recv item cancelled. Key hash: 17095094114822350930\n"
     ]
    },
    {
     "name": "stdout",
     "output_type": "stream",
     "text": [
      "656/656 - 4s - loss: 0.8363 - accuracy: 0.6199 - 4s/epoch - 6ms/step\n",
      "846/846 - 4s - loss: 0.6462 - accuracy: 0.7356 - 4s/epoch - 5ms/step\n"
     ]
    },
    {
     "name": "stderr",
     "output_type": "stream",
     "text": [
      "2023-11-20 15:49:07.640443: I tensorflow/core/framework/local_rendezvous.cc:421] Local rendezvous recv item cancelled. Key hash: 17095094114822350930\n"
     ]
    },
    {
     "name": "stdout",
     "output_type": "stream",
     "text": [
      "336/336 - 2s - loss: 1.1153 - accuracy: 0.5218 - 2s/epoch - 6ms/step\n",
      "625/625 - 3s - loss: 0.6874 - accuracy: 0.6827 - 3s/epoch - 5ms/step\n",
      "549/549 - 3s - loss: 1.0928 - accuracy: 0.5501 - 3s/epoch - 6ms/step\n"
     ]
    },
    {
     "name": "stderr",
     "output_type": "stream",
     "text": [
      "2023-11-20 15:49:16.628611: I tensorflow/core/framework/local_rendezvous.cc:421] Local rendezvous recv item cancelled. Key hash: 17819828739976890747\n",
      "2023-11-20 15:49:16.628713: I tensorflow/core/framework/local_rendezvous.cc:421] Local rendezvous recv item cancelled. Key hash: 17095094114822350930\n",
      "2023-11-20 15:49:16.628730: I tensorflow/core/framework/local_rendezvous.cc:421] Local rendezvous recv item cancelled. Key hash: 15067671553824512208\n",
      "2023-11-20 15:49:16.628757: I tensorflow/core/framework/local_rendezvous.cc:421] Local rendezvous recv item cancelled. Key hash: 1235346546309526868\n"
     ]
    },
    {
     "name": "stdout",
     "output_type": "stream",
     "text": [
      "602/602 - 3s - loss: 0.7116 - accuracy: 0.7137 - 3s/epoch - 5ms/step\n",
      "549/549 - 3s - loss: 0.7721 - accuracy: 0.6582 - 3s/epoch - 6ms/step\n",
      "693/693 - 4s - loss: 0.6422 - accuracy: 0.7465 - 4s/epoch - 5ms/step\n"
     ]
    },
    {
     "name": "stderr",
     "output_type": "stream",
     "text": [
      "2023-11-20 15:49:26.705861: I tensorflow/core/framework/local_rendezvous.cc:421] Local rendezvous recv item cancelled. Key hash: 17095094114822350930\n"
     ]
    },
    {
     "name": "stdout",
     "output_type": "stream",
     "text": [
      "846/846 - 4s - loss: 1.1097 - accuracy: 0.5465 - 4s/epoch - 5ms/step\n",
      "653/653 - 3s - loss: 0.9792 - accuracy: 0.6044 - 3s/epoch - 5ms/step\n"
     ]
    },
    {
     "name": "stderr",
     "output_type": "stream",
     "text": [
      "2023-11-20 15:49:34.548765: I tensorflow/core/framework/local_rendezvous.cc:421] Local rendezvous recv item cancelled. Key hash: 17095094114822350930\n"
     ]
    },
    {
     "name": "stdout",
     "output_type": "stream",
     "text": [
      "837/837 - 5s - loss: 1.0041 - accuracy: 0.5651 - 5s/epoch - 5ms/step\n",
      "653/653 - 4s - loss: 1.2531 - accuracy: 0.4880 - 4s/epoch - 5ms/step\n"
     ]
    },
    {
     "name": "stderr",
     "output_type": "stream",
     "text": [
      "2023-11-20 15:49:42.662776: I tensorflow/core/framework/local_rendezvous.cc:421] Local rendezvous recv item cancelled. Key hash: 17095094114822350930\n"
     ]
    },
    {
     "name": "stdout",
     "output_type": "stream",
     "text": [
      "693/693 - 4s - loss: 0.6860 - accuracy: 0.7244 - 4s/epoch - 5ms/step\n",
      "693/693 - 4s - loss: 1.0342 - accuracy: 0.5618 - 4s/epoch - 5ms/step\n"
     ]
    },
    {
     "name": "stderr",
     "output_type": "stream",
     "text": [
      "2023-11-20 15:49:49.954037: I tensorflow/core/framework/local_rendezvous.cc:421] Local rendezvous recv item cancelled. Key hash: 17819828739976890747\n",
      "2023-11-20 15:49:49.954191: I tensorflow/core/framework/local_rendezvous.cc:421] Local rendezvous recv item cancelled. Key hash: 17095094114822350930\n",
      "2023-11-20 15:49:49.954207: I tensorflow/core/framework/local_rendezvous.cc:421] Local rendezvous recv item cancelled. Key hash: 15067671553824512208\n",
      "2023-11-20 15:49:49.954240: I tensorflow/core/framework/local_rendezvous.cc:421] Local rendezvous recv item cancelled. Key hash: 1235346546309526868\n"
     ]
    },
    {
     "name": "stdout",
     "output_type": "stream",
     "text": [
      "693/693 - 4s - loss: 1.0026 - accuracy: 0.5762 - 4s/epoch - 5ms/step\n"
     ]
    },
    {
     "name": "stderr",
     "output_type": "stream",
     "text": [
      "2023-11-20 15:49:53.739327: I tensorflow/core/framework/local_rendezvous.cc:421] Local rendezvous recv item cancelled. Key hash: 17819828739976890747\n",
      "2023-11-20 15:49:53.739406: I tensorflow/core/framework/local_rendezvous.cc:421] Local rendezvous recv item cancelled. Key hash: 17095094114822350930\n",
      "2023-11-20 15:49:53.739424: I tensorflow/core/framework/local_rendezvous.cc:421] Local rendezvous recv item cancelled. Key hash: 15067671553824512208\n",
      "2023-11-20 15:49:53.739450: I tensorflow/core/framework/local_rendezvous.cc:421] Local rendezvous recv item cancelled. Key hash: 1235346546309526868\n"
     ]
    },
    {
     "name": "stdout",
     "output_type": "stream",
     "text": [
      "Model: \"model_2\"\n",
      "__________________________________________________________________________________________________\n",
      " Layer (type)                Output Shape                 Param #   Connected to                  \n",
      "==================================================================================================\n",
      " input_11 (InputLayer)       [(None, 320, 64)]            0         []                            \n",
      "                                                                                                  \n",
      " conv1d_14 (Conv1D)          (None, 320, 8)               520       ['input_11[0][0]']            \n",
      "                                                                                                  \n",
      " input_12 (InputLayer)       [(None, 320, 1)]             0         []                            \n",
      "                                                                                                  \n",
      " input_13 (InputLayer)       [(None, 320, 1)]             0         []                            \n",
      "                                                                                                  \n",
      " input_14 (InputLayer)       [(None, 320, 1)]             0         []                            \n",
      "                                                                                                  \n",
      " conv1d_15 (Conv1D)          (None, 318, 16)              400       ['conv1d_14[0][0]']           \n",
      "                                                                                                  \n",
      " conv1d_16 (Conv1D)          (None, 318, 16)              64        ['input_12[0][0]',            \n",
      "                                                                     'input_13[0][0]',            \n",
      "                                                                     'input_14[0][0]']            \n",
      "                                                                                                  \n",
      " conv1d_17 (Conv1D)          (None, 312, 16)              784       ['conv1d_15[0][0]']           \n",
      "                                                                                                  \n",
      " conv1d_18 (Conv1D)          (None, 312, 16)              784       ['conv1d_16[0][0]',           \n",
      "                                                                     'conv1d_16[1][0]',           \n",
      "                                                                     'conv1d_16[2][0]']           \n",
      "                                                                                                  \n",
      " conv1d_19 (Conv1D)          (None, 294, 16)              784       ['conv1d_17[0][0]']           \n",
      "                                                                                                  \n",
      " conv1d_20 (Conv1D)          (None, 294, 16)              784       ['conv1d_18[0][0]',           \n",
      "                                                                     'conv1d_18[1][0]',           \n",
      "                                                                     'conv1d_18[2][0]']           \n",
      "                                                                                                  \n",
      " dot_8 (Dot)                 (None, 16, 16)               0         ['conv1d_19[0][0]',           \n",
      "                                                                     'conv1d_20[0][0]']           \n",
      "                                                                                                  \n",
      " dot_9 (Dot)                 (None, 16, 16)               0         ['conv1d_19[0][0]',           \n",
      "                                                                     'conv1d_20[1][0]']           \n",
      "                                                                                                  \n",
      " dot_10 (Dot)                (None, 16, 16)               0         ['conv1d_19[0][0]',           \n",
      "                                                                     'conv1d_20[2][0]']           \n",
      "                                                                                                  \n",
      " flatten_8 (Flatten)         (None, 256)                  0         ['dot_8[0][0]']               \n",
      "                                                                                                  \n",
      " flatten_9 (Flatten)         (None, 256)                  0         ['dot_9[0][0]']               \n",
      "                                                                                                  \n",
      " flatten_10 (Flatten)        (None, 256)                  0         ['dot_10[0][0]']              \n",
      "                                                                                                  \n",
      " dense_2 (Dense)             (None, 1)                    257       ['flatten_8[0][0]',           \n",
      "                                                                     'flatten_9[0][0]',           \n",
      "                                                                     'flatten_10[0][0]']          \n",
      "                                                                                                  \n",
      " concatenate_2 (Concatenate  (None, 3)                    0         ['dense_2[0][0]',             \n",
      " )                                                                   'dense_2[1][0]',             \n",
      "                                                                     'dense_2[2][0]']             \n",
      "                                                                                                  \n",
      " tf.nn.softmax_2 (TFOpLambd  (None, 3)                    0         ['concatenate_2[0][0]']       \n",
      " a)                                                                                               \n",
      "                                                                                                  \n",
      "==================================================================================================\n",
      "Total params: 4377 (17.10 KB)\n",
      "Trainable params: 4377 (17.10 KB)\n",
      "Non-trainable params: 0 (0.00 Byte)\n",
      "__________________________________________________________________________________________________\n",
      "None\n",
      "826/826 - 4s - loss: 0.7348 - accuracy: 0.6634 - 4s/epoch - 5ms/step\n"
     ]
    },
    {
     "name": "stderr",
     "output_type": "stream",
     "text": [
      "2023-11-20 15:50:06.853785: I tensorflow/core/framework/local_rendezvous.cc:421] Local rendezvous recv item cancelled. Key hash: 2854719877190634054\n"
     ]
    },
    {
     "name": "stdout",
     "output_type": "stream",
     "text": [
      "558/558 - 2s - loss: 0.4895 - accuracy: 0.7975 - 2s/epoch - 4ms/step\n"
     ]
    },
    {
     "name": "stderr",
     "output_type": "stream",
     "text": [
      "2023-11-20 15:50:09.119343: I tensorflow/core/framework/local_rendezvous.cc:421] Local rendezvous recv item cancelled. Key hash: 2854719877190634054\n"
     ]
    },
    {
     "name": "stdout",
     "output_type": "stream",
     "text": [
      "613/613 - 2s - loss: 0.7258 - accuracy: 0.6732 - 2s/epoch - 4ms/step\n"
     ]
    },
    {
     "name": "stderr",
     "output_type": "stream",
     "text": [
      "2023-11-20 15:50:11.609739: I tensorflow/core/framework/local_rendezvous.cc:421] Local rendezvous recv item cancelled. Key hash: 2854719877190634054\n"
     ]
    },
    {
     "name": "stdout",
     "output_type": "stream",
     "text": [
      "536/536 - 2s - loss: 0.5956 - accuracy: 0.7432 - 2s/epoch - 4ms/step\n"
     ]
    },
    {
     "name": "stderr",
     "output_type": "stream",
     "text": [
      "2023-11-20 15:50:13.644668: I tensorflow/core/framework/local_rendezvous.cc:421] Local rendezvous recv item cancelled. Key hash: 2854719877190634054\n"
     ]
    },
    {
     "name": "stdout",
     "output_type": "stream",
     "text": [
      "613/613 - 3s - loss: 0.7058 - accuracy: 0.6949 - 3s/epoch - 4ms/step\n"
     ]
    },
    {
     "name": "stderr",
     "output_type": "stream",
     "text": [
      "2023-11-20 15:50:16.882500: I tensorflow/core/framework/local_rendezvous.cc:421] Local rendezvous recv item cancelled. Key hash: 2854719877190634054\n"
     ]
    },
    {
     "name": "stdout",
     "output_type": "stream",
     "text": [
      "826/826 - 3s - loss: 0.6736 - accuracy: 0.7280 - 3s/epoch - 4ms/step\n"
     ]
    },
    {
     "name": "stderr",
     "output_type": "stream",
     "text": [
      "2023-11-20 15:50:20.188029: I tensorflow/core/framework/local_rendezvous.cc:421] Local rendezvous recv item cancelled. Key hash: 2854719877190634054\n"
     ]
    },
    {
     "name": "stdout",
     "output_type": "stream",
     "text": [
      "826/826 - 3s - loss: 0.5608 - accuracy: 0.7672 - 3s/epoch - 4ms/step\n"
     ]
    },
    {
     "name": "stderr",
     "output_type": "stream",
     "text": [
      "2023-11-20 15:50:23.466388: I tensorflow/core/framework/local_rendezvous.cc:421] Local rendezvous recv item cancelled. Key hash: 2854719877190634054\n"
     ]
    },
    {
     "name": "stdout",
     "output_type": "stream",
     "text": [
      "549/549 - 2s - loss: 0.4551 - accuracy: 0.8336 - 2s/epoch - 4ms/step\n",
      "826/826 - 3s - loss: 0.4310 - accuracy: 0.8349 - 3s/epoch - 4ms/step\n"
     ]
    },
    {
     "name": "stderr",
     "output_type": "stream",
     "text": [
      "2023-11-20 15:50:29.028360: I tensorflow/core/framework/local_rendezvous.cc:421] Local rendezvous recv item cancelled. Key hash: 2854719877190634054\n"
     ]
    },
    {
     "name": "stdout",
     "output_type": "stream",
     "text": [
      "613/613 - 2s - loss: 0.4154 - accuracy: 0.8265 - 2s/epoch - 4ms/step\n"
     ]
    },
    {
     "name": "stderr",
     "output_type": "stream",
     "text": [
      "2023-11-20 15:50:31.502300: I tensorflow/core/framework/local_rendezvous.cc:421] Local rendezvous recv item cancelled. Key hash: 17095094114822350930\n",
      "2023-11-20 15:50:31.502370: I tensorflow/core/framework/local_rendezvous.cc:421] Local rendezvous recv item cancelled. Key hash: 2854719877190634054\n",
      "2023-11-20 15:50:31.502406: I tensorflow/core/framework/local_rendezvous.cc:421] Local rendezvous recv item cancelled. Key hash: 1235346546309526868\n"
     ]
    },
    {
     "name": "stdout",
     "output_type": "stream",
     "text": [
      "536/536 - 2s - loss: 0.6115 - accuracy: 0.7369 - 2s/epoch - 4ms/step\n",
      "826/826 - 3s - loss: 0.7266 - accuracy: 0.6727 - 3s/epoch - 4ms/step\n"
     ]
    },
    {
     "name": "stderr",
     "output_type": "stream",
     "text": [
      "2023-11-20 15:50:36.861012: I tensorflow/core/framework/local_rendezvous.cc:421] Local rendezvous recv item cancelled. Key hash: 17095094114822350930\n",
      "2023-11-20 15:50:36.861076: I tensorflow/core/framework/local_rendezvous.cc:421] Local rendezvous recv item cancelled. Key hash: 2854719877190634054\n"
     ]
    },
    {
     "name": "stdout",
     "output_type": "stream",
     "text": [
      "535/535 - 2s - loss: 0.8489 - accuracy: 0.6368 - 2s/epoch - 4ms/step\n"
     ]
    },
    {
     "name": "stderr",
     "output_type": "stream",
     "text": [
      "2023-11-20 15:50:39.125762: I tensorflow/core/framework/local_rendezvous.cc:421] Local rendezvous recv item cancelled. Key hash: 2854719877190634054\n"
     ]
    },
    {
     "name": "stdout",
     "output_type": "stream",
     "text": [
      "611/611 - 2s - loss: 0.7530 - accuracy: 0.6656 - 2s/epoch - 4ms/step\n",
      "815/815 - 3s - loss: 0.6504 - accuracy: 0.7301 - 3s/epoch - 4ms/step\n",
      "639/639 - 3s - loss: 0.9626 - accuracy: 0.5263 - 3s/epoch - 4ms/step\n"
     ]
    },
    {
     "name": "stderr",
     "output_type": "stream",
     "text": [
      "2023-11-20 15:50:47.395095: I tensorflow/core/framework/local_rendezvous.cc:421] Local rendezvous recv item cancelled. Key hash: 2854719877190634054\n"
     ]
    },
    {
     "name": "stdout",
     "output_type": "stream",
     "text": [
      "639/639 - 3s - loss: 0.8296 - accuracy: 0.6312 - 3s/epoch - 4ms/step\n",
      "826/826 - 3s - loss: 0.4884 - accuracy: 0.8087 - 3s/epoch - 4ms/step\n"
     ]
    },
    {
     "name": "stderr",
     "output_type": "stream",
     "text": [
      "2023-11-20 15:50:53.303072: I tensorflow/core/framework/local_rendezvous.cc:421] Local rendezvous recv item cancelled. Key hash: 17095094114822350930\n",
      "2023-11-20 15:50:53.303143: I tensorflow/core/framework/local_rendezvous.cc:421] Local rendezvous recv item cancelled. Key hash: 2854719877190634054\n"
     ]
    },
    {
     "name": "stdout",
     "output_type": "stream",
     "text": [
      "826/826 - 3s - loss: 0.6721 - accuracy: 0.7070 - 3s/epoch - 4ms/step\n"
     ]
    },
    {
     "name": "stderr",
     "output_type": "stream",
     "text": [
      "2023-11-20 15:50:56.539591: I tensorflow/core/framework/local_rendezvous.cc:421] Local rendezvous recv item cancelled. Key hash: 2854719877190634054\n"
     ]
    },
    {
     "name": "stdout",
     "output_type": "stream",
     "text": [
      "549/549 - 2s - loss: 0.7915 - accuracy: 0.6588 - 2s/epoch - 4ms/step\n"
     ]
    },
    {
     "name": "stderr",
     "output_type": "stream",
     "text": [
      "2023-11-20 15:50:58.814190: I tensorflow/core/framework/local_rendezvous.cc:421] Local rendezvous recv item cancelled. Key hash: 2854719877190634054\n"
     ]
    },
    {
     "name": "stdout",
     "output_type": "stream",
     "text": [
      "549/549 - 2s - loss: 0.5111 - accuracy: 0.7845 - 2s/epoch - 4ms/step\n"
     ]
    },
    {
     "name": "stderr",
     "output_type": "stream",
     "text": [
      "2023-11-20 15:51:01.133263: I tensorflow/core/framework/local_rendezvous.cc:421] Local rendezvous recv item cancelled. Key hash: 17095094114822350930\n",
      "2023-11-20 15:51:01.133333: I tensorflow/core/framework/local_rendezvous.cc:421] Local rendezvous recv item cancelled. Key hash: 2854719877190634054\n"
     ]
    },
    {
     "name": "stdout",
     "output_type": "stream",
     "text": [
      "535/535 - 2s - loss: 0.5941 - accuracy: 0.7421 - 2s/epoch - 4ms/step\n"
     ]
    },
    {
     "name": "stderr",
     "output_type": "stream",
     "text": [
      "2023-11-20 15:51:03.405004: I tensorflow/core/framework/local_rendezvous.cc:421] Local rendezvous recv item cancelled. Key hash: 2854719877190634054\n"
     ]
    },
    {
     "name": "stdout",
     "output_type": "stream",
     "text": [
      "298/298 - 1s - loss: 1.1299 - accuracy: 0.4754 - 1s/epoch - 4ms/step\n",
      "639/639 - 3s - loss: 0.5222 - accuracy: 0.7851 - 3s/epoch - 4ms/step\n"
     ]
    },
    {
     "name": "stderr",
     "output_type": "stream",
     "text": [
      "2023-11-20 15:51:07.453794: I tensorflow/core/framework/local_rendezvous.cc:421] Local rendezvous recv item cancelled. Key hash: 2854719877190634054\n"
     ]
    },
    {
     "name": "stdout",
     "output_type": "stream",
     "text": [
      "632/632 - 3s - loss: 0.3126 - accuracy: 0.8776 - 3s/epoch - 4ms/step\n",
      "558/558 - 2s - loss: 0.8183 - accuracy: 0.6141 - 2s/epoch - 4ms/step\n"
     ]
    },
    {
     "name": "stderr",
     "output_type": "stream",
     "text": [
      "2023-11-20 15:51:12.318823: I tensorflow/core/framework/local_rendezvous.cc:421] Local rendezvous recv item cancelled. Key hash: 2854719877190634054\n"
     ]
    },
    {
     "name": "stdout",
     "output_type": "stream",
     "text": [
      "549/549 - 2s - loss: 0.4680 - accuracy: 0.8197 - 2s/epoch - 4ms/step\n"
     ]
    },
    {
     "name": "stderr",
     "output_type": "stream",
     "text": [
      "2023-11-20 15:51:14.622536: I tensorflow/core/framework/local_rendezvous.cc:421] Local rendezvous recv item cancelled. Key hash: 2854719877190634054\n"
     ]
    },
    {
     "name": "stdout",
     "output_type": "stream",
     "text": [
      "535/535 - 2s - loss: 0.9694 - accuracy: 0.5583 - 2s/epoch - 4ms/step\n"
     ]
    },
    {
     "name": "stderr",
     "output_type": "stream",
     "text": [
      "2023-11-20 15:51:16.898828: I tensorflow/core/framework/local_rendezvous.cc:421] Local rendezvous recv item cancelled. Key hash: 2854719877190634054\n"
     ]
    },
    {
     "name": "stdout",
     "output_type": "stream",
     "text": [
      "611/611 - 3s - loss: 0.5003 - accuracy: 0.7741 - 3s/epoch - 4ms/step\n"
     ]
    },
    {
     "name": "stderr",
     "output_type": "stream",
     "text": [
      "2023-11-20 15:51:19.432454: I tensorflow/core/framework/local_rendezvous.cc:421] Local rendezvous recv item cancelled. Key hash: 2854719877190634054\n"
     ]
    },
    {
     "name": "stdout",
     "output_type": "stream",
     "text": [
      "660/660 - 3s - loss: 0.4651 - accuracy: 0.8096 - 3s/epoch - 4ms/step\n"
     ]
    },
    {
     "name": "stderr",
     "output_type": "stream",
     "text": [
      "2023-11-20 15:51:22.085522: I tensorflow/core/framework/local_rendezvous.cc:421] Local rendezvous recv item cancelled. Key hash: 2854719877190634054\n"
     ]
    },
    {
     "name": "stdout",
     "output_type": "stream",
     "text": [
      "826/826 - 3s - loss: 0.3924 - accuracy: 0.8426 - 3s/epoch - 4ms/step\n"
     ]
    },
    {
     "name": "stderr",
     "output_type": "stream",
     "text": [
      "2023-11-20 15:51:25.405533: I tensorflow/core/framework/local_rendezvous.cc:421] Local rendezvous recv item cancelled. Key hash: 2854719877190634054\n"
     ]
    },
    {
     "name": "stdout",
     "output_type": "stream",
     "text": [
      "613/613 - 3s - loss: 0.5676 - accuracy: 0.7564 - 3s/epoch - 4ms/step\n"
     ]
    },
    {
     "name": "stderr",
     "output_type": "stream",
     "text": [
      "2023-11-20 15:51:28.051064: I tensorflow/core/framework/local_rendezvous.cc:421] Local rendezvous recv item cancelled. Key hash: 2854719877190634054\n"
     ]
    },
    {
     "name": "stdout",
     "output_type": "stream",
     "text": [
      "826/826 - 3s - loss: 0.6690 - accuracy: 0.7224 - 3s/epoch - 4ms/step\n"
     ]
    },
    {
     "name": "stderr",
     "output_type": "stream",
     "text": [
      "2023-11-20 15:51:31.480549: I tensorflow/core/framework/local_rendezvous.cc:421] Local rendezvous recv item cancelled. Key hash: 2854719877190634054\n"
     ]
    },
    {
     "name": "stdout",
     "output_type": "stream",
     "text": [
      "319/319 - 1s - loss: 0.6288 - accuracy: 0.7220 - 1s/epoch - 4ms/step\n"
     ]
    },
    {
     "name": "stderr",
     "output_type": "stream",
     "text": [
      "2023-11-20 15:51:32.831832: I tensorflow/core/framework/local_rendezvous.cc:421] Local rendezvous recv item cancelled. Key hash: 2854719877190634054\n"
     ]
    },
    {
     "name": "stdout",
     "output_type": "stream",
     "text": [
      "536/536 - 2s - loss: 0.1837 - accuracy: 0.9316 - 2s/epoch - 4ms/step\n",
      "535/535 - 2s - loss: 0.7423 - accuracy: 0.6841 - 2s/epoch - 4ms/step\n"
     ]
    },
    {
     "name": "stderr",
     "output_type": "stream",
     "text": [
      "2023-11-20 15:51:37.449326: I tensorflow/core/framework/local_rendezvous.cc:421] Local rendezvous recv item cancelled. Key hash: 2854719877190634054\n"
     ]
    },
    {
     "name": "stdout",
     "output_type": "stream",
     "text": [
      "826/826 - 3s - loss: 0.6969 - accuracy: 0.6957 - 3s/epoch - 4ms/step\n"
     ]
    },
    {
     "name": "stderr",
     "output_type": "stream",
     "text": [
      "2023-11-20 15:51:40.824876: I tensorflow/core/framework/local_rendezvous.cc:421] Local rendezvous recv item cancelled. Key hash: 2854719877190634054\n"
     ]
    },
    {
     "name": "stdout",
     "output_type": "stream",
     "text": [
      "613/613 - 3s - loss: 0.6559 - accuracy: 0.7118 - 3s/epoch - 4ms/step\n"
     ]
    },
    {
     "name": "stderr",
     "output_type": "stream",
     "text": [
      "2023-11-20 15:51:43.361716: I tensorflow/core/framework/local_rendezvous.cc:421] Local rendezvous recv item cancelled. Key hash: 2854719877190634054\n"
     ]
    },
    {
     "name": "stdout",
     "output_type": "stream",
     "text": [
      "815/815 - 3s - loss: 0.7370 - accuracy: 0.6474 - 3s/epoch - 4ms/step\n",
      "558/558 - 2s - loss: 0.4339 - accuracy: 0.8417 - 2s/epoch - 4ms/step\n",
      "477/477 - 2s - loss: 0.5991 - accuracy: 0.7393 - 2s/epoch - 4ms/step\n"
     ]
    },
    {
     "name": "stderr",
     "output_type": "stream",
     "text": [
      "2023-11-20 15:51:51.070483: I tensorflow/core/framework/local_rendezvous.cc:421] Local rendezvous recv item cancelled. Key hash: 2854719877190634054\n"
     ]
    },
    {
     "name": "stdout",
     "output_type": "stream",
     "text": [
      "549/549 - 2s - loss: 0.3292 - accuracy: 0.8652 - 2s/epoch - 4ms/step\n",
      "558/558 - 2s - loss: 0.5053 - accuracy: 0.7903 - 2s/epoch - 4ms/step\n",
      "528/528 - 2s - loss: 0.9464 - accuracy: 0.5701 - 2s/epoch - 4ms/step\n"
     ]
    },
    {
     "name": "stderr",
     "output_type": "stream",
     "text": [
      "2023-11-20 15:51:58.150590: I tensorflow/core/framework/local_rendezvous.cc:421] Local rendezvous recv item cancelled. Key hash: 2854719877190634054\n"
     ]
    },
    {
     "name": "stdout",
     "output_type": "stream",
     "text": [
      "826/826 - 3s - loss: 0.3997 - accuracy: 0.8414 - 3s/epoch - 4ms/step\n"
     ]
    },
    {
     "name": "stderr",
     "output_type": "stream",
     "text": [
      "2023-11-20 15:52:01.653331: I tensorflow/core/framework/local_rendezvous.cc:421] Local rendezvous recv item cancelled. Key hash: 2854719877190634054\n"
     ]
    },
    {
     "name": "stdout",
     "output_type": "stream",
     "text": [
      "815/815 - 3s - loss: 0.8996 - accuracy: 0.5632 - 3s/epoch - 4ms/step\n"
     ]
    },
    {
     "name": "stderr",
     "output_type": "stream",
     "text": [
      "2023-11-20 15:52:05.071951: I tensorflow/core/framework/local_rendezvous.cc:421] Local rendezvous recv item cancelled. Key hash: 2854719877190634054\n"
     ]
    },
    {
     "name": "stdout",
     "output_type": "stream",
     "text": [
      "549/549 - 2s - loss: 0.7993 - accuracy: 0.6655 - 2s/epoch - 4ms/step\n"
     ]
    },
    {
     "name": "stderr",
     "output_type": "stream",
     "text": [
      "2023-11-20 15:52:07.372782: I tensorflow/core/framework/local_rendezvous.cc:421] Local rendezvous recv item cancelled. Key hash: 2854719877190634054\n"
     ]
    },
    {
     "name": "stdout",
     "output_type": "stream",
     "text": [
      "639/639 - 3s - loss: 0.7981 - accuracy: 0.6463 - 3s/epoch - 4ms/step\n"
     ]
    },
    {
     "name": "stderr",
     "output_type": "stream",
     "text": [
      "2023-11-20 15:52:09.965186: I tensorflow/core/framework/local_rendezvous.cc:421] Local rendezvous recv item cancelled. Key hash: 2854719877190634054\n"
     ]
    },
    {
     "name": "stdout",
     "output_type": "stream",
     "text": [
      "535/535 - 2s - loss: 0.8185 - accuracy: 0.6586 - 2s/epoch - 4ms/step\n"
     ]
    },
    {
     "name": "stderr",
     "output_type": "stream",
     "text": [
      "2023-11-20 15:52:12.213562: I tensorflow/core/framework/local_rendezvous.cc:421] Local rendezvous recv item cancelled. Key hash: 2854719877190634054\n"
     ]
    },
    {
     "name": "stdout",
     "output_type": "stream",
     "text": [
      "611/611 - 2s - loss: 0.5086 - accuracy: 0.7851 - 2s/epoch - 4ms/step\n"
     ]
    },
    {
     "name": "stderr",
     "output_type": "stream",
     "text": [
      "2023-11-20 15:52:14.713717: I tensorflow/core/framework/local_rendezvous.cc:421] Local rendezvous recv item cancelled. Key hash: 2854719877190634054\n"
     ]
    },
    {
     "name": "stdout",
     "output_type": "stream",
     "text": [
      "639/639 - 3s - loss: 0.8489 - accuracy: 0.6448 - 3s/epoch - 4ms/step\n"
     ]
    },
    {
     "name": "stderr",
     "output_type": "stream",
     "text": [
      "2023-11-20 15:52:17.334985: I tensorflow/core/framework/local_rendezvous.cc:421] Local rendezvous recv item cancelled. Key hash: 2854719877190634054\n"
     ]
    },
    {
     "name": "stdout",
     "output_type": "stream",
     "text": [
      "826/826 - 3s - loss: 0.9011 - accuracy: 0.6138 - 3s/epoch - 4ms/step\n"
     ]
    },
    {
     "name": "stderr",
     "output_type": "stream",
     "text": [
      "2023-11-20 15:52:20.605124: I tensorflow/core/framework/local_rendezvous.cc:421] Local rendezvous recv item cancelled. Key hash: 2854719877190634054\n"
     ]
    },
    {
     "name": "stdout",
     "output_type": "stream",
     "text": [
      "852/852 - 3s - loss: 0.5762 - accuracy: 0.7641 - 3s/epoch - 4ms/step\n"
     ]
    },
    {
     "name": "stderr",
     "output_type": "stream",
     "text": [
      "2023-11-20 15:52:23.970136: I tensorflow/core/framework/local_rendezvous.cc:421] Local rendezvous recv item cancelled. Key hash: 2854719877190634054\n"
     ]
    },
    {
     "name": "stdout",
     "output_type": "stream",
     "text": [
      "677/677 - 3s - loss: 0.7087 - accuracy: 0.6923 - 3s/epoch - 4ms/step\n"
     ]
    },
    {
     "name": "stderr",
     "output_type": "stream",
     "text": [
      "2023-11-20 15:52:26.716224: I tensorflow/core/framework/local_rendezvous.cc:421] Local rendezvous recv item cancelled. Key hash: 2854719877190634054\n"
     ]
    },
    {
     "name": "stdout",
     "output_type": "stream",
     "text": [
      "639/639 - 3s - loss: 0.7789 - accuracy: 0.6510 - 3s/epoch - 4ms/step\n",
      "749/749 - 3s - loss: 0.5142 - accuracy: 0.7757 - 3s/epoch - 4ms/step\n"
     ]
    },
    {
     "name": "stderr",
     "output_type": "stream",
     "text": [
      "2023-11-20 15:52:32.564133: I tensorflow/core/framework/local_rendezvous.cc:421] Local rendezvous recv item cancelled. Key hash: 2854719877190634054\n"
     ]
    },
    {
     "name": "stdout",
     "output_type": "stream",
     "text": [
      "632/632 - 3s - loss: 0.3886 - accuracy: 0.8465 - 3s/epoch - 4ms/step\n",
      "613/613 - 3s - loss: 0.6211 - accuracy: 0.7336 - 3s/epoch - 4ms/step\n"
     ]
    },
    {
     "name": "stderr",
     "output_type": "stream",
     "text": [
      "2023-11-20 15:52:37.885718: I tensorflow/core/framework/local_rendezvous.cc:421] Local rendezvous recv item cancelled. Key hash: 2854719877190634054\n"
     ]
    },
    {
     "name": "stdout",
     "output_type": "stream",
     "text": [
      "632/632 - 2s - loss: 0.6183 - accuracy: 0.7199 - 2s/epoch - 4ms/step\n"
     ]
    },
    {
     "name": "stderr",
     "output_type": "stream",
     "text": [
      "2023-11-20 15:52:40.205612: I tensorflow/core/framework/local_rendezvous.cc:421] Local rendezvous recv item cancelled. Key hash: 2854719877190634054\n"
     ]
    },
    {
     "name": "stdout",
     "output_type": "stream",
     "text": [
      "740/740 - 3s - loss: 0.4585 - accuracy: 0.8180 - 3s/epoch - 4ms/step\n"
     ]
    },
    {
     "name": "stderr",
     "output_type": "stream",
     "text": [
      "2023-11-20 15:52:43.202889: I tensorflow/core/framework/local_rendezvous.cc:421] Local rendezvous recv item cancelled. Key hash: 2854719877190634054\n"
     ]
    },
    {
     "name": "stdout",
     "output_type": "stream",
     "text": [
      "611/611 - 2s - loss: 0.6098 - accuracy: 0.7256 - 2s/epoch - 4ms/step\n"
     ]
    },
    {
     "name": "stderr",
     "output_type": "stream",
     "text": [
      "2023-11-20 15:52:45.668594: I tensorflow/core/framework/local_rendezvous.cc:421] Local rendezvous recv item cancelled. Key hash: 2854719877190634054\n"
     ]
    },
    {
     "name": "stdout",
     "output_type": "stream",
     "text": [
      "749/749 - 3s - loss: 0.6148 - accuracy: 0.7499 - 3s/epoch - 4ms/step\n"
     ]
    },
    {
     "name": "stderr",
     "output_type": "stream",
     "text": [
      "2023-11-20 15:52:48.764034: I tensorflow/core/framework/local_rendezvous.cc:421] Local rendezvous recv item cancelled. Key hash: 2854719877190634054\n"
     ]
    },
    {
     "name": "stdout",
     "output_type": "stream",
     "text": [
      "632/632 - 3s - loss: 0.4353 - accuracy: 0.8101 - 3s/epoch - 4ms/step\n"
     ]
    },
    {
     "name": "stderr",
     "output_type": "stream",
     "text": [
      "2023-11-20 15:52:51.343519: I tensorflow/core/framework/local_rendezvous.cc:421] Local rendezvous recv item cancelled. Key hash: 2854719877190634054\n"
     ]
    },
    {
     "name": "stdout",
     "output_type": "stream",
     "text": [
      "258/258 - 1s - loss: 0.8672 - accuracy: 0.6008 - 1s/epoch - 5ms/step\n"
     ]
    },
    {
     "name": "stderr",
     "output_type": "stream",
     "text": [
      "2023-11-20 15:52:52.523096: I tensorflow/core/framework/local_rendezvous.cc:421] Local rendezvous recv item cancelled. Key hash: 2854719877190634054\n"
     ]
    },
    {
     "name": "stdout",
     "output_type": "stream",
     "text": [
      "826/826 - 3s - loss: 0.6517 - accuracy: 0.6933 - 3s/epoch - 4ms/step\n"
     ]
    },
    {
     "name": "stderr",
     "output_type": "stream",
     "text": [
      "2023-11-20 15:52:55.900886: I tensorflow/core/framework/local_rendezvous.cc:421] Local rendezvous recv item cancelled. Key hash: 17095094114822350930\n",
      "2023-11-20 15:52:55.900969: I tensorflow/core/framework/local_rendezvous.cc:421] Local rendezvous recv item cancelled. Key hash: 2854719877190634054\n"
     ]
    },
    {
     "name": "stdout",
     "output_type": "stream",
     "text": [
      "303/303 - 1s - loss: 1.1219 - accuracy: 0.4169 - 1s/epoch - 4ms/step\n"
     ]
    },
    {
     "name": "stderr",
     "output_type": "stream",
     "text": [
      "2023-11-20 15:52:57.199150: I tensorflow/core/framework/local_rendezvous.cc:421] Local rendezvous recv item cancelled. Key hash: 2854719877190634054\n"
     ]
    },
    {
     "name": "stdout",
     "output_type": "stream",
     "text": [
      "558/558 - 2s - loss: 0.8433 - accuracy: 0.6171 - 2s/epoch - 4ms/step\n",
      "558/558 - 2s - loss: 0.6952 - accuracy: 0.6989 - 2s/epoch - 4ms/step\n"
     ]
    },
    {
     "name": "stderr",
     "output_type": "stream",
     "text": [
      "2023-11-20 15:53:01.552600: I tensorflow/core/framework/local_rendezvous.cc:421] Local rendezvous recv item cancelled. Key hash: 2854719877190634054\n"
     ]
    },
    {
     "name": "stdout",
     "output_type": "stream",
     "text": [
      "639/639 - 3s - loss: 0.8157 - accuracy: 0.6776 - 3s/epoch - 4ms/step\n"
     ]
    },
    {
     "name": "stderr",
     "output_type": "stream",
     "text": [
      "2023-11-20 15:53:04.263359: I tensorflow/core/framework/local_rendezvous.cc:421] Local rendezvous recv item cancelled. Key hash: 2854719877190634054\n"
     ]
    },
    {
     "name": "stdout",
     "output_type": "stream",
     "text": [
      "536/536 - 2s - loss: 0.7516 - accuracy: 0.6642 - 2s/epoch - 4ms/step\n",
      "632/632 - 3s - loss: 0.5998 - accuracy: 0.7484 - 3s/epoch - 4ms/step\n"
     ]
    },
    {
     "name": "stderr",
     "output_type": "stream",
     "text": [
      "2023-11-20 15:53:09.330932: I tensorflow/core/framework/local_rendezvous.cc:421] Local rendezvous recv item cancelled. Key hash: 2854719877190634054\n"
     ]
    },
    {
     "name": "stdout",
     "output_type": "stream",
     "text": [
      "826/826 - 3s - loss: 0.4291 - accuracy: 0.8345 - 3s/epoch - 4ms/step\n"
     ]
    },
    {
     "name": "stderr",
     "output_type": "stream",
     "text": [
      "2023-11-20 15:53:12.650085: I tensorflow/core/framework/local_rendezvous.cc:421] Local rendezvous recv item cancelled. Key hash: 2854719877190634054\n"
     ]
    },
    {
     "name": "stdout",
     "output_type": "stream",
     "text": [
      "328/328 - 1s - loss: 0.8925 - accuracy: 0.6179 - 1s/epoch - 4ms/step\n"
     ]
    },
    {
     "name": "stderr",
     "output_type": "stream",
     "text": [
      "2023-11-20 15:53:14.085482: I tensorflow/core/framework/local_rendezvous.cc:421] Local rendezvous recv item cancelled. Key hash: 2854719877190634054\n"
     ]
    },
    {
     "name": "stdout",
     "output_type": "stream",
     "text": [
      "611/611 - 3s - loss: 0.4847 - accuracy: 0.8260 - 3s/epoch - 4ms/step\n"
     ]
    },
    {
     "name": "stderr",
     "output_type": "stream",
     "text": [
      "2023-11-20 15:53:16.601175: I tensorflow/core/framework/local_rendezvous.cc:421] Local rendezvous recv item cancelled. Key hash: 2854719877190634054\n"
     ]
    },
    {
     "name": "stdout",
     "output_type": "stream",
     "text": [
      "535/535 - 2s - loss: 0.8676 - accuracy: 0.6343 - 2s/epoch - 4ms/step\n"
     ]
    },
    {
     "name": "stderr",
     "output_type": "stream",
     "text": [
      "2023-11-20 15:53:18.869775: I tensorflow/core/framework/local_rendezvous.cc:421] Local rendezvous recv item cancelled. Key hash: 2854719877190634054\n"
     ]
    },
    {
     "name": "stdout",
     "output_type": "stream",
     "text": [
      "588/588 - 2s - loss: 0.5075 - accuracy: 0.7863 - 2s/epoch - 4ms/step\n"
     ]
    },
    {
     "name": "stderr",
     "output_type": "stream",
     "text": [
      "2023-11-20 15:53:21.302018: I tensorflow/core/framework/local_rendezvous.cc:421] Local rendezvous recv item cancelled. Key hash: 2854719877190634054\n"
     ]
    },
    {
     "name": "stdout",
     "output_type": "stream",
     "text": [
      "535/535 - 2s - loss: 0.5279 - accuracy: 0.7882 - 2s/epoch - 4ms/step\n"
     ]
    },
    {
     "name": "stderr",
     "output_type": "stream",
     "text": [
      "2023-11-20 15:53:23.587758: I tensorflow/core/framework/local_rendezvous.cc:421] Local rendezvous recv item cancelled. Key hash: 2854719877190634054\n"
     ]
    },
    {
     "name": "stdout",
     "output_type": "stream",
     "text": [
      "677/677 - 3s - loss: 0.4433 - accuracy: 0.8213 - 3s/epoch - 4ms/step\n"
     ]
    },
    {
     "name": "stderr",
     "output_type": "stream",
     "text": [
      "2023-11-20 15:53:26.450303: I tensorflow/core/framework/local_rendezvous.cc:421] Local rendezvous recv item cancelled. Key hash: 2854719877190634054\n"
     ]
    },
    {
     "name": "stdout",
     "output_type": "stream",
     "text": [
      "826/826 - 3s - loss: 0.9151 - accuracy: 0.5670 - 3s/epoch - 4ms/step\n"
     ]
    },
    {
     "name": "stderr",
     "output_type": "stream",
     "text": [
      "2023-11-20 15:53:29.951754: I tensorflow/core/framework/local_rendezvous.cc:421] Local rendezvous recv item cancelled. Key hash: 2854719877190634054\n"
     ]
    },
    {
     "name": "stdout",
     "output_type": "stream",
     "text": [
      "639/639 - 3s - loss: 0.7129 - accuracy: 0.6870 - 3s/epoch - 4ms/step\n"
     ]
    },
    {
     "name": "stderr",
     "output_type": "stream",
     "text": [
      "2023-11-20 15:53:32.672106: I tensorflow/core/framework/local_rendezvous.cc:421] Local rendezvous recv item cancelled. Key hash: 2854719877190634054\n"
     ]
    },
    {
     "name": "stdout",
     "output_type": "stream",
     "text": [
      "815/815 - 3s - loss: 0.8246 - accuracy: 0.6299 - 3s/epoch - 4ms/step\n"
     ]
    },
    {
     "name": "stderr",
     "output_type": "stream",
     "text": [
      "2023-11-20 15:53:35.937222: I tensorflow/core/framework/local_rendezvous.cc:421] Local rendezvous recv item cancelled. Key hash: 2854719877190634054\n"
     ]
    },
    {
     "name": "stdout",
     "output_type": "stream",
     "text": [
      "639/639 - 3s - loss: 0.9526 - accuracy: 0.5436 - 3s/epoch - 4ms/step\n"
     ]
    },
    {
     "name": "stderr",
     "output_type": "stream",
     "text": [
      "2023-11-20 15:53:38.505880: I tensorflow/core/framework/local_rendezvous.cc:421] Local rendezvous recv item cancelled. Key hash: 2854719877190634054\n"
     ]
    },
    {
     "name": "stdout",
     "output_type": "stream",
     "text": [
      "677/677 - 3s - loss: 0.4874 - accuracy: 0.8114 - 3s/epoch - 4ms/step\n"
     ]
    },
    {
     "name": "stderr",
     "output_type": "stream",
     "text": [
      "2023-11-20 15:53:41.241383: I tensorflow/core/framework/local_rendezvous.cc:421] Local rendezvous recv item cancelled. Key hash: 2854719877190634054\n"
     ]
    },
    {
     "name": "stdout",
     "output_type": "stream",
     "text": [
      "677/677 - 3s - loss: 0.7801 - accuracy: 0.6548 - 3s/epoch - 4ms/step\n"
     ]
    },
    {
     "name": "stderr",
     "output_type": "stream",
     "text": [
      "2023-11-20 15:53:43.961214: I tensorflow/core/framework/local_rendezvous.cc:421] Local rendezvous recv item cancelled. Key hash: 2854719877190634054\n"
     ]
    },
    {
     "name": "stdout",
     "output_type": "stream",
     "text": [
      "677/677 - 3s - loss: 0.7089 - accuracy: 0.7198 - 3s/epoch - 4ms/step\n"
     ]
    },
    {
     "name": "stderr",
     "output_type": "stream",
     "text": [
      "2023-11-20 15:53:46.692767: I tensorflow/core/framework/local_rendezvous.cc:421] Local rendezvous recv item cancelled. Key hash: 2854719877190634054\n"
     ]
    },
    {
     "name": "stdout",
     "output_type": "stream",
     "text": [
      "Model: \"model_3\"\n",
      "__________________________________________________________________________________________________\n",
      " Layer (type)                Output Shape                 Param #   Connected to                  \n",
      "==================================================================================================\n",
      " input_15 (InputLayer)       [(None, 192, 64)]            0         []                            \n",
      "                                                                                                  \n",
      " conv1d_21 (Conv1D)          (None, 192, 8)               520       ['input_15[0][0]']            \n",
      "                                                                                                  \n",
      " input_16 (InputLayer)       [(None, 192, 1)]             0         []                            \n",
      "                                                                                                  \n",
      " input_17 (InputLayer)       [(None, 192, 1)]             0         []                            \n",
      "                                                                                                  \n",
      " input_18 (InputLayer)       [(None, 192, 1)]             0         []                            \n",
      "                                                                                                  \n",
      " input_19 (InputLayer)       [(None, 192, 1)]             0         []                            \n",
      "                                                                                                  \n",
      " conv1d_22 (Conv1D)          (None, 190, 16)              400       ['conv1d_21[0][0]']           \n",
      "                                                                                                  \n",
      " conv1d_23 (Conv1D)          (None, 190, 16)              64        ['input_16[0][0]',            \n",
      "                                                                     'input_17[0][0]',            \n",
      "                                                                     'input_18[0][0]',            \n",
      "                                                                     'input_19[0][0]']            \n",
      "                                                                                                  \n",
      " conv1d_24 (Conv1D)          (None, 184, 16)              784       ['conv1d_22[0][0]']           \n",
      "                                                                                                  \n",
      " conv1d_25 (Conv1D)          (None, 184, 16)              784       ['conv1d_23[0][0]',           \n",
      "                                                                     'conv1d_23[1][0]',           \n",
      "                                                                     'conv1d_23[2][0]',           \n",
      "                                                                     'conv1d_23[3][0]']           \n",
      "                                                                                                  \n",
      " conv1d_26 (Conv1D)          (None, 166, 16)              784       ['conv1d_24[0][0]']           \n",
      "                                                                                                  \n",
      " conv1d_27 (Conv1D)          (None, 166, 16)              784       ['conv1d_25[0][0]',           \n",
      "                                                                     'conv1d_25[1][0]',           \n",
      "                                                                     'conv1d_25[2][0]',           \n",
      "                                                                     'conv1d_25[3][0]']           \n",
      "                                                                                                  \n",
      " dot_11 (Dot)                (None, 16, 16)               0         ['conv1d_26[0][0]',           \n",
      "                                                                     'conv1d_27[0][0]']           \n",
      "                                                                                                  \n",
      " dot_12 (Dot)                (None, 16, 16)               0         ['conv1d_26[0][0]',           \n",
      "                                                                     'conv1d_27[1][0]']           \n",
      "                                                                                                  \n",
      " dot_13 (Dot)                (None, 16, 16)               0         ['conv1d_26[0][0]',           \n",
      "                                                                     'conv1d_27[2][0]']           \n",
      "                                                                                                  \n",
      " dot_14 (Dot)                (None, 16, 16)               0         ['conv1d_26[0][0]',           \n",
      "                                                                     'conv1d_27[3][0]']           \n",
      "                                                                                                  \n",
      " flatten_11 (Flatten)        (None, 256)                  0         ['dot_11[0][0]']              \n",
      "                                                                                                  \n",
      " flatten_12 (Flatten)        (None, 256)                  0         ['dot_12[0][0]']              \n",
      "                                                                                                  \n",
      " flatten_13 (Flatten)        (None, 256)                  0         ['dot_13[0][0]']              \n",
      "                                                                                                  \n",
      " flatten_14 (Flatten)        (None, 256)                  0         ['dot_14[0][0]']              \n",
      "                                                                                                  \n",
      " dense_3 (Dense)             (None, 1)                    257       ['flatten_11[0][0]',          \n",
      "                                                                     'flatten_12[0][0]',          \n",
      "                                                                     'flatten_13[0][0]',          \n",
      "                                                                     'flatten_14[0][0]']          \n",
      "                                                                                                  \n",
      " concatenate_3 (Concatenate  (None, 4)                    0         ['dense_3[0][0]',             \n",
      " )                                                                   'dense_3[1][0]',             \n",
      "                                                                     'dense_3[2][0]',             \n",
      "                                                                     'dense_3[3][0]']             \n",
      "                                                                                                  \n",
      " tf.nn.softmax_3 (TFOpLambd  (None, 4)                    0         ['concatenate_3[0][0]']       \n",
      " a)                                                                                               \n",
      "                                                                                                  \n",
      "==================================================================================================\n",
      "Total params: 4377 (17.10 KB)\n",
      "Trainable params: 4377 (17.10 KB)\n",
      "Non-trainable params: 0 (0.00 Byte)\n",
      "__________________________________________________________________________________________________\n",
      "None\n",
      "846/846 - 5s - loss: 1.3005 - accuracy: 0.4997 - 5s/epoch - 5ms/step\n"
     ]
    },
    {
     "name": "stderr",
     "output_type": "stream",
     "text": [
      "2023-11-20 15:54:00.903434: I tensorflow/core/framework/local_rendezvous.cc:421] Local rendezvous recv item cancelled. Key hash: 16923956244791005756\n"
     ]
    },
    {
     "name": "stdout",
     "output_type": "stream",
     "text": [
      "570/570 - 3s - loss: 1.0093 - accuracy: 0.6061 - 3s/epoch - 5ms/step\n",
      "627/627 - 3s - loss: 1.2376 - accuracy: 0.5227 - 3s/epoch - 5ms/step\n"
     ]
    },
    {
     "name": "stderr",
     "output_type": "stream",
     "text": [
      "2023-11-20 15:54:06.513091: I tensorflow/core/framework/local_rendezvous.cc:421] Local rendezvous recv item cancelled. Key hash: 7867038746593761335\n",
      "2023-11-20 15:54:06.513185: I tensorflow/core/framework/local_rendezvous.cc:421] Local rendezvous recv item cancelled. Key hash: 17095094114822350930\n",
      "2023-11-20 15:54:06.513201: I tensorflow/core/framework/local_rendezvous.cc:421] Local rendezvous recv item cancelled. Key hash: 16923956244791005756\n",
      "2023-11-20 15:54:06.513279: I tensorflow/core/framework/local_rendezvous.cc:421] Local rendezvous recv item cancelled. Key hash: 17806865026235276410\n"
     ]
    },
    {
     "name": "stdout",
     "output_type": "stream",
     "text": [
      "550/550 - 3s - loss: 1.0905 - accuracy: 0.5695 - 3s/epoch - 5ms/step\n",
      "627/627 - 3s - loss: 1.2089 - accuracy: 0.5219 - 3s/epoch - 5ms/step\n",
      "846/846 - 4s - loss: 1.1195 - accuracy: 0.5541 - 4s/epoch - 4ms/step\n"
     ]
    },
    {
     "name": "stderr",
     "output_type": "stream",
     "text": [
      "2023-11-20 15:54:15.880863: I tensorflow/core/framework/local_rendezvous.cc:421] Local rendezvous recv item cancelled. Key hash: 16923956244791005756\n"
     ]
    },
    {
     "name": "stdout",
     "output_type": "stream",
     "text": [
      "846/846 - 4s - loss: 0.9582 - accuracy: 0.6350 - 4s/epoch - 5ms/step\n",
      "561/561 - 3s - loss: 0.9038 - accuracy: 0.6368 - 3s/epoch - 5ms/step\n",
      "846/846 - 4s - loss: 0.9319 - accuracy: 0.6191 - 4s/epoch - 4ms/step\n",
      "627/627 - 3s - loss: 0.8424 - accuracy: 0.6711 - 3s/epoch - 5ms/step\n",
      "550/550 - 3s - loss: 1.0801 - accuracy: 0.5341 - 3s/epoch - 5ms/step\n",
      "846/846 - 4s - loss: 1.3169 - accuracy: 0.5109 - 4s/epoch - 5ms/step\n",
      "549/549 - 3s - loss: 1.4308 - accuracy: 0.4522 - 3s/epoch - 5ms/step\n"
     ]
    },
    {
     "name": "stderr",
     "output_type": "stream",
     "text": [
      "2023-11-20 15:54:38.063354: I tensorflow/core/framework/local_rendezvous.cc:421] Local rendezvous recv item cancelled. Key hash: 7867038746593761335\n",
      "2023-11-20 15:54:38.063428: I tensorflow/core/framework/local_rendezvous.cc:421] Local rendezvous recv item cancelled. Key hash: 16923956244791005756\n",
      "2023-11-20 15:54:38.063447: I tensorflow/core/framework/local_rendezvous.cc:421] Local rendezvous recv item cancelled. Key hash: 17806865026235276410\n"
     ]
    },
    {
     "name": "stdout",
     "output_type": "stream",
     "text": [
      "625/625 - 3s - loss: 1.2911 - accuracy: 0.4932 - 3s/epoch - 5ms/step\n"
     ]
    },
    {
     "name": "stderr",
     "output_type": "stream",
     "text": [
      "2023-11-20 15:54:40.974489: I tensorflow/core/framework/local_rendezvous.cc:421] Local rendezvous recv item cancelled. Key hash: 16923956244791005756\n"
     ]
    },
    {
     "name": "stdout",
     "output_type": "stream",
     "text": [
      "837/837 - 4s - loss: 1.1057 - accuracy: 0.5451 - 4s/epoch - 4ms/step\n",
      "653/653 - 3s - loss: 1.3625 - accuracy: 0.3587 - 3s/epoch - 4ms/step\n",
      "653/653 - 3s - loss: 1.3563 - accuracy: 0.4805 - 3s/epoch - 5ms/step\n",
      "846/846 - 4s - loss: 0.9863 - accuracy: 0.6155 - 4s/epoch - 5ms/step\n",
      "846/846 - 4s - loss: 1.1584 - accuracy: 0.5635 - 4s/epoch - 4ms/step\n",
      "561/561 - 3s - loss: 1.3582 - accuracy: 0.4679 - 3s/epoch - 5ms/step\n",
      "561/561 - 3s - loss: 0.9539 - accuracy: 0.6190 - 3s/epoch - 5ms/step\n",
      "549/549 - 3s - loss: 1.0061 - accuracy: 0.6198 - 3s/epoch - 5ms/step\n",
      "306/306 - 2s - loss: 1.7356 - accuracy: 0.3562 - 2s/epoch - 5ms/step\n",
      "653/653 - 3s - loss: 0.9699 - accuracy: 0.6313 - 3s/epoch - 4ms/step\n",
      "656/656 - 3s - loss: 0.7211 - accuracy: 0.6959 - 3s/epoch - 5ms/step\n",
      "570/570 - 3s - loss: 1.2985 - accuracy: 0.4697 - 3s/epoch - 5ms/step\n"
     ]
    },
    {
     "name": "stderr",
     "output_type": "stream",
     "text": [
      "2023-11-20 15:55:16.240741: I tensorflow/core/framework/local_rendezvous.cc:421] Local rendezvous recv item cancelled. Key hash: 16923956244791005756\n"
     ]
    },
    {
     "name": "stdout",
     "output_type": "stream",
     "text": [
      "561/561 - 3s - loss: 0.9372 - accuracy: 0.6364 - 3s/epoch - 5ms/step\n",
      "549/549 - 3s - loss: 1.5506 - accuracy: 0.4276 - 3s/epoch - 5ms/step\n",
      "625/625 - 3s - loss: 0.9229 - accuracy: 0.6416 - 3s/epoch - 4ms/step\n",
      "676/676 - 3s - loss: 0.9485 - accuracy: 0.6594 - 3s/epoch - 5ms/step\n"
     ]
    },
    {
     "name": "stderr",
     "output_type": "stream",
     "text": [
      "2023-11-20 15:55:27.415174: I tensorflow/core/framework/local_rendezvous.cc:421] Local rendezvous recv item cancelled. Key hash: 16923956244791005756\n"
     ]
    },
    {
     "name": "stdout",
     "output_type": "stream",
     "text": [
      "846/846 - 4s - loss: 0.8193 - accuracy: 0.6608 - 4s/epoch - 5ms/step\n",
      "627/627 - 3s - loss: 1.0691 - accuracy: 0.5766 - 3s/epoch - 5ms/step\n",
      "846/846 - 4s - loss: 1.1261 - accuracy: 0.5502 - 4s/epoch - 4ms/step\n",
      "327/327 - 2s - loss: 1.2050 - accuracy: 0.5550 - 2s/epoch - 5ms/step\n"
     ]
    },
    {
     "name": "stderr",
     "output_type": "stream",
     "text": [
      "2023-11-20 15:55:39.762696: I tensorflow/core/framework/local_rendezvous.cc:421] Local rendezvous recv item cancelled. Key hash: 16923956244791005756\n"
     ]
    },
    {
     "name": "stdout",
     "output_type": "stream",
     "text": [
      "550/550 - 3s - loss: 0.4736 - accuracy: 0.8077 - 3s/epoch - 5ms/step\n",
      "549/549 - 3s - loss: 1.2847 - accuracy: 0.4745 - 3s/epoch - 5ms/step\n",
      "846/846 - 4s - loss: 1.1944 - accuracy: 0.5328 - 4s/epoch - 4ms/step\n",
      "627/627 - 3s - loss: 1.1617 - accuracy: 0.5399 - 3s/epoch - 5ms/step\n",
      "837/837 - 4s - loss: 1.2567 - accuracy: 0.5105 - 4s/epoch - 4ms/step\n",
      "570/570 - 3s - loss: 0.8300 - accuracy: 0.6776 - 3s/epoch - 5ms/step\n",
      "489/489 - 2s - loss: 1.0297 - accuracy: 0.5895 - 2s/epoch - 5ms/step\n"
     ]
    },
    {
     "name": "stderr",
     "output_type": "stream",
     "text": [
      "2023-11-20 15:56:00.039836: I tensorflow/core/framework/local_rendezvous.cc:421] Local rendezvous recv item cancelled. Key hash: 16923956244791005756\n"
     ]
    },
    {
     "name": "stdout",
     "output_type": "stream",
     "text": [
      "561/561 - 3s - loss: 0.6769 - accuracy: 0.7411 - 3s/epoch - 5ms/step\n",
      "570/570 - 3s - loss: 0.9914 - accuracy: 0.6158 - 3s/epoch - 5ms/step\n",
      "540/540 - 2s - loss: 1.4588 - accuracy: 0.4273 - 2s/epoch - 4ms/step\n",
      "846/846 - 4s - loss: 0.8068 - accuracy: 0.6649 - 4s/epoch - 4ms/step\n"
     ]
    },
    {
     "name": "stderr",
     "output_type": "stream",
     "text": [
      "2023-11-20 15:56:11.487446: I tensorflow/core/framework/local_rendezvous.cc:421] Local rendezvous recv item cancelled. Key hash: 7867038746593761335\n",
      "2023-11-20 15:56:11.487534: I tensorflow/core/framework/local_rendezvous.cc:421] Local rendezvous recv item cancelled. Key hash: 16923956244791005756\n",
      "2023-11-20 15:56:11.487564: I tensorflow/core/framework/local_rendezvous.cc:421] Local rendezvous recv item cancelled. Key hash: 17806865026235276410\n"
     ]
    },
    {
     "name": "stdout",
     "output_type": "stream",
     "text": [
      "837/837 - 4s - loss: 1.4289 - accuracy: 0.4364 - 4s/epoch - 4ms/step\n",
      "561/561 - 3s - loss: 1.4067 - accuracy: 0.4902 - 3s/epoch - 5ms/step\n"
     ]
    },
    {
     "name": "stderr",
     "output_type": "stream",
     "text": [
      "2023-11-20 15:56:17.937782: I tensorflow/core/framework/local_rendezvous.cc:421] Local rendezvous recv item cancelled. Key hash: 7867038746593761335\n",
      "2023-11-20 15:56:17.937942: I tensorflow/core/framework/local_rendezvous.cc:421] Local rendezvous recv item cancelled. Key hash: 16923956244791005756\n",
      "2023-11-20 15:56:17.937960: I tensorflow/core/framework/local_rendezvous.cc:421] Local rendezvous recv item cancelled. Key hash: 17806865026235276410\n"
     ]
    },
    {
     "name": "stdout",
     "output_type": "stream",
     "text": [
      "653/653 - 3s - loss: 1.3105 - accuracy: 0.4839 - 3s/epoch - 4ms/step\n",
      "549/549 - 3s - loss: 1.3079 - accuracy: 0.5073 - 3s/epoch - 5ms/step\n",
      "625/625 - 3s - loss: 0.9324 - accuracy: 0.6208 - 3s/epoch - 5ms/step\n",
      "653/653 - 3s - loss: 1.3864 - accuracy: 0.4766 - 3s/epoch - 5ms/step\n"
     ]
    },
    {
     "name": "stderr",
     "output_type": "stream",
     "text": [
      "2023-11-20 15:56:29.307880: I tensorflow/core/framework/local_rendezvous.cc:421] Local rendezvous recv item cancelled. Key hash: 16923956244791005756\n"
     ]
    },
    {
     "name": "stdout",
     "output_type": "stream",
     "text": [
      "846/846 - 4s - loss: 1.4619 - accuracy: 0.4631 - 4s/epoch - 4ms/step\n",
      "874/874 - 4s - loss: 1.0056 - accuracy: 0.6013 - 4s/epoch - 5ms/step\n"
     ]
    },
    {
     "name": "stderr",
     "output_type": "stream",
     "text": [
      "2023-11-20 15:56:36.993497: I tensorflow/core/framework/local_rendezvous.cc:421] Local rendezvous recv item cancelled. Key hash: 16923956244791005756\n"
     ]
    },
    {
     "name": "stdout",
     "output_type": "stream",
     "text": [
      "693/693 - 3s - loss: 1.2482 - accuracy: 0.4802 - 3s/epoch - 5ms/step\n",
      "653/653 - 3s - loss: 1.3356 - accuracy: 0.4843 - 3s/epoch - 5ms/step\n"
     ]
    },
    {
     "name": "stderr",
     "output_type": "stream",
     "text": [
      "2023-11-20 15:56:43.106168: I tensorflow/core/framework/local_rendezvous.cc:421] Local rendezvous recv item cancelled. Key hash: 16923956244791005756\n"
     ]
    },
    {
     "name": "stdout",
     "output_type": "stream",
     "text": [
      "767/767 - 3s - loss: 0.9237 - accuracy: 0.6125 - 3s/epoch - 4ms/step\n"
     ]
    },
    {
     "name": "stderr",
     "output_type": "stream",
     "text": [
      "2023-11-20 15:56:46.560420: I tensorflow/core/framework/local_rendezvous.cc:421] Local rendezvous recv item cancelled. Key hash: 16923956244791005756\n",
      "2023-11-20 15:56:46.560492: I tensorflow/core/framework/local_rendezvous.cc:421] Local rendezvous recv item cancelled. Key hash: 17806865026235276410\n"
     ]
    },
    {
     "name": "stdout",
     "output_type": "stream",
     "text": [
      "656/656 - 3s - loss: 0.8020 - accuracy: 0.6829 - 3s/epoch - 4ms/step\n",
      "627/627 - 3s - loss: 1.2186 - accuracy: 0.5359 - 3s/epoch - 5ms/step\n"
     ]
    },
    {
     "name": "stderr",
     "output_type": "stream",
     "text": [
      "2023-11-20 15:56:52.372784: I tensorflow/core/framework/local_rendezvous.cc:421] Local rendezvous recv item cancelled. Key hash: 16923956244791005756\n"
     ]
    },
    {
     "name": "stdout",
     "output_type": "stream",
     "text": [
      "656/656 - 3s - loss: 1.0373 - accuracy: 0.5915 - 3s/epoch - 4ms/step\n",
      "758/758 - 3s - loss: 0.8968 - accuracy: 0.6807 - 3s/epoch - 5ms/step\n",
      "625/625 - 3s - loss: 1.0697 - accuracy: 0.5856 - 3s/epoch - 5ms/step\n",
      "767/767 - 3s - loss: 1.1929 - accuracy: 0.5411 - 3s/epoch - 5ms/step\n",
      "656/656 - 3s - loss: 0.8596 - accuracy: 0.6406 - 3s/epoch - 5ms/step\n",
      "264/264 - 1s - loss: 1.4368 - accuracy: 0.4328 - 1s/epoch - 5ms/step\n"
     ]
    },
    {
     "name": "stderr",
     "output_type": "stream",
     "text": [
      "2023-11-20 15:57:09.509101: I tensorflow/core/framework/local_rendezvous.cc:421] Local rendezvous recv item cancelled. Key hash: 16923956244791005756\n"
     ]
    },
    {
     "name": "stdout",
     "output_type": "stream",
     "text": [
      "846/846 - 4s - loss: 1.1520 - accuracy: 0.5337 - 4s/epoch - 4ms/step\n"
     ]
    },
    {
     "name": "stderr",
     "output_type": "stream",
     "text": [
      "2023-11-20 15:57:13.264172: I tensorflow/core/framework/local_rendezvous.cc:421] Local rendezvous recv item cancelled. Key hash: 16923956244791005756\n"
     ]
    },
    {
     "name": "stdout",
     "output_type": "stream",
     "text": [
      "309/309 - 2s - loss: 1.4986 - accuracy: 0.2888 - 2s/epoch - 5ms/step\n"
     ]
    },
    {
     "name": "stderr",
     "output_type": "stream",
     "text": [
      "2023-11-20 15:57:14.790576: I tensorflow/core/framework/local_rendezvous.cc:421] Local rendezvous recv item cancelled. Key hash: 7867038746593761335\n",
      "2023-11-20 15:57:14.790677: I tensorflow/core/framework/local_rendezvous.cc:421] Local rendezvous recv item cancelled. Key hash: 16923956244791005756\n",
      "2023-11-20 15:57:14.790695: I tensorflow/core/framework/local_rendezvous.cc:421] Local rendezvous recv item cancelled. Key hash: 17806865026235276410\n"
     ]
    },
    {
     "name": "stdout",
     "output_type": "stream",
     "text": [
      "570/570 - 3s - loss: 1.3287 - accuracy: 0.4868 - 3s/epoch - 4ms/step\n",
      "570/570 - 3s - loss: 1.2252 - accuracy: 0.5316 - 3s/epoch - 5ms/step\n",
      "653/653 - 3s - loss: 1.4124 - accuracy: 0.5019 - 3s/epoch - 5ms/step\n"
     ]
    },
    {
     "name": "stderr",
     "output_type": "stream",
     "text": [
      "2023-11-20 15:57:22.979128: I tensorflow/core/framework/local_rendezvous.cc:421] Local rendezvous recv item cancelled. Key hash: 16923956244791005756\n"
     ]
    },
    {
     "name": "stdout",
     "output_type": "stream",
     "text": [
      "550/550 - 3s - loss: 1.2959 - accuracy: 0.4995 - 3s/epoch - 5ms/step\n"
     ]
    },
    {
     "name": "stderr",
     "output_type": "stream",
     "text": [
      "2023-11-20 15:57:25.491966: I tensorflow/core/framework/local_rendezvous.cc:421] Local rendezvous recv item cancelled. Key hash: 16923956244791005756\n",
      "2023-11-20 15:57:25.492033: I tensorflow/core/framework/local_rendezvous.cc:421] Local rendezvous recv item cancelled. Key hash: 17806865026235276410\n"
     ]
    },
    {
     "name": "stdout",
     "output_type": "stream",
     "text": [
      "656/656 - 3s - loss: 1.0718 - accuracy: 0.5454 - 3s/epoch - 4ms/step\n"
     ]
    },
    {
     "name": "stderr",
     "output_type": "stream",
     "text": [
      "2023-11-20 15:57:28.444349: I tensorflow/core/framework/local_rendezvous.cc:421] Local rendezvous recv item cancelled. Key hash: 16923956244791005756\n"
     ]
    },
    {
     "name": "stdout",
     "output_type": "stream",
     "text": [
      "846/846 - 4s - loss: 0.8633 - accuracy: 0.6575 - 4s/epoch - 4ms/step\n"
     ]
    },
    {
     "name": "stderr",
     "output_type": "stream",
     "text": [
      "2023-11-20 15:57:32.238888: I tensorflow/core/framework/local_rendezvous.cc:421] Local rendezvous recv item cancelled. Key hash: 7867038746593761335\n",
      "2023-11-20 15:57:32.238969: I tensorflow/core/framework/local_rendezvous.cc:421] Local rendezvous recv item cancelled. Key hash: 16923956244791005756\n",
      "2023-11-20 15:57:32.238997: I tensorflow/core/framework/local_rendezvous.cc:421] Local rendezvous recv item cancelled. Key hash: 17806865026235276410\n"
     ]
    },
    {
     "name": "stdout",
     "output_type": "stream",
     "text": [
      "336/336 - 2s - loss: 1.3264 - accuracy: 0.4606 - 2s/epoch - 5ms/step\n",
      "625/625 - 3s - loss: 0.8991 - accuracy: 0.6540 - 3s/epoch - 5ms/step\n"
     ]
    },
    {
     "name": "stderr",
     "output_type": "stream",
     "text": [
      "2023-11-20 15:57:36.736833: I tensorflow/core/framework/local_rendezvous.cc:421] Local rendezvous recv item cancelled. Key hash: 16923956244791005756\n"
     ]
    },
    {
     "name": "stdout",
     "output_type": "stream",
     "text": [
      "549/549 - 3s - loss: 1.3699 - accuracy: 0.4722 - 3s/epoch - 5ms/step\n"
     ]
    },
    {
     "name": "stderr",
     "output_type": "stream",
     "text": [
      "2023-11-20 15:57:39.249537: I tensorflow/core/framework/local_rendezvous.cc:421] Local rendezvous recv item cancelled. Key hash: 16923956244791005756\n"
     ]
    },
    {
     "name": "stdout",
     "output_type": "stream",
     "text": [
      "602/602 - 3s - loss: 0.9182 - accuracy: 0.6321 - 3s/epoch - 5ms/step\n"
     ]
    },
    {
     "name": "stderr",
     "output_type": "stream",
     "text": [
      "2023-11-20 15:57:42.021493: I tensorflow/core/framework/local_rendezvous.cc:421] Local rendezvous recv item cancelled. Key hash: 16923956244791005756\n"
     ]
    },
    {
     "name": "stdout",
     "output_type": "stream",
     "text": [
      "549/549 - 2s - loss: 0.9598 - accuracy: 0.6075 - 2s/epoch - 5ms/step\n",
      "693/693 - 3s - loss: 0.8782 - accuracy: 0.6475 - 3s/epoch - 5ms/step\n"
     ]
    },
    {
     "name": "stderr",
     "output_type": "stream",
     "text": [
      "2023-11-20 15:57:47.716107: I tensorflow/core/framework/local_rendezvous.cc:421] Local rendezvous recv item cancelled. Key hash: 16923956244791005756\n"
     ]
    },
    {
     "name": "stdout",
     "output_type": "stream",
     "text": [
      "846/846 - 4s - loss: 1.4239 - accuracy: 0.4229 - 4s/epoch - 5ms/step\n"
     ]
    },
    {
     "name": "stderr",
     "output_type": "stream",
     "text": [
      "2023-11-20 15:57:51.568031: I tensorflow/core/framework/local_rendezvous.cc:421] Local rendezvous recv item cancelled. Key hash: 16923956244791005756\n"
     ]
    },
    {
     "name": "stdout",
     "output_type": "stream",
     "text": [
      "653/653 - 3s - loss: 1.3472 - accuracy: 0.4866 - 3s/epoch - 4ms/step\n"
     ]
    },
    {
     "name": "stderr",
     "output_type": "stream",
     "text": [
      "2023-11-20 15:57:54.504990: I tensorflow/core/framework/local_rendezvous.cc:421] Local rendezvous recv item cancelled. Key hash: 16923956244791005756\n",
      "2023-11-20 15:57:54.505060: I tensorflow/core/framework/local_rendezvous.cc:421] Local rendezvous recv item cancelled. Key hash: 17806865026235276410\n"
     ]
    },
    {
     "name": "stdout",
     "output_type": "stream",
     "text": [
      "837/837 - 4s - loss: 1.3022 - accuracy: 0.4895 - 4s/epoch - 4ms/step\n"
     ]
    },
    {
     "name": "stderr",
     "output_type": "stream",
     "text": [
      "2023-11-20 15:57:58.254716: I tensorflow/core/framework/local_rendezvous.cc:421] Local rendezvous recv item cancelled. Key hash: 16923956244791005756\n"
     ]
    },
    {
     "name": "stdout",
     "output_type": "stream",
     "text": [
      "653/653 - 3s - loss: 1.5456 - accuracy: 0.4330 - 3s/epoch - 4ms/step\n"
     ]
    },
    {
     "name": "stderr",
     "output_type": "stream",
     "text": [
      "2023-11-20 15:58:01.172261: I tensorflow/core/framework/local_rendezvous.cc:421] Local rendezvous recv item cancelled. Key hash: 16923956244791005756\n"
     ]
    },
    {
     "name": "stdout",
     "output_type": "stream",
     "text": [
      "693/693 - 3s - loss: 0.9279 - accuracy: 0.6392 - 3s/epoch - 5ms/step\n",
      "693/693 - 3s - loss: 1.3311 - accuracy: 0.4697 - 3s/epoch - 5ms/step\n"
     ]
    },
    {
     "name": "stderr",
     "output_type": "stream",
     "text": [
      "2023-11-20 15:58:07.587043: I tensorflow/core/framework/local_rendezvous.cc:421] Local rendezvous recv item cancelled. Key hash: 16923956244791005756\n",
      "2023-11-20 15:58:07.587113: I tensorflow/core/framework/local_rendezvous.cc:421] Local rendezvous recv item cancelled. Key hash: 17806865026235276410\n"
     ]
    },
    {
     "name": "stdout",
     "output_type": "stream",
     "text": [
      "693/693 - 3s - loss: 1.2382 - accuracy: 0.4881 - 3s/epoch - 5ms/step\n",
      "Model: \"model_4\"\n",
      "__________________________________________________________________________________________________\n",
      " Layer (type)                Output Shape                 Param #   Connected to                  \n",
      "==================================================================================================\n",
      " input_20 (InputLayer)       [(None, 320, 64)]            0         []                            \n",
      "                                                                                                  \n",
      " conv1d_28 (Conv1D)          (None, 320, 8)               520       ['input_20[0][0]']            \n",
      "                                                                                                  \n",
      " input_21 (InputLayer)       [(None, 320, 1)]             0         []                            \n",
      "                                                                                                  \n",
      " input_22 (InputLayer)       [(None, 320, 1)]             0         []                            \n",
      "                                                                                                  \n",
      " input_23 (InputLayer)       [(None, 320, 1)]             0         []                            \n",
      "                                                                                                  \n",
      " input_24 (InputLayer)       [(None, 320, 1)]             0         []                            \n",
      "                                                                                                  \n",
      " conv1d_29 (Conv1D)          (None, 318, 16)              400       ['conv1d_28[0][0]']           \n",
      "                                                                                                  \n",
      " conv1d_30 (Conv1D)          (None, 318, 16)              64        ['input_21[0][0]',            \n",
      "                                                                     'input_22[0][0]',            \n",
      "                                                                     'input_23[0][0]',            \n",
      "                                                                     'input_24[0][0]']            \n",
      "                                                                                                  \n",
      " conv1d_31 (Conv1D)          (None, 312, 16)              784       ['conv1d_29[0][0]']           \n",
      "                                                                                                  \n",
      " conv1d_32 (Conv1D)          (None, 312, 16)              784       ['conv1d_30[0][0]',           \n",
      "                                                                     'conv1d_30[1][0]',           \n",
      "                                                                     'conv1d_30[2][0]',           \n",
      "                                                                     'conv1d_30[3][0]']           \n",
      "                                                                                                  \n",
      " conv1d_33 (Conv1D)          (None, 294, 16)              784       ['conv1d_31[0][0]']           \n",
      "                                                                                                  \n",
      " conv1d_34 (Conv1D)          (None, 294, 16)              784       ['conv1d_32[0][0]',           \n",
      "                                                                     'conv1d_32[1][0]',           \n",
      "                                                                     'conv1d_32[2][0]',           \n",
      "                                                                     'conv1d_32[3][0]']           \n",
      "                                                                                                  \n",
      " dot_15 (Dot)                (None, 16, 16)               0         ['conv1d_33[0][0]',           \n",
      "                                                                     'conv1d_34[0][0]']           \n",
      "                                                                                                  \n",
      " dot_16 (Dot)                (None, 16, 16)               0         ['conv1d_33[0][0]',           \n",
      "                                                                     'conv1d_34[1][0]']           \n",
      "                                                                                                  \n",
      " dot_17 (Dot)                (None, 16, 16)               0         ['conv1d_33[0][0]',           \n",
      "                                                                     'conv1d_34[2][0]']           \n",
      "                                                                                                  \n",
      " dot_18 (Dot)                (None, 16, 16)               0         ['conv1d_33[0][0]',           \n",
      "                                                                     'conv1d_34[3][0]']           \n",
      "                                                                                                  \n",
      " flatten_15 (Flatten)        (None, 256)                  0         ['dot_15[0][0]']              \n",
      "                                                                                                  \n",
      " flatten_16 (Flatten)        (None, 256)                  0         ['dot_16[0][0]']              \n",
      "                                                                                                  \n",
      " flatten_17 (Flatten)        (None, 256)                  0         ['dot_17[0][0]']              \n",
      "                                                                                                  \n",
      " flatten_18 (Flatten)        (None, 256)                  0         ['dot_18[0][0]']              \n",
      "                                                                                                  \n",
      " dense_4 (Dense)             (None, 1)                    257       ['flatten_15[0][0]',          \n",
      "                                                                     'flatten_16[0][0]',          \n",
      "                                                                     'flatten_17[0][0]',          \n",
      "                                                                     'flatten_18[0][0]']          \n",
      "                                                                                                  \n",
      " concatenate_4 (Concatenate  (None, 4)                    0         ['dense_4[0][0]',             \n",
      " )                                                                   'dense_4[1][0]',             \n",
      "                                                                     'dense_4[2][0]',             \n",
      "                                                                     'dense_4[3][0]']             \n",
      "                                                                                                  \n",
      " tf.nn.softmax_4 (TFOpLambd  (None, 4)                    0         ['concatenate_4[0][0]']       \n",
      " a)                                                                                               \n",
      "                                                                                                  \n",
      "==================================================================================================\n",
      "Total params: 4377 (17.10 KB)\n",
      "Trainable params: 4377 (17.10 KB)\n",
      "Non-trainable params: 0 (0.00 Byte)\n",
      "__________________________________________________________________________________________________\n",
      "None\n",
      "826/826 - 5s - loss: 0.9451 - accuracy: 0.5965 - 5s/epoch - 5ms/step\n",
      "558/558 - 3s - loss: 0.6489 - accuracy: 0.7231 - 3s/epoch - 5ms/step\n",
      "613/613 - 3s - loss: 0.9279 - accuracy: 0.6219 - 3s/epoch - 5ms/step\n",
      "536/536 - 2s - loss: 0.7684 - accuracy: 0.6912 - 2s/epoch - 5ms/step\n",
      "613/613 - 3s - loss: 0.9356 - accuracy: 0.6260 - 3s/epoch - 5ms/step\n",
      "826/826 - 4s - loss: 0.8690 - accuracy: 0.6525 - 4s/epoch - 5ms/step\n",
      "826/826 - 4s - loss: 0.6855 - accuracy: 0.7297 - 4s/epoch - 5ms/step\n",
      "549/549 - 3s - loss: 0.6280 - accuracy: 0.7618 - 3s/epoch - 5ms/step\n",
      "826/826 - 4s - loss: 0.6476 - accuracy: 0.7524 - 4s/epoch - 5ms/step\n",
      "613/613 - 3s - loss: 0.5358 - accuracy: 0.7867 - 3s/epoch - 5ms/step\n",
      "536/536 - 3s - loss: 0.8598 - accuracy: 0.6329 - 3s/epoch - 5ms/step\n",
      "826/826 - 4s - loss: 1.0040 - accuracy: 0.5805 - 4s/epoch - 5ms/step\n",
      "535/535 - 2s - loss: 1.1343 - accuracy: 0.5393 - 2s/epoch - 5ms/step\n",
      "611/611 - 3s - loss: 1.0539 - accuracy: 0.5364 - 3s/epoch - 5ms/step\n",
      "815/815 - 4s - loss: 0.8338 - accuracy: 0.6607 - 4s/epoch - 4ms/step\n"
     ]
    },
    {
     "name": "stdout",
     "output_type": "stream",
     "text": [
      "639/639 - 3s - loss: 1.2346 - accuracy: 0.4331 - 3s/epoch - 5ms/step\n",
      "639/639 - 3s - loss: 1.0663 - accuracy: 0.5626 - 3s/epoch - 5ms/step\n",
      "826/826 - 4s - loss: 0.6450 - accuracy: 0.7597 - 4s/epoch - 4ms/step\n",
      "826/826 - 4s - loss: 0.8784 - accuracy: 0.6392 - 4s/epoch - 5ms/step\n",
      "549/549 - 3s - loss: 1.0701 - accuracy: 0.5528 - 3s/epoch - 5ms/step\n",
      "549/549 - 3s - loss: 0.6739 - accuracy: 0.7263 - 3s/epoch - 5ms/step\n",
      "535/535 - 3s - loss: 0.7786 - accuracy: 0.6967 - 3s/epoch - 5ms/step\n",
      "298/298 - 1s - loss: 1.3563 - accuracy: 0.4446 - 1s/epoch - 5ms/step\n",
      "639/639 - 3s - loss: 0.7380 - accuracy: 0.7156 - 3s/epoch - 5ms/step\n",
      "632/632 - 3s - loss: 0.4324 - accuracy: 0.8228 - 3s/epoch - 5ms/step\n"
     ]
    },
    {
     "name": "stderr",
     "output_type": "stream",
     "text": [
      "2023-11-20 15:59:39.274477: I tensorflow/core/framework/local_rendezvous.cc:421] Local rendezvous recv item cancelled. Key hash: 12985387232185676119\n",
      "2023-11-20 15:59:39.274568: I tensorflow/core/framework/local_rendezvous.cc:421] Local rendezvous recv item cancelled. Key hash: 16923956244791005756\n",
      "2023-11-20 15:59:39.274603: I tensorflow/core/framework/local_rendezvous.cc:421] Local rendezvous recv item cancelled. Key hash: 1594371000113675678\n"
     ]
    },
    {
     "name": "stdout",
     "output_type": "stream",
     "text": [
      "558/558 - 3s - loss: 1.0652 - accuracy: 0.5542 - 3s/epoch - 5ms/step\n",
      "549/549 - 2s - loss: 0.6072 - accuracy: 0.7614 - 2s/epoch - 5ms/step\n",
      "535/535 - 2s - loss: 1.2356 - accuracy: 0.4860 - 2s/epoch - 5ms/step\n",
      "611/611 - 3s - loss: 0.6601 - accuracy: 0.7263 - 3s/epoch - 4ms/step\n"
     ]
    },
    {
     "name": "stderr",
     "output_type": "stream",
     "text": [
      "2023-11-20 15:59:49.593408: I tensorflow/core/framework/local_rendezvous.cc:421] Local rendezvous recv item cancelled. Key hash: 12985387232185676119\n",
      "2023-11-20 15:59:49.593498: I tensorflow/core/framework/local_rendezvous.cc:421] Local rendezvous recv item cancelled. Key hash: 1594371000113675678\n"
     ]
    },
    {
     "name": "stdout",
     "output_type": "stream",
     "text": [
      "660/660 - 3s - loss: 0.5958 - accuracy: 0.7837 - 3s/epoch - 4ms/step\n",
      "826/826 - 4s - loss: 0.5398 - accuracy: 0.8057 - 4s/epoch - 4ms/step\n",
      "613/613 - 3s - loss: 0.7839 - accuracy: 0.6692 - 3s/epoch - 4ms/step\n",
      "826/826 - 4s - loss: 0.8739 - accuracy: 0.6441 - 4s/epoch - 5ms/step\n",
      "319/319 - 2s - loss: 0.8391 - accuracy: 0.6638 - 2s/epoch - 5ms/step\n",
      "536/536 - 3s - loss: 0.2718 - accuracy: 0.9016 - 3s/epoch - 5ms/step\n",
      "535/535 - 2s - loss: 0.9753 - accuracy: 0.6061 - 2s/epoch - 5ms/step\n",
      "826/826 - 4s - loss: 0.9136 - accuracy: 0.6410 - 4s/epoch - 4ms/step\n",
      "613/613 - 3s - loss: 0.8653 - accuracy: 0.6501 - 3s/epoch - 4ms/step\n",
      "815/815 - 4s - loss: 0.9972 - accuracy: 0.5785 - 4s/epoch - 4ms/step\n",
      "558/558 - 3s - loss: 0.5947 - accuracy: 0.7648 - 3s/epoch - 5ms/step\n",
      "477/477 - 2s - loss: 0.7692 - accuracy: 0.6976 - 2s/epoch - 5ms/step\n",
      "549/549 - 3s - loss: 0.4725 - accuracy: 0.8097 - 3s/epoch - 5ms/step\n",
      "558/558 - 3s - loss: 0.6700 - accuracy: 0.7325 - 3s/epoch - 5ms/step\n",
      "528/528 - 2s - loss: 1.1913 - accuracy: 0.4891 - 2s/epoch - 5ms/step\n",
      "826/826 - 4s - loss: 0.5492 - accuracy: 0.7884 - 4s/epoch - 4ms/step\n",
      "815/815 - 4s - loss: 1.1693 - accuracy: 0.4853 - 4s/epoch - 5ms/step\n"
     ]
    },
    {
     "name": "stderr",
     "output_type": "stream",
     "text": [
      "2023-11-20 16:00:38.910599: I tensorflow/core/framework/local_rendezvous.cc:421] Local rendezvous recv item cancelled. Key hash: 1594371000113675678\n"
     ]
    },
    {
     "name": "stdout",
     "output_type": "stream",
     "text": [
      "549/549 - 3s - loss: 1.0368 - accuracy: 0.5888 - 3s/epoch - 5ms/step\n",
      "639/639 - 3s - loss: 1.0170 - accuracy: 0.5673 - 3s/epoch - 5ms/step\n",
      "535/535 - 3s - loss: 1.0552 - accuracy: 0.5575 - 3s/epoch - 5ms/step\n",
      "611/611 - 3s - loss: 0.6321 - accuracy: 0.7418 - 3s/epoch - 5ms/step\n",
      "639/639 - 3s - loss: 1.0461 - accuracy: 0.5775 - 3s/epoch - 5ms/step\n",
      "826/826 - 4s - loss: 1.1394 - accuracy: 0.5366 - 4s/epoch - 4ms/step\n",
      "852/852 - 4s - loss: 0.7066 - accuracy: 0.7277 - 4s/epoch - 4ms/step\n",
      "677/677 - 3s - loss: 0.9860 - accuracy: 0.6052 - 3s/epoch - 5ms/step\n",
      "639/639 - 3s - loss: 1.0370 - accuracy: 0.5379 - 3s/epoch - 5ms/step\n",
      "749/749 - 3s - loss: 0.6535 - accuracy: 0.7380 - 3s/epoch - 4ms/step\n",
      "632/632 - 3s - loss: 0.5017 - accuracy: 0.8101 - 3s/epoch - 4ms/step\n",
      "613/613 - 3s - loss: 0.8871 - accuracy: 0.6309 - 3s/epoch - 4ms/step\n",
      "632/632 - 3s - loss: 0.7648 - accuracy: 0.6816 - 3s/epoch - 4ms/step\n",
      "740/740 - 3s - loss: 0.6010 - accuracy: 0.7551 - 3s/epoch - 4ms/step\n",
      "611/611 - 3s - loss: 0.7847 - accuracy: 0.6669 - 3s/epoch - 4ms/step\n",
      "749/749 - 3s - loss: 0.8332 - accuracy: 0.6459 - 3s/epoch - 4ms/step\n",
      "632/632 - 3s - loss: 0.6038 - accuracy: 0.7587 - 3s/epoch - 4ms/step\n",
      "258/258 - 1s - loss: 1.1695 - accuracy: 0.4651 - 1s/epoch - 5ms/step\n",
      "826/826 - 4s - loss: 0.8768 - accuracy: 0.6462 - 4s/epoch - 4ms/step\n",
      "303/303 - 2s - loss: 1.3967 - accuracy: 0.3218 - 2s/epoch - 5ms/step\n",
      "558/558 - 3s - loss: 1.0595 - accuracy: 0.5703 - 3s/epoch - 5ms/step\n",
      "558/558 - 3s - loss: 0.9293 - accuracy: 0.6210 - 3s/epoch - 5ms/step\n",
      "639/639 - 3s - loss: 1.0898 - accuracy: 0.5638 - 3s/epoch - 4ms/step\n",
      "536/536 - 2s - loss: 0.9621 - accuracy: 0.5653 - 2s/epoch - 5ms/step\n",
      "632/632 - 3s - loss: 0.8057 - accuracy: 0.6721 - 3s/epoch - 5ms/step\n",
      "826/826 - 4s - loss: 0.5803 - accuracy: 0.7724 - 4s/epoch - 5ms/step\n",
      "328/328 - 2s - loss: 1.1601 - accuracy: 0.4802 - 2s/epoch - 5ms/step\n",
      "611/611 - 3s - loss: 0.6606 - accuracy: 0.7385 - 3s/epoch - 5ms/step\n",
      "535/535 - 2s - loss: 1.0675 - accuracy: 0.5206 - 2s/epoch - 5ms/step\n",
      "588/588 - 3s - loss: 0.6444 - accuracy: 0.7517 - 3s/epoch - 5ms/step\n",
      "535/535 - 2s - loss: 0.6953 - accuracy: 0.7089 - 2s/epoch - 5ms/step\n",
      "677/677 - 3s - loss: 0.5669 - accuracy: 0.7773 - 3s/epoch - 5ms/step\n",
      "826/826 - 4s - loss: 1.2188 - accuracy: 0.4800 - 4s/epoch - 4ms/step\n",
      "639/639 - 3s - loss: 0.9731 - accuracy: 0.6068 - 3s/epoch - 5ms/step\n",
      "815/815 - 4s - loss: 1.0428 - accuracy: 0.5518 - 4s/epoch - 4ms/step\n",
      "639/639 - 3s - loss: 1.1978 - accuracy: 0.5059 - 3s/epoch - 5ms/step\n",
      "677/677 - 3s - loss: 0.6595 - accuracy: 0.7426 - 3s/epoch - 4ms/step\n",
      "677/677 - 3s - loss: 0.9937 - accuracy: 0.5971 - 3s/epoch - 4ms/step\n",
      "677/677 - 3s - loss: 0.9300 - accuracy: 0.6359 - 3s/epoch - 4ms/step\n",
      "Model: \"model_5\"\n",
      "__________________________________________________________________________________________________\n",
      " Layer (type)                Output Shape                 Param #   Connected to                  \n",
      "==================================================================================================\n",
      " input_25 (InputLayer)       [(None, 192, 64)]            0         []                            \n",
      "                                                                                                  \n",
      " conv1d_35 (Conv1D)          (None, 192, 8)               520       ['input_25[0][0]']            \n",
      "                                                                                                  \n",
      " input_26 (InputLayer)       [(None, 192, 1)]             0         []                            \n",
      "                                                                                                  \n",
      " input_27 (InputLayer)       [(None, 192, 1)]             0         []                            \n",
      "                                                                                                  \n",
      " input_28 (InputLayer)       [(None, 192, 1)]             0         []                            \n",
      "                                                                                                  \n",
      " input_29 (InputLayer)       [(None, 192, 1)]             0         []                            \n",
      "                                                                                                  \n",
      " input_30 (InputLayer)       [(None, 192, 1)]             0         []                            \n",
      "                                                                                                  \n",
      " conv1d_36 (Conv1D)          (None, 190, 16)              400       ['conv1d_35[0][0]']           \n",
      "                                                                                                  \n",
      " conv1d_37 (Conv1D)          (None, 190, 16)              64        ['input_26[0][0]',            \n",
      "                                                                     'input_27[0][0]',            \n",
      "                                                                     'input_28[0][0]',            \n",
      "                                                                     'input_29[0][0]',            \n",
      "                                                                     'input_30[0][0]']            \n",
      "                                                                                                  \n",
      " conv1d_38 (Conv1D)          (None, 184, 16)              784       ['conv1d_36[0][0]']           \n",
      "                                                                                                  \n",
      " conv1d_39 (Conv1D)          (None, 184, 16)              784       ['conv1d_37[0][0]',           \n",
      "                                                                     'conv1d_37[1][0]',           \n",
      "                                                                     'conv1d_37[2][0]',           \n",
      "                                                                     'conv1d_37[3][0]',           \n",
      "                                                                     'conv1d_37[4][0]']           \n",
      "                                                                                                  \n",
      " conv1d_40 (Conv1D)          (None, 166, 16)              784       ['conv1d_38[0][0]']           \n",
      "                                                                                                  \n",
      " conv1d_41 (Conv1D)          (None, 166, 16)              784       ['conv1d_39[0][0]',           \n",
      "                                                                     'conv1d_39[1][0]',           \n",
      "                                                                     'conv1d_39[2][0]',           \n",
      "                                                                     'conv1d_39[3][0]',           \n",
      "                                                                     'conv1d_39[4][0]']           \n",
      "                                                                                                  \n",
      " dot_19 (Dot)                (None, 16, 16)               0         ['conv1d_40[0][0]',           \n",
      "                                                                     'conv1d_41[0][0]']           \n",
      "                                                                                                  \n",
      " dot_20 (Dot)                (None, 16, 16)               0         ['conv1d_40[0][0]',           \n",
      "                                                                     'conv1d_41[1][0]']           \n",
      "                                                                                                  \n",
      " dot_21 (Dot)                (None, 16, 16)               0         ['conv1d_40[0][0]',           \n",
      "                                                                     'conv1d_41[2][0]']           \n",
      "                                                                                                  \n",
      " dot_22 (Dot)                (None, 16, 16)               0         ['conv1d_40[0][0]',           \n",
      "                                                                     'conv1d_41[3][0]']           \n",
      "                                                                                                  \n",
      " dot_23 (Dot)                (None, 16, 16)               0         ['conv1d_40[0][0]',           \n",
      "                                                                     'conv1d_41[4][0]']           \n",
      "                                                                                                  \n"
     ]
    },
    {
     "name": "stdout",
     "output_type": "stream",
     "text": [
      " flatten_19 (Flatten)        (None, 256)                  0         ['dot_19[0][0]']              \n",
      "                                                                                                  \n",
      " flatten_20 (Flatten)        (None, 256)                  0         ['dot_20[0][0]']              \n",
      "                                                                                                  \n",
      " flatten_21 (Flatten)        (None, 256)                  0         ['dot_21[0][0]']              \n",
      "                                                                                                  \n",
      " flatten_22 (Flatten)        (None, 256)                  0         ['dot_22[0][0]']              \n",
      "                                                                                                  \n",
      " flatten_23 (Flatten)        (None, 256)                  0         ['dot_23[0][0]']              \n",
      "                                                                                                  \n",
      " dense_5 (Dense)             (None, 1)                    257       ['flatten_19[0][0]',          \n",
      "                                                                     'flatten_20[0][0]',          \n",
      "                                                                     'flatten_21[0][0]',          \n",
      "                                                                     'flatten_22[0][0]',          \n",
      "                                                                     'flatten_23[0][0]']          \n",
      "                                                                                                  \n",
      " concatenate_5 (Concatenate  (None, 5)                    0         ['dense_5[0][0]',             \n",
      " )                                                                   'dense_5[1][0]',             \n",
      "                                                                     'dense_5[2][0]',             \n",
      "                                                                     'dense_5[3][0]',             \n",
      "                                                                     'dense_5[4][0]']             \n",
      "                                                                                                  \n",
      " tf.nn.softmax_5 (TFOpLambd  (None, 5)                    0         ['concatenate_5[0][0]']       \n",
      " a)                                                                                               \n",
      "                                                                                                  \n",
      "==================================================================================================\n",
      "Total params: 4377 (17.10 KB)\n",
      "Trainable params: 4377 (17.10 KB)\n",
      "Non-trainable params: 0 (0.00 Byte)\n",
      "__________________________________________________________________________________________________\n",
      "None\n",
      "846/846 - 5s - loss: 1.5408 - accuracy: 0.4272 - 5s/epoch - 6ms/step\n"
     ]
    },
    {
     "name": "stderr",
     "output_type": "stream",
     "text": [
      "2023-11-20 16:02:46.691461: I tensorflow/core/framework/local_rendezvous.cc:421] Local rendezvous recv item cancelled. Key hash: 15000485954532988464\n",
      "2023-11-20 16:02:46.691552: I tensorflow/core/framework/local_rendezvous.cc:421] Local rendezvous recv item cancelled. Key hash: 2735915373136226150\n"
     ]
    },
    {
     "name": "stdout",
     "output_type": "stream",
     "text": [
      "570/570 - 3s - loss: 1.1190 - accuracy: 0.5646 - 3s/epoch - 5ms/step\n"
     ]
    },
    {
     "name": "stderr",
     "output_type": "stream",
     "text": [
      "2023-11-20 16:02:49.564954: I tensorflow/core/framework/local_rendezvous.cc:421] Local rendezvous recv item cancelled. Key hash: 15000485954532988464\n"
     ]
    },
    {
     "name": "stdout",
     "output_type": "stream",
     "text": [
      "627/627 - 3s - loss: 1.4648 - accuracy: 0.4587 - 3s/epoch - 5ms/step\n"
     ]
    },
    {
     "name": "stderr",
     "output_type": "stream",
     "text": [
      "2023-11-20 16:02:52.711118: I tensorflow/core/framework/local_rendezvous.cc:421] Local rendezvous recv item cancelled. Key hash: 15000485954532988464\n",
      "2023-11-20 16:02:52.711196: I tensorflow/core/framework/local_rendezvous.cc:421] Local rendezvous recv item cancelled. Key hash: 2735915373136226150\n"
     ]
    },
    {
     "name": "stdout",
     "output_type": "stream",
     "text": [
      "550/550 - 3s - loss: 1.2424 - accuracy: 0.5109 - 3s/epoch - 5ms/step\n",
      "627/627 - 3s - loss: 1.4154 - accuracy: 0.4612 - 3s/epoch - 5ms/step\n",
      "846/846 - 4s - loss: 1.3355 - accuracy: 0.4790 - 4s/epoch - 5ms/step\n",
      "846/846 - 4s - loss: 1.2297 - accuracy: 0.5452 - 4s/epoch - 5ms/step\n",
      "561/561 - 3s - loss: 1.0807 - accuracy: 0.5832 - 3s/epoch - 5ms/step\n",
      "846/846 - 4s - loss: 1.0785 - accuracy: 0.5572 - 4s/epoch - 5ms/step\n",
      "627/627 - 3s - loss: 0.9989 - accuracy: 0.6003 - 3s/epoch - 5ms/step\n",
      "550/550 - 3s - loss: 1.2626 - accuracy: 0.5135 - 3s/epoch - 5ms/step\n",
      "846/846 - 4s - loss: 1.5349 - accuracy: 0.4272 - 4s/epoch - 5ms/step\n",
      "549/549 - 3s - loss: 1.7059 - accuracy: 0.4007 - 3s/epoch - 5ms/step\n",
      "625/625 - 3s - loss: 1.5186 - accuracy: 0.4278 - 3s/epoch - 5ms/step\n",
      "837/837 - 4s - loss: 1.3372 - accuracy: 0.4898 - 4s/epoch - 5ms/step\n",
      "653/653 - 3s - loss: 1.5829 - accuracy: 0.3075 - 3s/epoch - 5ms/step\n",
      "653/653 - 5s - loss: 1.6209 - accuracy: 0.3752 - 5s/epoch - 7ms/step\n",
      "846/846 - 4s - loss: 1.1715 - accuracy: 0.5650 - 4s/epoch - 5ms/step\n"
     ]
    },
    {
     "name": "stderr",
     "output_type": "stream",
     "text": [
      "2023-11-20 16:03:45.944587: I tensorflow/core/framework/local_rendezvous.cc:421] Local rendezvous recv item cancelled. Key hash: 15000485954532988464\n"
     ]
    },
    {
     "name": "stdout",
     "output_type": "stream",
     "text": [
      "846/846 - 4s - loss: 1.4288 - accuracy: 0.4839 - 4s/epoch - 5ms/step\n"
     ]
    },
    {
     "name": "stderr",
     "output_type": "stream",
     "text": [
      "2023-11-20 16:03:50.125013: I tensorflow/core/framework/local_rendezvous.cc:421] Local rendezvous recv item cancelled. Key hash: 15000485954532988464\n",
      "2023-11-20 16:03:50.125096: I tensorflow/core/framework/local_rendezvous.cc:421] Local rendezvous recv item cancelled. Key hash: 2735915373136226150\n"
     ]
    },
    {
     "name": "stdout",
     "output_type": "stream",
     "text": [
      "561/561 - 3s - loss: 1.5571 - accuracy: 0.4007 - 3s/epoch - 5ms/step\n",
      "561/561 - 3s - loss: 1.1556 - accuracy: 0.5736 - 3s/epoch - 5ms/step\n",
      "549/549 - 3s - loss: 1.1915 - accuracy: 0.5574 - 3s/epoch - 5ms/step\n",
      "306/306 - 2s - loss: 2.0158 - accuracy: 0.2902 - 2s/epoch - 6ms/step\n",
      "653/653 - 3s - loss: 1.1630 - accuracy: 0.5599 - 3s/epoch - 5ms/step\n",
      "656/656 - 3s - loss: 0.8218 - accuracy: 0.6854 - 3s/epoch - 5ms/step\n"
     ]
    },
    {
     "name": "stderr",
     "output_type": "stream",
     "text": [
      "2023-11-20 16:04:08.643712: I tensorflow/core/framework/local_rendezvous.cc:421] Local rendezvous recv item cancelled. Key hash: 15000485954532988464\n"
     ]
    },
    {
     "name": "stdout",
     "output_type": "stream",
     "text": [
      "570/570 - 3s - loss: 1.5376 - accuracy: 0.4249 - 3s/epoch - 5ms/step\n"
     ]
    },
    {
     "name": "stderr",
     "output_type": "stream",
     "text": [
      "2023-11-20 16:04:11.553396: I tensorflow/core/framework/local_rendezvous.cc:421] Local rendezvous recv item cancelled. Key hash: 15000485954532988464\n"
     ]
    },
    {
     "name": "stdout",
     "output_type": "stream",
     "text": [
      "561/561 - 3s - loss: 1.1113 - accuracy: 0.5811 - 3s/epoch - 5ms/step\n"
     ]
    },
    {
     "name": "stderr",
     "output_type": "stream",
     "text": [
      "2023-11-20 16:04:14.562955: I tensorflow/core/framework/local_rendezvous.cc:421] Local rendezvous recv item cancelled. Key hash: 15000485954532988464\n"
     ]
    },
    {
     "name": "stdout",
     "output_type": "stream",
     "text": [
      "549/549 - 3s - loss: 1.7722 - accuracy: 0.3464 - 3s/epoch - 5ms/step\n",
      "625/625 - 3s - loss: 1.1287 - accuracy: 0.5683 - 3s/epoch - 5ms/step\n",
      "676/676 - 3s - loss: 1.1040 - accuracy: 0.6133 - 3s/epoch - 5ms/step\n",
      "846/846 - 4s - loss: 0.9710 - accuracy: 0.6147 - 4s/epoch - 5ms/step\n",
      "627/627 - 3s - loss: 1.3053 - accuracy: 0.5043 - 3s/epoch - 5ms/step\n"
     ]
    },
    {
     "name": "stderr",
     "output_type": "stream",
     "text": [
      "2023-11-20 16:04:33.668142: I tensorflow/core/framework/local_rendezvous.cc:421] Local rendezvous recv item cancelled. Key hash: 15000485954532988464\n"
     ]
    },
    {
     "name": "stdout",
     "output_type": "stream",
     "text": [
      "846/846 - 4s - loss: 1.3781 - accuracy: 0.4910 - 4s/epoch - 5ms/step\n",
      "327/327 - 2s - loss: 1.4271 - accuracy: 0.4862 - 2s/epoch - 5ms/step\n"
     ]
    },
    {
     "name": "stderr",
     "output_type": "stream",
     "text": [
      "2023-11-20 16:04:39.667146: I tensorflow/core/framework/local_rendezvous.cc:421] Local rendezvous recv item cancelled. Key hash: 15000485954532988464\n"
     ]
    },
    {
     "name": "stdout",
     "output_type": "stream",
     "text": [
      "550/550 - 3s - loss: 0.5702 - accuracy: 0.7760 - 3s/epoch - 5ms/step\n",
      "549/549 - 3s - loss: 1.4907 - accuracy: 0.4084 - 3s/epoch - 5ms/step\n",
      "846/846 - 4s - loss: 1.4252 - accuracy: 0.4920 - 4s/epoch - 5ms/step\n",
      "627/627 - 3s - loss: 1.3657 - accuracy: 0.4606 - 3s/epoch - 5ms/step\n"
     ]
    },
    {
     "name": "stderr",
     "output_type": "stream",
     "text": [
      "2023-11-20 16:04:52.617910: I tensorflow/core/framework/local_rendezvous.cc:421] Local rendezvous recv item cancelled. Key hash: 15000485954532988464\n"
     ]
    },
    {
     "name": "stdout",
     "output_type": "stream",
     "text": [
      "837/837 - 4s - loss: 1.4843 - accuracy: 0.4428 - 4s/epoch - 5ms/step\n"
     ]
    },
    {
     "name": "stderr",
     "output_type": "stream",
     "text": [
      "2023-11-20 16:04:56.757904: I tensorflow/core/framework/local_rendezvous.cc:421] Local rendezvous recv item cancelled. Key hash: 15000485954532988464\n"
     ]
    },
    {
     "name": "stdout",
     "output_type": "stream",
     "text": [
      "570/570 - 3s - loss: 1.0047 - accuracy: 0.6274 - 3s/epoch - 5ms/step\n",
      "489/489 - 2s - loss: 1.2769 - accuracy: 0.5530 - 2s/epoch - 5ms/step\n",
      "561/561 - 3s - loss: 0.8633 - accuracy: 0.6553 - 3s/epoch - 5ms/step\n",
      "570/570 - 3s - loss: 1.1115 - accuracy: 0.5611 - 3s/epoch - 5ms/step\n",
      "540/540 - 3s - loss: 1.6602 - accuracy: 0.3752 - 3s/epoch - 5ms/step\n",
      "846/846 - 4s - loss: 1.0148 - accuracy: 0.6080 - 4s/epoch - 5ms/step\n"
     ]
    },
    {
     "name": "stderr",
     "output_type": "stream",
     "text": [
      "2023-11-20 16:05:14.914685: I tensorflow/core/framework/local_rendezvous.cc:421] Local rendezvous recv item cancelled. Key hash: 15000485954532988464\n"
     ]
    },
    {
     "name": "stdout",
     "output_type": "stream",
     "text": [
      "837/837 - 4s - loss: 1.5969 - accuracy: 0.3771 - 4s/epoch - 5ms/step\n",
      "561/561 - 3s - loss: 1.5816 - accuracy: 0.4435 - 3s/epoch - 5ms/step\n",
      "653/653 - 3s - loss: 1.5346 - accuracy: 0.4199 - 3s/epoch - 5ms/step\n"
     ]
    },
    {
     "name": "stderr",
     "output_type": "stream",
     "text": [
      "2023-11-20 16:05:25.313412: I tensorflow/core/framework/local_rendezvous.cc:421] Local rendezvous recv item cancelled. Key hash: 15000485954532988464\n"
     ]
    },
    {
     "name": "stdout",
     "output_type": "stream",
     "text": [
      "549/549 - 3s - loss: 1.5797 - accuracy: 0.4131 - 3s/epoch - 5ms/step\n",
      "625/625 - 3s - loss: 1.1263 - accuracy: 0.5782 - 3s/epoch - 5ms/step\n"
     ]
    },
    {
     "name": "stderr",
     "output_type": "stream",
     "text": [
      "2023-11-20 16:05:31.346422: I tensorflow/core/framework/local_rendezvous.cc:421] Local rendezvous recv item cancelled. Key hash: 15000485954532988464\n"
     ]
    },
    {
     "name": "stdout",
     "output_type": "stream",
     "text": [
      "653/653 - 3s - loss: 1.5873 - accuracy: 0.4309 - 3s/epoch - 5ms/step\n"
     ]
    },
    {
     "name": "stderr",
     "output_type": "stream",
     "text": [
      "2023-11-20 16:05:34.618881: I tensorflow/core/framework/local_rendezvous.cc:421] Local rendezvous recv item cancelled. Key hash: 15000485954532988464\n"
     ]
    },
    {
     "name": "stdout",
     "output_type": "stream",
     "text": [
      "846/846 - 4s - loss: 1.6891 - accuracy: 0.3813 - 4s/epoch - 5ms/step\n",
      "874/874 - 4s - loss: 1.1953 - accuracy: 0.5540 - 4s/epoch - 5ms/step\n"
     ]
    },
    {
     "name": "stderr",
     "output_type": "stream",
     "text": [
      "2023-11-20 16:05:43.148415: I tensorflow/core/framework/local_rendezvous.cc:421] Local rendezvous recv item cancelled. Key hash: 15000485954532988464\n",
      "2023-11-20 16:05:43.148488: I tensorflow/core/framework/local_rendezvous.cc:421] Local rendezvous recv item cancelled. Key hash: 2735915373136226150\n"
     ]
    },
    {
     "name": "stdout",
     "output_type": "stream",
     "text": [
      "693/693 - 4s - loss: 1.5010 - accuracy: 0.4404 - 4s/epoch - 5ms/step\n",
      "653/653 - 3s - loss: 1.6134 - accuracy: 0.4233 - 3s/epoch - 5ms/step\n",
      "767/767 - 4s - loss: 1.1495 - accuracy: 0.5497 - 4s/epoch - 5ms/step\n"
     ]
    },
    {
     "name": "stderr",
     "output_type": "stream",
     "text": [
      "2023-11-20 16:05:53.913288: I tensorflow/core/framework/local_rendezvous.cc:421] Local rendezvous recv item cancelled. Key hash: 15000485954532988464\n"
     ]
    },
    {
     "name": "stdout",
     "output_type": "stream",
     "text": [
      "656/656 - 3s - loss: 0.9585 - accuracy: 0.6348 - 3s/epoch - 5ms/step\n"
     ]
    },
    {
     "name": "stderr",
     "output_type": "stream",
     "text": [
      "2023-11-20 16:05:57.313668: I tensorflow/core/framework/local_rendezvous.cc:421] Local rendezvous recv item cancelled. Key hash: 15000485954532988464\n",
      "2023-11-20 16:05:57.313746: I tensorflow/core/framework/local_rendezvous.cc:421] Local rendezvous recv item cancelled. Key hash: 2735915373136226150\n"
     ]
    },
    {
     "name": "stdout",
     "output_type": "stream",
     "text": [
      "627/627 - 3s - loss: 1.3504 - accuracy: 0.5069 - 3s/epoch - 5ms/step\n",
      "656/656 - 3s - loss: 1.1950 - accuracy: 0.5405 - 3s/epoch - 5ms/step\n",
      "758/758 - 4s - loss: 1.0765 - accuracy: 0.5831 - 4s/epoch - 5ms/step\n",
      "625/625 - 3s - loss: 1.2516 - accuracy: 0.5334 - 3s/epoch - 5ms/step\n",
      "767/767 - 4s - loss: 1.3274 - accuracy: 0.4910 - 4s/epoch - 5ms/step\n"
     ]
    },
    {
     "name": "stderr",
     "output_type": "stream",
     "text": [
      "2023-11-20 16:06:14.630500: I tensorflow/core/framework/local_rendezvous.cc:421] Local rendezvous recv item cancelled. Key hash: 15000485954532988464\n",
      "2023-11-20 16:06:14.630574: I tensorflow/core/framework/local_rendezvous.cc:421] Local rendezvous recv item cancelled. Key hash: 2735915373136226150\n"
     ]
    },
    {
     "name": "stdout",
     "output_type": "stream",
     "text": [
      "656/656 - 3s - loss: 1.0175 - accuracy: 0.5869 - 3s/epoch - 5ms/step\n",
      "264/264 - 1s - loss: 1.7208 - accuracy: 0.3386 - 1s/epoch - 6ms/step\n"
     ]
    },
    {
     "name": "stderr",
     "output_type": "stream",
     "text": [
      "2023-11-20 16:06:19.459261: I tensorflow/core/framework/local_rendezvous.cc:421] Local rendezvous recv item cancelled. Key hash: 15000485954532988464\n"
     ]
    },
    {
     "name": "stdout",
     "output_type": "stream",
     "text": [
      "846/846 - 4s - loss: 1.3087 - accuracy: 0.5078 - 4s/epoch - 5ms/step\n",
      "309/309 - 2s - loss: 1.7009 - accuracy: 0.2667 - 2s/epoch - 6ms/step\n"
     ]
    },
    {
     "name": "stderr",
     "output_type": "stream",
     "text": [
      "2023-11-20 16:06:25.541804: I tensorflow/core/framework/local_rendezvous.cc:421] Local rendezvous recv item cancelled. Key hash: 15000485954532988464\n"
     ]
    },
    {
     "name": "stdout",
     "output_type": "stream",
     "text": [
      "570/570 - 3s - loss: 1.5527 - accuracy: 0.4035 - 3s/epoch - 5ms/step\n"
     ]
    },
    {
     "name": "stderr",
     "output_type": "stream",
     "text": [
      "2023-11-20 16:06:28.547135: I tensorflow/core/framework/local_rendezvous.cc:421] Local rendezvous recv item cancelled. Key hash: 15000485954532988464\n"
     ]
    },
    {
     "name": "stdout",
     "output_type": "stream",
     "text": [
      "570/570 - 3s - loss: 1.4212 - accuracy: 0.4646 - 3s/epoch - 5ms/step\n"
     ]
    },
    {
     "name": "stderr",
     "output_type": "stream",
     "text": [
      "2023-11-20 16:06:31.541805: I tensorflow/core/framework/local_rendezvous.cc:421] Local rendezvous recv item cancelled. Key hash: 15000485954532988464\n"
     ]
    },
    {
     "name": "stdout",
     "output_type": "stream",
     "text": [
      "653/653 - 3s - loss: 1.6465 - accuracy: 0.4466 - 3s/epoch - 5ms/step\n"
     ]
    },
    {
     "name": "stderr",
     "output_type": "stream",
     "text": [
      "2023-11-20 16:06:34.885825: I tensorflow/core/framework/local_rendezvous.cc:421] Local rendezvous recv item cancelled. Key hash: 7867038746593761335\n",
      "2023-11-20 16:06:34.885930: I tensorflow/core/framework/local_rendezvous.cc:421] Local rendezvous recv item cancelled. Key hash: 5176976971324150113\n",
      "2023-11-20 16:06:34.885953: I tensorflow/core/framework/local_rendezvous.cc:421] Local rendezvous recv item cancelled. Key hash: 4160917900895473629\n",
      "2023-11-20 16:06:34.885970: I tensorflow/core/framework/local_rendezvous.cc:421] Local rendezvous recv item cancelled. Key hash: 17806865026235276410\n",
      "2023-11-20 16:06:34.885984: I tensorflow/core/framework/local_rendezvous.cc:421] Local rendezvous recv item cancelled. Key hash: 15000485954532988464\n",
      "2023-11-20 16:06:34.886012: I tensorflow/core/framework/local_rendezvous.cc:421] Local rendezvous recv item cancelled. Key hash: 2735915373136226150\n"
     ]
    },
    {
     "name": "stdout",
     "output_type": "stream",
     "text": [
      "550/550 - 3s - loss: 1.5642 - accuracy: 0.4225 - 3s/epoch - 5ms/step\n",
      "656/656 - 3s - loss: 1.2811 - accuracy: 0.5043 - 3s/epoch - 5ms/step\n"
     ]
    },
    {
     "name": "stderr",
     "output_type": "stream",
     "text": [
      "2023-11-20 16:06:40.920487: I tensorflow/core/framework/local_rendezvous.cc:421] Local rendezvous recv item cancelled. Key hash: 15000485954532988464\n",
      "2023-11-20 16:06:40.920563: I tensorflow/core/framework/local_rendezvous.cc:421] Local rendezvous recv item cancelled. Key hash: 2735915373136226150\n"
     ]
    },
    {
     "name": "stdout",
     "output_type": "stream",
     "text": [
      "846/846 - 4s - loss: 1.0151 - accuracy: 0.6102 - 4s/epoch - 5ms/step\n"
     ]
    },
    {
     "name": "stderr",
     "output_type": "stream",
     "text": [
      "2023-11-20 16:06:45.155427: I tensorflow/core/framework/local_rendezvous.cc:421] Local rendezvous recv item cancelled. Key hash: 15000485954532988464\n",
      "2023-11-20 16:06:45.155502: I tensorflow/core/framework/local_rendezvous.cc:421] Local rendezvous recv item cancelled. Key hash: 2735915373136226150\n"
     ]
    },
    {
     "name": "stdout",
     "output_type": "stream",
     "text": [
      "336/336 - 2s - loss: 1.6756 - accuracy: 0.3899 - 2s/epoch - 5ms/step\n"
     ]
    },
    {
     "name": "stderr",
     "output_type": "stream",
     "text": [
      "2023-11-20 16:06:46.973136: I tensorflow/core/framework/local_rendezvous.cc:421] Local rendezvous recv item cancelled. Key hash: 15000485954532988464\n",
      "2023-11-20 16:06:46.973206: I tensorflow/core/framework/local_rendezvous.cc:421] Local rendezvous recv item cancelled. Key hash: 2735915373136226150\n"
     ]
    },
    {
     "name": "stdout",
     "output_type": "stream",
     "text": [
      "625/625 - 3s - loss: 1.0363 - accuracy: 0.6022 - 3s/epoch - 5ms/step\n",
      "549/549 - 3s - loss: 1.6362 - accuracy: 0.4015 - 3s/epoch - 5ms/step\n"
     ]
    },
    {
     "name": "stderr",
     "output_type": "stream",
     "text": [
      "2023-11-20 16:06:53.118965: I tensorflow/core/framework/local_rendezvous.cc:421] Local rendezvous recv item cancelled. Key hash: 15000485954532988464\n"
     ]
    },
    {
     "name": "stdout",
     "output_type": "stream",
     "text": [
      "602/602 - 3s - loss: 1.1032 - accuracy: 0.5850 - 3s/epoch - 5ms/step\n",
      "549/549 - 3s - loss: 1.1698 - accuracy: 0.5541 - 3s/epoch - 5ms/step\n"
     ]
    },
    {
     "name": "stderr",
     "output_type": "stream",
     "text": [
      "2023-11-20 16:06:59.142199: I tensorflow/core/framework/local_rendezvous.cc:421] Local rendezvous recv item cancelled. Key hash: 15000485954532988464\n"
     ]
    },
    {
     "name": "stdout",
     "output_type": "stream",
     "text": [
      "693/693 - 4s - loss: 1.0495 - accuracy: 0.6222 - 4s/epoch - 5ms/step\n",
      "846/846 - 4s - loss: 1.6829 - accuracy: 0.3442 - 4s/epoch - 5ms/step\n",
      "653/653 - 3s - loss: 1.5224 - accuracy: 0.4361 - 3s/epoch - 5ms/step\n",
      "837/837 - 4s - loss: 1.5349 - accuracy: 0.4182 - 4s/epoch - 5ms/step\n"
     ]
    },
    {
     "name": "stderr",
     "output_type": "stream",
     "text": [
      "2023-11-20 16:07:14.448476: I tensorflow/core/framework/local_rendezvous.cc:421] Local rendezvous recv item cancelled. Key hash: 15000485954532988464\n"
     ]
    },
    {
     "name": "stdout",
     "output_type": "stream",
     "text": [
      "653/653 - 3s - loss: 1.7703 - accuracy: 0.3669 - 3s/epoch - 5ms/step\n"
     ]
    },
    {
     "name": "stderr",
     "output_type": "stream",
     "text": [
      "2023-11-20 16:07:17.846460: I tensorflow/core/framework/local_rendezvous.cc:421] Local rendezvous recv item cancelled. Key hash: 15000485954532988464\n",
      "2023-11-20 16:07:17.846545: I tensorflow/core/framework/local_rendezvous.cc:421] Local rendezvous recv item cancelled. Key hash: 2735915373136226150\n"
     ]
    },
    {
     "name": "stdout",
     "output_type": "stream",
     "text": [
      "693/693 - 4s - loss: 1.1354 - accuracy: 0.5928 - 4s/epoch - 5ms/step\n"
     ]
    },
    {
     "name": "stderr",
     "output_type": "stream",
     "text": [
      "2023-11-20 16:07:21.410077: I tensorflow/core/framework/local_rendezvous.cc:421] Local rendezvous recv item cancelled. Key hash: 4160917900895473629\n",
      "2023-11-20 16:07:21.410160: I tensorflow/core/framework/local_rendezvous.cc:421] Local rendezvous recv item cancelled. Key hash: 15000485954532988464\n",
      "2023-11-20 16:07:21.410235: I tensorflow/core/framework/local_rendezvous.cc:421] Local rendezvous recv item cancelled. Key hash: 2735915373136226150\n"
     ]
    },
    {
     "name": "stdout",
     "output_type": "stream",
     "text": [
      "693/693 - 4s - loss: 1.5539 - accuracy: 0.4173 - 4s/epoch - 5ms/step\n"
     ]
    },
    {
     "name": "stderr",
     "output_type": "stream",
     "text": [
      "2023-11-20 16:07:24.959960: I tensorflow/core/framework/local_rendezvous.cc:421] Local rendezvous recv item cancelled. Key hash: 15000485954532988464\n",
      "2023-11-20 16:07:24.960024: I tensorflow/core/framework/local_rendezvous.cc:421] Local rendezvous recv item cancelled. Key hash: 2735915373136226150\n"
     ]
    },
    {
     "name": "stdout",
     "output_type": "stream",
     "text": [
      "693/693 - 4s - loss: 1.4365 - accuracy: 0.4684 - 4s/epoch - 5ms/step\n"
     ]
    },
    {
     "name": "stderr",
     "output_type": "stream",
     "text": [
      "2023-11-20 16:07:28.515248: I tensorflow/core/framework/local_rendezvous.cc:421] Local rendezvous recv item cancelled. Key hash: 15000485954532988464\n"
     ]
    },
    {
     "name": "stdout",
     "output_type": "stream",
     "text": [
      "Model: \"model_6\"\n",
      "__________________________________________________________________________________________________\n",
      " Layer (type)                Output Shape                 Param #   Connected to                  \n",
      "==================================================================================================\n",
      " input_31 (InputLayer)       [(None, 320, 64)]            0         []                            \n",
      "                                                                                                  \n",
      " conv1d_42 (Conv1D)          (None, 320, 8)               520       ['input_31[0][0]']            \n",
      "                                                                                                  \n",
      " input_32 (InputLayer)       [(None, 320, 1)]             0         []                            \n",
      "                                                                                                  \n",
      " input_33 (InputLayer)       [(None, 320, 1)]             0         []                            \n",
      "                                                                                                  \n",
      " input_34 (InputLayer)       [(None, 320, 1)]             0         []                            \n",
      "                                                                                                  \n",
      " input_35 (InputLayer)       [(None, 320, 1)]             0         []                            \n",
      "                                                                                                  \n",
      " input_36 (InputLayer)       [(None, 320, 1)]             0         []                            \n",
      "                                                                                                  \n",
      " conv1d_43 (Conv1D)          (None, 318, 16)              400       ['conv1d_42[0][0]']           \n",
      "                                                                                                  \n",
      " conv1d_44 (Conv1D)          (None, 318, 16)              64        ['input_32[0][0]',            \n",
      "                                                                     'input_33[0][0]',            \n",
      "                                                                     'input_34[0][0]',            \n",
      "                                                                     'input_35[0][0]',            \n",
      "                                                                     'input_36[0][0]']            \n",
      "                                                                                                  \n",
      " conv1d_45 (Conv1D)          (None, 312, 16)              784       ['conv1d_43[0][0]']           \n",
      "                                                                                                  \n",
      " conv1d_46 (Conv1D)          (None, 312, 16)              784       ['conv1d_44[0][0]',           \n",
      "                                                                     'conv1d_44[1][0]',           \n",
      "                                                                     'conv1d_44[2][0]',           \n",
      "                                                                     'conv1d_44[3][0]',           \n",
      "                                                                     'conv1d_44[4][0]']           \n",
      "                                                                                                  \n",
      " conv1d_47 (Conv1D)          (None, 294, 16)              784       ['conv1d_45[0][0]']           \n",
      "                                                                                                  \n",
      " conv1d_48 (Conv1D)          (None, 294, 16)              784       ['conv1d_46[0][0]',           \n",
      "                                                                     'conv1d_46[1][0]',           \n",
      "                                                                     'conv1d_46[2][0]',           \n",
      "                                                                     'conv1d_46[3][0]',           \n",
      "                                                                     'conv1d_46[4][0]']           \n",
      "                                                                                                  \n",
      " dot_24 (Dot)                (None, 16, 16)               0         ['conv1d_47[0][0]',           \n",
      "                                                                     'conv1d_48[0][0]']           \n",
      "                                                                                                  \n",
      " dot_25 (Dot)                (None, 16, 16)               0         ['conv1d_47[0][0]',           \n",
      "                                                                     'conv1d_48[1][0]']           \n",
      "                                                                                                  \n",
      " dot_26 (Dot)                (None, 16, 16)               0         ['conv1d_47[0][0]',           \n",
      "                                                                     'conv1d_48[2][0]']           \n",
      "                                                                                                  \n",
      " dot_27 (Dot)                (None, 16, 16)               0         ['conv1d_47[0][0]',           \n",
      "                                                                     'conv1d_48[3][0]']           \n",
      "                                                                                                  \n",
      " dot_28 (Dot)                (None, 16, 16)               0         ['conv1d_47[0][0]',           \n",
      "                                                                     'conv1d_48[4][0]']           \n",
      "                                                                                                  \n",
      " flatten_24 (Flatten)        (None, 256)                  0         ['dot_24[0][0]']              \n",
      "                                                                                                  \n",
      " flatten_25 (Flatten)        (None, 256)                  0         ['dot_25[0][0]']              \n",
      "                                                                                                  \n",
      " flatten_26 (Flatten)        (None, 256)                  0         ['dot_26[0][0]']              \n",
      "                                                                                                  \n",
      " flatten_27 (Flatten)        (None, 256)                  0         ['dot_27[0][0]']              \n",
      "                                                                                                  \n",
      " flatten_28 (Flatten)        (None, 256)                  0         ['dot_28[0][0]']              \n",
      "                                                                                                  \n",
      " dense_6 (Dense)             (None, 1)                    257       ['flatten_24[0][0]',          \n",
      "                                                                     'flatten_25[0][0]',          \n",
      "                                                                     'flatten_26[0][0]',          \n",
      "                                                                     'flatten_27[0][0]',          \n",
      "                                                                     'flatten_28[0][0]']          \n",
      "                                                                                                  \n",
      " concatenate_6 (Concatenate  (None, 5)                    0         ['dense_6[0][0]',             \n",
      " )                                                                   'dense_6[1][0]',             \n",
      "                                                                     'dense_6[2][0]',             \n",
      "                                                                     'dense_6[3][0]',             \n",
      "                                                                     'dense_6[4][0]']             \n",
      "                                                                                                  \n",
      " tf.nn.softmax_6 (TFOpLambd  (None, 5)                    0         ['concatenate_6[0][0]']       \n",
      " a)                                                                                               \n",
      "                                                                                                  \n",
      "==================================================================================================\n",
      "Total params: 4377 (17.10 KB)\n",
      "Trainable params: 4377 (17.10 KB)\n"
     ]
    },
    {
     "name": "stdout",
     "output_type": "stream",
     "text": [
      "Non-trainable params: 0 (0.00 Byte)\n",
      "__________________________________________________________________________________________________\n",
      "None\n",
      "826/826 - 5s - loss: 1.1626 - accuracy: 0.5375 - 5s/epoch - 6ms/step\n",
      "558/558 - 3s - loss: 0.8093 - accuracy: 0.6681 - 3s/epoch - 5ms/step\n",
      "613/613 - 3s - loss: 1.1542 - accuracy: 0.5573 - 3s/epoch - 5ms/step\n",
      "536/536 - 3s - loss: 0.9412 - accuracy: 0.6313 - 3s/epoch - 5ms/step\n"
     ]
    },
    {
     "name": "stderr",
     "output_type": "stream",
     "text": [
      "2023-11-20 16:07:52.805386: I tensorflow/core/framework/local_rendezvous.cc:421] Local rendezvous recv item cancelled. Key hash: 5176976971324150113\n",
      "2023-11-20 16:07:52.805494: I tensorflow/core/framework/local_rendezvous.cc:421] Local rendezvous recv item cancelled. Key hash: 17806865026235276410\n"
     ]
    },
    {
     "name": "stdout",
     "output_type": "stream",
     "text": [
      "613/613 - 3s - loss: 1.1231 - accuracy: 0.5524 - 3s/epoch - 5ms/step\n"
     ]
    },
    {
     "name": "stderr",
     "output_type": "stream",
     "text": [
      "2023-11-20 16:07:55.958793: I tensorflow/core/framework/local_rendezvous.cc:421] Local rendezvous recv item cancelled. Key hash: 5176976971324150113\n",
      "2023-11-20 16:07:55.958886: I tensorflow/core/framework/local_rendezvous.cc:421] Local rendezvous recv item cancelled. Key hash: 17806865026235276410\n"
     ]
    },
    {
     "name": "stdout",
     "output_type": "stream",
     "text": [
      "826/826 - 4s - loss: 1.0156 - accuracy: 0.5809 - 4s/epoch - 5ms/step\n"
     ]
    },
    {
     "name": "stderr",
     "output_type": "stream",
     "text": [
      "2023-11-20 16:08:00.115826: I tensorflow/core/framework/local_rendezvous.cc:421] Local rendezvous recv item cancelled. Key hash: 17806865026235276410\n"
     ]
    },
    {
     "name": "stdout",
     "output_type": "stream",
     "text": [
      "826/826 - 4s - loss: 0.8474 - accuracy: 0.6714 - 4s/epoch - 5ms/step\n",
      "549/549 - 3s - loss: 0.7101 - accuracy: 0.7556 - 3s/epoch - 5ms/step\n",
      "826/826 - 4s - loss: 0.7234 - accuracy: 0.7278 - 4s/epoch - 5ms/step\n",
      "613/613 - 3s - loss: 0.6183 - accuracy: 0.7739 - 3s/epoch - 5ms/step\n",
      "536/536 - 3s - loss: 0.9797 - accuracy: 0.6160 - 3s/epoch - 5ms/step\n",
      "826/826 - 4s - loss: 1.1605 - accuracy: 0.5528 - 4s/epoch - 5ms/step\n"
     ]
    },
    {
     "name": "stderr",
     "output_type": "stream",
     "text": [
      "2023-11-20 16:08:21.205316: I tensorflow/core/framework/local_rendezvous.cc:421] Local rendezvous recv item cancelled. Key hash: 17806865026235276410\n"
     ]
    },
    {
     "name": "stdout",
     "output_type": "stream",
     "text": [
      "535/535 - 3s - loss: 1.3133 - accuracy: 0.5136 - 3s/epoch - 5ms/step\n",
      "611/611 - 3s - loss: 1.1895 - accuracy: 0.5218 - 3s/epoch - 5ms/step\n",
      "815/815 - 4s - loss: 0.9852 - accuracy: 0.6083 - 4s/epoch - 5ms/step\n"
     ]
    },
    {
     "name": "stderr",
     "output_type": "stream",
     "text": [
      "2023-11-20 16:08:31.337424: I tensorflow/core/framework/local_rendezvous.cc:421] Local rendezvous recv item cancelled. Key hash: 17806865026235276410\n"
     ]
    },
    {
     "name": "stdout",
     "output_type": "stream",
     "text": [
      "639/639 - 3s - loss: 1.4430 - accuracy: 0.3443 - 3s/epoch - 5ms/step\n"
     ]
    },
    {
     "name": "stderr",
     "output_type": "stream",
     "text": [
      "2023-11-20 16:08:34.617089: I tensorflow/core/framework/local_rendezvous.cc:421] Local rendezvous recv item cancelled. Key hash: 5176976971324150113\n",
      "2023-11-20 16:08:34.617173: I tensorflow/core/framework/local_rendezvous.cc:421] Local rendezvous recv item cancelled. Key hash: 17806865026235276410\n"
     ]
    },
    {
     "name": "stdout",
     "output_type": "stream",
     "text": [
      "639/639 - 3s - loss: 1.2679 - accuracy: 0.4798 - 3s/epoch - 5ms/step\n",
      "826/826 - 4s - loss: 0.7950 - accuracy: 0.7022 - 4s/epoch - 5ms/step\n",
      "826/826 - 4s - loss: 1.0654 - accuracy: 0.5775 - 4s/epoch - 5ms/step\n",
      "549/549 - 3s - loss: 1.2292 - accuracy: 0.5173 - 3s/epoch - 5ms/step\n",
      "549/549 - 3s - loss: 0.8650 - accuracy: 0.6510 - 3s/epoch - 5ms/step\n",
      "535/535 - 3s - loss: 0.8959 - accuracy: 0.6583 - 3s/epoch - 5ms/step\n",
      "298/298 - 2s - loss: 1.6045 - accuracy: 0.3691 - 2s/epoch - 6ms/step\n",
      "639/639 - 3s - loss: 0.8515 - accuracy: 0.6601 - 3s/epoch - 5ms/step\n",
      "632/632 - 3s - loss: 0.5197 - accuracy: 0.7937 - 3s/epoch - 5ms/step\n"
     ]
    },
    {
     "name": "stderr",
     "output_type": "stream",
     "text": [
      "2023-11-20 16:09:03.056253: I tensorflow/core/framework/local_rendezvous.cc:421] Local rendezvous recv item cancelled. Key hash: 17806865026235276410\n"
     ]
    },
    {
     "name": "stdout",
     "output_type": "stream",
     "text": [
      "558/558 - 3s - loss: 1.2433 - accuracy: 0.4781 - 3s/epoch - 5ms/step\n",
      "549/549 - 3s - loss: 0.7694 - accuracy: 0.7239 - 3s/epoch - 5ms/step\n"
     ]
    },
    {
     "name": "stderr",
     "output_type": "stream",
     "text": [
      "2023-11-20 16:09:08.837182: I tensorflow/core/framework/local_rendezvous.cc:421] Local rendezvous recv item cancelled. Key hash: 5176976971324150113\n",
      "2023-11-20 16:09:08.837247: I tensorflow/core/framework/local_rendezvous.cc:421] Local rendezvous recv item cancelled. Key hash: 17806865026235276410\n"
     ]
    },
    {
     "name": "stdout",
     "output_type": "stream",
     "text": [
      "535/535 - 3s - loss: 1.4713 - accuracy: 0.4075 - 3s/epoch - 5ms/step\n"
     ]
    },
    {
     "name": "stderr",
     "output_type": "stream",
     "text": [
      "2023-11-20 16:09:11.542316: I tensorflow/core/framework/local_rendezvous.cc:421] Local rendezvous recv item cancelled. Key hash: 7867038746593761335\n",
      "2023-11-20 16:09:11.542402: I tensorflow/core/framework/local_rendezvous.cc:421] Local rendezvous recv item cancelled. Key hash: 5176976971324150113\n",
      "2023-11-20 16:09:11.542420: I tensorflow/core/framework/local_rendezvous.cc:421] Local rendezvous recv item cancelled. Key hash: 4160917900895473629\n",
      "2023-11-20 16:09:11.542439: I tensorflow/core/framework/local_rendezvous.cc:421] Local rendezvous recv item cancelled. Key hash: 17806865026235276410\n",
      "2023-11-20 16:09:11.542453: I tensorflow/core/framework/local_rendezvous.cc:421] Local rendezvous recv item cancelled. Key hash: 17115999868167584932\n",
      "2023-11-20 16:09:11.542467: I tensorflow/core/framework/local_rendezvous.cc:421] Local rendezvous recv item cancelled. Key hash: 15000485954532988464\n",
      "2023-11-20 16:09:11.542505: I tensorflow/core/framework/local_rendezvous.cc:421] Local rendezvous recv item cancelled. Key hash: 2735915373136226150\n"
     ]
    },
    {
     "name": "stdout",
     "output_type": "stream",
     "text": [
      "611/611 - 3s - loss: 0.8161 - accuracy: 0.6750 - 3s/epoch - 5ms/step\n",
      "660/660 - 3s - loss: 0.7361 - accuracy: 0.6939 - 3s/epoch - 5ms/step\n",
      "826/826 - 4s - loss: 0.6575 - accuracy: 0.7620 - 4s/epoch - 5ms/step\n",
      "613/613 - 3s - loss: 0.9205 - accuracy: 0.6356 - 3s/epoch - 5ms/step\n"
     ]
    },
    {
     "name": "stderr",
     "output_type": "stream",
     "text": [
      "2023-11-20 16:09:25.327511: I tensorflow/core/framework/local_rendezvous.cc:421] Local rendezvous recv item cancelled. Key hash: 17806865026235276410\n"
     ]
    },
    {
     "name": "stdout",
     "output_type": "stream",
     "text": [
      "826/826 - 4s - loss: 1.0441 - accuracy: 0.5988 - 4s/epoch - 5ms/step\n",
      "319/319 - 2s - loss: 1.0115 - accuracy: 0.5969 - 2s/epoch - 5ms/step\n",
      "536/536 - 3s - loss: 0.3433 - accuracy: 0.8836 - 3s/epoch - 5ms/step\n"
     ]
    },
    {
     "name": "stderr",
     "output_type": "stream",
     "text": [
      "2023-11-20 16:09:33.952943: I tensorflow/core/framework/local_rendezvous.cc:421] Local rendezvous recv item cancelled. Key hash: 17806865026235276410\n"
     ]
    },
    {
     "name": "stdout",
     "output_type": "stream",
     "text": [
      "535/535 - 3s - loss: 1.1700 - accuracy: 0.5368 - 3s/epoch - 5ms/step\n",
      "826/826 - 4s - loss: 1.1046 - accuracy: 0.5734 - 4s/epoch - 5ms/step\n",
      "613/613 - 3s - loss: 1.0296 - accuracy: 0.6000 - 3s/epoch - 5ms/step\n",
      "815/815 - 4s - loss: 1.1255 - accuracy: 0.5529 - 4s/epoch - 5ms/step\n"
     ]
    },
    {
     "name": "stderr",
     "output_type": "stream",
     "text": [
      "2023-11-20 16:09:48.228948: I tensorflow/core/framework/local_rendezvous.cc:421] Local rendezvous recv item cancelled. Key hash: 17806865026235276410\n"
     ]
    },
    {
     "name": "stdout",
     "output_type": "stream",
     "text": [
      "558/558 - 3s - loss: 0.7022 - accuracy: 0.7416 - 3s/epoch - 5ms/step\n",
      "477/477 - 3s - loss: 0.9163 - accuracy: 0.6591 - 3s/epoch - 5ms/step\n",
      "549/549 - 3s - loss: 0.5465 - accuracy: 0.7927 - 3s/epoch - 5ms/step\n",
      "558/558 - 3s - loss: 0.8039 - accuracy: 0.6710 - 3s/epoch - 5ms/step\n",
      "528/528 - 3s - loss: 1.3933 - accuracy: 0.4413 - 3s/epoch - 5ms/step\n",
      "826/826 - 4s - loss: 0.6671 - accuracy: 0.7496 - 4s/epoch - 5ms/step\n",
      "815/815 - 4s - loss: 1.4054 - accuracy: 0.4277 - 4s/epoch - 5ms/step\n"
     ]
    },
    {
     "name": "stderr",
     "output_type": "stream",
     "text": [
      "2023-11-20 16:10:10.915927: I tensorflow/core/framework/local_rendezvous.cc:421] Local rendezvous recv item cancelled. Key hash: 5176976971324150113\n",
      "2023-11-20 16:10:10.916202: I tensorflow/core/framework/local_rendezvous.cc:421] Local rendezvous recv item cancelled. Key hash: 17806865026235276410\n"
     ]
    },
    {
     "name": "stdout",
     "output_type": "stream",
     "text": [
      "549/549 - 3s - loss: 1.2237 - accuracy: 0.5373 - 3s/epoch - 5ms/step\n",
      "639/639 - 3s - loss: 1.1983 - accuracy: 0.5399 - 3s/epoch - 5ms/step\n"
     ]
    },
    {
     "name": "stderr",
     "output_type": "stream",
     "text": [
      "2023-11-20 16:10:17.042015: I tensorflow/core/framework/local_rendezvous.cc:421] Local rendezvous recv item cancelled. Key hash: 17806865026235276410\n"
     ]
    },
    {
     "name": "stdout",
     "output_type": "stream",
     "text": [
      "535/535 - 3s - loss: 1.2702 - accuracy: 0.4647 - 3s/epoch - 5ms/step\n"
     ]
    },
    {
     "name": "stderr",
     "output_type": "stream",
     "text": [
      "2023-11-20 16:10:19.811620: I tensorflow/core/framework/local_rendezvous.cc:421] Local rendezvous recv item cancelled. Key hash: 17806865026235276410\n"
     ]
    },
    {
     "name": "stdout",
     "output_type": "stream",
     "text": [
      "611/611 - 3s - loss: 0.7610 - accuracy: 0.7100 - 3s/epoch - 5ms/step\n"
     ]
    },
    {
     "name": "stderr",
     "output_type": "stream",
     "text": [
      "2023-11-20 16:10:22.958824: I tensorflow/core/framework/local_rendezvous.cc:421] Local rendezvous recv item cancelled. Key hash: 5176976971324150113\n",
      "2023-11-20 16:10:22.958917: I tensorflow/core/framework/local_rendezvous.cc:421] Local rendezvous recv item cancelled. Key hash: 17806865026235276410\n"
     ]
    },
    {
     "name": "stdout",
     "output_type": "stream",
     "text": [
      "639/639 - 3s - loss: 1.2863 - accuracy: 0.5017 - 3s/epoch - 5ms/step\n"
     ]
    },
    {
     "name": "stderr",
     "output_type": "stream",
     "text": [
      "2023-11-20 16:10:26.226692: I tensorflow/core/framework/local_rendezvous.cc:421] Local rendezvous recv item cancelled. Key hash: 17806865026235276410\n"
     ]
    },
    {
     "name": "stdout",
     "output_type": "stream",
     "text": [
      "826/826 - 4s - loss: 1.3263 - accuracy: 0.4765 - 4s/epoch - 5ms/step\n",
      "852/852 - 4s - loss: 0.8623 - accuracy: 0.6716 - 4s/epoch - 5ms/step\n"
     ]
    },
    {
     "name": "stderr",
     "output_type": "stream",
     "text": [
      "2023-11-20 16:10:34.591129: I tensorflow/core/framework/local_rendezvous.cc:421] Local rendezvous recv item cancelled. Key hash: 5176976971324150113\n",
      "2023-11-20 16:10:34.591206: I tensorflow/core/framework/local_rendezvous.cc:421] Local rendezvous recv item cancelled. Key hash: 17806865026235276410\n"
     ]
    },
    {
     "name": "stdout",
     "output_type": "stream",
     "text": [
      "677/677 - 3s - loss: 1.1863 - accuracy: 0.5114 - 3s/epoch - 5ms/step\n",
      "639/639 - 3s - loss: 1.2323 - accuracy: 0.5077 - 3s/epoch - 5ms/step\n"
     ]
    },
    {
     "name": "stderr",
     "output_type": "stream",
     "text": [
      "2023-11-20 16:10:41.375526: I tensorflow/core/framework/local_rendezvous.cc:421] Local rendezvous recv item cancelled. Key hash: 17806865026235276410\n"
     ]
    },
    {
     "name": "stdout",
     "output_type": "stream",
     "text": [
      "749/749 - 4s - loss: 0.7984 - accuracy: 0.6884 - 4s/epoch - 5ms/step\n",
      "632/632 - 3s - loss: 0.7024 - accuracy: 0.7399 - 3s/epoch - 5ms/step\n",
      "613/613 - 3s - loss: 1.0748 - accuracy: 0.5935 - 3s/epoch - 5ms/step\n",
      "632/632 - 3s - loss: 0.9388 - accuracy: 0.6123 - 3s/epoch - 5ms/step\n",
      "740/740 - 4s - loss: 0.7313 - accuracy: 0.7189 - 4s/epoch - 5ms/step\n",
      "611/611 - 3s - loss: 0.9508 - accuracy: 0.5977 - 3s/epoch - 5ms/step\n",
      "749/749 - 4s - loss: 1.0016 - accuracy: 0.5992 - 4s/epoch - 5ms/step\n",
      "632/632 - 3s - loss: 0.7241 - accuracy: 0.7060 - 3s/epoch - 5ms/step\n"
     ]
    },
    {
     "name": "stderr",
     "output_type": "stream",
     "text": [
      "2023-11-20 16:11:09.373171: I tensorflow/core/framework/local_rendezvous.cc:421] Local rendezvous recv item cancelled. Key hash: 17806865026235276410\n"
     ]
    },
    {
     "name": "stdout",
     "output_type": "stream",
     "text": [
      "258/258 - 1s - loss: 1.3834 - accuracy: 0.4093 - 1s/epoch - 6ms/step\n"
     ]
    },
    {
     "name": "stderr",
     "output_type": "stream",
     "text": [
      "2023-11-20 16:11:10.831517: I tensorflow/core/framework/local_rendezvous.cc:421] Local rendezvous recv item cancelled. Key hash: 5176976971324150113\n",
      "2023-11-20 16:11:10.831592: I tensorflow/core/framework/local_rendezvous.cc:421] Local rendezvous recv item cancelled. Key hash: 17806865026235276410\n",
      "2023-11-20 16:11:10.831611: I tensorflow/core/framework/local_rendezvous.cc:421] Local rendezvous recv item cancelled. Key hash: 17115999868167584932\n"
     ]
    },
    {
     "name": "stdout",
     "output_type": "stream",
     "text": [
      "826/826 - 4s - loss: 1.0313 - accuracy: 0.5881 - 4s/epoch - 5ms/step\n",
      "303/303 - 2s - loss: 1.6097 - accuracy: 0.2792 - 2s/epoch - 6ms/step\n"
     ]
    },
    {
     "name": "stderr",
     "output_type": "stream",
     "text": [
      "2023-11-20 16:11:16.755180: I tensorflow/core/framework/local_rendezvous.cc:421] Local rendezvous recv item cancelled. Key hash: 17806865026235276410\n"
     ]
    },
    {
     "name": "stdout",
     "output_type": "stream",
     "text": [
      "558/558 - 3s - loss: 1.2284 - accuracy: 0.5172 - 3s/epoch - 5ms/step\n"
     ]
    },
    {
     "name": "stderr",
     "output_type": "stream",
     "text": [
      "2023-11-20 16:11:19.628689: I tensorflow/core/framework/local_rendezvous.cc:421] Local rendezvous recv item cancelled. Key hash: 5176976971324150113\n",
      "2023-11-20 16:11:19.628769: I tensorflow/core/framework/local_rendezvous.cc:421] Local rendezvous recv item cancelled. Key hash: 17806865026235276410\n"
     ]
    },
    {
     "name": "stdout",
     "output_type": "stream",
     "text": [
      "558/558 - 3s - loss: 1.1186 - accuracy: 0.5835 - 3s/epoch - 5ms/step\n",
      "639/639 - 3s - loss: 1.2422 - accuracy: 0.5430 - 3s/epoch - 5ms/step\n",
      "536/536 - 3s - loss: 1.1492 - accuracy: 0.5291 - 3s/epoch - 5ms/step\n"
     ]
    },
    {
     "name": "stderr",
     "output_type": "stream",
     "text": [
      "2023-11-20 16:11:28.548359: I tensorflow/core/framework/local_rendezvous.cc:421] Local rendezvous recv item cancelled. Key hash: 17806865026235276410\n"
     ]
    },
    {
     "name": "stdout",
     "output_type": "stream",
     "text": [
      "632/632 - 3s - loss: 0.9662 - accuracy: 0.6161 - 3s/epoch - 5ms/step\n"
     ]
    },
    {
     "name": "stderr",
     "output_type": "stream",
     "text": [
      "2023-11-20 16:11:31.846339: I tensorflow/core/framework/local_rendezvous.cc:421] Local rendezvous recv item cancelled. Key hash: 17806865026235276410\n"
     ]
    },
    {
     "name": "stdout",
     "output_type": "stream",
     "text": [
      "826/826 - 4s - loss: 0.7325 - accuracy: 0.6976 - 4s/epoch - 5ms/step\n"
     ]
    },
    {
     "name": "stderr",
     "output_type": "stream",
     "text": [
      "2023-11-20 16:11:36.075570: I tensorflow/core/framework/local_rendezvous.cc:421] Local rendezvous recv item cancelled. Key hash: 5176976971324150113\n",
      "2023-11-20 16:11:36.075655: I tensorflow/core/framework/local_rendezvous.cc:421] Local rendezvous recv item cancelled. Key hash: 17806865026235276410\n"
     ]
    },
    {
     "name": "stdout",
     "output_type": "stream",
     "text": [
      "328/328 - 2s - loss: 1.3354 - accuracy: 0.4982 - 2s/epoch - 5ms/step\n"
     ]
    },
    {
     "name": "stderr",
     "output_type": "stream",
     "text": [
      "2023-11-20 16:11:37.796293: I tensorflow/core/framework/local_rendezvous.cc:421] Local rendezvous recv item cancelled. Key hash: 5176976971324150113\n",
      "2023-11-20 16:11:37.796374: I tensorflow/core/framework/local_rendezvous.cc:421] Local rendezvous recv item cancelled. Key hash: 17806865026235276410\n",
      "2023-11-20 16:11:37.796432: I tensorflow/core/framework/local_rendezvous.cc:421] Local rendezvous recv item cancelled. Key hash: 17115999868167584932\n"
     ]
    },
    {
     "name": "stdout",
     "output_type": "stream",
     "text": [
      "611/611 - 3s - loss: 0.7870 - accuracy: 0.7185 - 3s/epoch - 5ms/step\n"
     ]
    },
    {
     "name": "stderr",
     "output_type": "stream",
     "text": [
      "2023-11-20 16:11:40.963258: I tensorflow/core/framework/local_rendezvous.cc:421] Local rendezvous recv item cancelled. Key hash: 5176976971324150113\n",
      "2023-11-20 16:11:40.963338: I tensorflow/core/framework/local_rendezvous.cc:421] Local rendezvous recv item cancelled. Key hash: 17806865026235276410\n"
     ]
    },
    {
     "name": "stdout",
     "output_type": "stream",
     "text": [
      "535/535 - 3s - loss: 1.2883 - accuracy: 0.4964 - 3s/epoch - 5ms/step\n"
     ]
    },
    {
     "name": "stderr",
     "output_type": "stream",
     "text": [
      "2023-11-20 16:11:43.736866: I tensorflow/core/framework/local_rendezvous.cc:421] Local rendezvous recv item cancelled. Key hash: 17806865026235276410\n"
     ]
    },
    {
     "name": "stdout",
     "output_type": "stream",
     "text": [
      "588/588 - 3s - loss: 0.7943 - accuracy: 0.6966 - 3s/epoch - 5ms/step\n"
     ]
    },
    {
     "name": "stderr",
     "output_type": "stream",
     "text": [
      "2023-11-20 16:11:46.773397: I tensorflow/core/framework/local_rendezvous.cc:421] Local rendezvous recv item cancelled. Key hash: 5176976971324150113\n",
      "2023-11-20 16:11:46.773472: I tensorflow/core/framework/local_rendezvous.cc:421] Local rendezvous recv item cancelled. Key hash: 17806865026235276410\n"
     ]
    },
    {
     "name": "stdout",
     "output_type": "stream",
     "text": [
      "535/535 - 3s - loss: 0.8585 - accuracy: 0.6677 - 3s/epoch - 5ms/step\n",
      "677/677 - 4s - loss: 0.7070 - accuracy: 0.7406 - 4s/epoch - 5ms/step\n",
      "826/826 - 4s - loss: 1.4548 - accuracy: 0.4005 - 4s/epoch - 5ms/step\n"
     ]
    },
    {
     "name": "stderr",
     "output_type": "stream",
     "text": [
      "2023-11-20 16:11:57.297636: I tensorflow/core/framework/local_rendezvous.cc:421] Local rendezvous recv item cancelled. Key hash: 5176976971324150113\n",
      "2023-11-20 16:11:57.297709: I tensorflow/core/framework/local_rendezvous.cc:421] Local rendezvous recv item cancelled. Key hash: 17806865026235276410\n"
     ]
    },
    {
     "name": "stdout",
     "output_type": "stream",
     "text": [
      "639/639 - 3s - loss: 1.1384 - accuracy: 0.5696 - 3s/epoch - 5ms/step\n"
     ]
    },
    {
     "name": "stderr",
     "output_type": "stream",
     "text": [
      "2023-11-20 16:12:00.569396: I tensorflow/core/framework/local_rendezvous.cc:421] Local rendezvous recv item cancelled. Key hash: 17806865026235276410\n"
     ]
    },
    {
     "name": "stdout",
     "output_type": "stream",
     "text": [
      "815/815 - 4s - loss: 1.2304 - accuracy: 0.4930 - 4s/epoch - 5ms/step\n"
     ]
    },
    {
     "name": "stderr",
     "output_type": "stream",
     "text": [
      "2023-11-20 16:12:04.688856: I tensorflow/core/framework/local_rendezvous.cc:421] Local rendezvous recv item cancelled. Key hash: 7867038746593761335\n",
      "2023-11-20 16:12:04.688939: I tensorflow/core/framework/local_rendezvous.cc:421] Local rendezvous recv item cancelled. Key hash: 5176976971324150113\n",
      "2023-11-20 16:12:04.688959: I tensorflow/core/framework/local_rendezvous.cc:421] Local rendezvous recv item cancelled. Key hash: 4160917900895473629\n",
      "2023-11-20 16:12:04.688979: I tensorflow/core/framework/local_rendezvous.cc:421] Local rendezvous recv item cancelled. Key hash: 17806865026235276410\n",
      "2023-11-20 16:12:04.688993: I tensorflow/core/framework/local_rendezvous.cc:421] Local rendezvous recv item cancelled. Key hash: 17115999868167584932\n",
      "2023-11-20 16:12:04.689008: I tensorflow/core/framework/local_rendezvous.cc:421] Local rendezvous recv item cancelled. Key hash: 15000485954532988464\n",
      "2023-11-20 16:12:04.689044: I tensorflow/core/framework/local_rendezvous.cc:421] Local rendezvous recv item cancelled. Key hash: 2735915373136226150\n"
     ]
    },
    {
     "name": "stdout",
     "output_type": "stream",
     "text": [
      "639/639 - 3s - loss: 1.4008 - accuracy: 0.4657 - 3s/epoch - 5ms/step\n"
     ]
    },
    {
     "name": "stderr",
     "output_type": "stream",
     "text": [
      "2023-11-20 16:12:07.929572: I tensorflow/core/framework/local_rendezvous.cc:421] Local rendezvous recv item cancelled. Key hash: 5176976971324150113\n",
      "2023-11-20 16:12:07.929637: I tensorflow/core/framework/local_rendezvous.cc:421] Local rendezvous recv item cancelled. Key hash: 17806865026235276410\n"
     ]
    },
    {
     "name": "stdout",
     "output_type": "stream",
     "text": [
      "677/677 - 3s - loss: 0.8375 - accuracy: 0.6783 - 3s/epoch - 5ms/step\n"
     ]
    },
    {
     "name": "stderr",
     "output_type": "stream",
     "text": [
      "2023-11-20 16:12:11.404237: I tensorflow/core/framework/local_rendezvous.cc:421] Local rendezvous recv item cancelled. Key hash: 17806865026235276410\n"
     ]
    },
    {
     "name": "stdout",
     "output_type": "stream",
     "text": [
      "677/677 - 3s - loss: 1.1995 - accuracy: 0.5288 - 3s/epoch - 5ms/step\n"
     ]
    },
    {
     "name": "stderr",
     "output_type": "stream",
     "text": [
      "2023-11-20 16:12:14.887763: I tensorflow/core/framework/local_rendezvous.cc:421] Local rendezvous recv item cancelled. Key hash: 17806865026235276410\n"
     ]
    },
    {
     "name": "stdout",
     "output_type": "stream",
     "text": [
      "677/677 - 4s - loss: 1.0948 - accuracy: 0.5764 - 4s/epoch - 5ms/step\n",
      "Model: \"model_7\"\n",
      "__________________________________________________________________________________________________\n",
      " Layer (type)                Output Shape                 Param #   Connected to                  \n",
      "==================================================================================================\n",
      " input_37 (InputLayer)       [(None, 192, 64)]            0         []                            \n",
      "                                                                                                  \n",
      " conv1d_49 (Conv1D)          (None, 192, 8)               520       ['input_37[0][0]']            \n",
      "                                                                                                  \n",
      " input_38 (InputLayer)       [(None, 192, 1)]             0         []                            \n",
      "                                                                                                  \n",
      " input_39 (InputLayer)       [(None, 192, 1)]             0         []                            \n",
      "                                                                                                  \n",
      " input_40 (InputLayer)       [(None, 192, 1)]             0         []                            \n",
      "                                                                                                  \n",
      " input_41 (InputLayer)       [(None, 192, 1)]             0         []                            \n",
      "                                                                                                  \n",
      " input_42 (InputLayer)       [(None, 192, 1)]             0         []                            \n",
      "                                                                                                  \n",
      " input_43 (InputLayer)       [(None, 192, 1)]             0         []                            \n",
      "                                                                                                  \n",
      " input_44 (InputLayer)       [(None, 192, 1)]             0         []                            \n",
      "                                                                                                  \n",
      " input_45 (InputLayer)       [(None, 192, 1)]             0         []                            \n",
      "                                                                                                  \n",
      " input_46 (InputLayer)       [(None, 192, 1)]             0         []                            \n",
      "                                                                                                  \n",
      " conv1d_50 (Conv1D)          (None, 190, 16)              400       ['conv1d_49[0][0]']           \n",
      "                                                                                                  \n",
      " conv1d_51 (Conv1D)          (None, 190, 16)              64        ['input_38[0][0]',            \n",
      "                                                                     'input_39[0][0]',            \n",
      "                                                                     'input_40[0][0]',            \n",
      "                                                                     'input_41[0][0]',            \n",
      "                                                                     'input_42[0][0]',            \n",
      "                                                                     'input_43[0][0]',            \n",
      "                                                                     'input_44[0][0]',            \n",
      "                                                                     'input_45[0][0]',            \n",
      "                                                                     'input_46[0][0]']            \n",
      "                                                                                                  \n",
      " conv1d_52 (Conv1D)          (None, 184, 16)              784       ['conv1d_50[0][0]']           \n",
      "                                                                                                  \n",
      " conv1d_53 (Conv1D)          (None, 184, 16)              784       ['conv1d_51[0][0]',           \n",
      "                                                                     'conv1d_51[1][0]',           \n",
      "                                                                     'conv1d_51[2][0]',           \n",
      "                                                                     'conv1d_51[3][0]',           \n",
      "                                                                     'conv1d_51[4][0]',           \n",
      "                                                                     'conv1d_51[5][0]',           \n",
      "                                                                     'conv1d_51[6][0]',           \n",
      "                                                                     'conv1d_51[7][0]',           \n",
      "                                                                     'conv1d_51[8][0]']           \n",
      "                                                                                                  \n",
      " conv1d_54 (Conv1D)          (None, 166, 16)              784       ['conv1d_52[0][0]']           \n",
      "                                                                                                  \n",
      " conv1d_55 (Conv1D)          (None, 166, 16)              784       ['conv1d_53[0][0]',           \n",
      "                                                                     'conv1d_53[1][0]',           \n",
      "                                                                     'conv1d_53[2][0]',           \n",
      "                                                                     'conv1d_53[3][0]',           \n",
      "                                                                     'conv1d_53[4][0]',           \n",
      "                                                                     'conv1d_53[5][0]',           \n",
      "                                                                     'conv1d_53[6][0]',           \n",
      "                                                                     'conv1d_53[7][0]',           \n",
      "                                                                     'conv1d_53[8][0]']           \n",
      "                                                                                                  \n",
      " dot_29 (Dot)                (None, 16, 16)               0         ['conv1d_54[0][0]',           \n",
      "                                                                     'conv1d_55[0][0]']           \n",
      "                                                                                                  \n",
      " dot_30 (Dot)                (None, 16, 16)               0         ['conv1d_54[0][0]',           \n",
      "                                                                     'conv1d_55[1][0]']           \n",
      "                                                                                                  \n",
      " dot_31 (Dot)                (None, 16, 16)               0         ['conv1d_54[0][0]',           \n",
      "                                                                     'conv1d_55[2][0]']           \n",
      "                                                                                                  \n",
      " dot_32 (Dot)                (None, 16, 16)               0         ['conv1d_54[0][0]',           \n",
      "                                                                     'conv1d_55[3][0]']           \n",
      "                                                                                                  \n",
      " dot_33 (Dot)                (None, 16, 16)               0         ['conv1d_54[0][0]',           \n",
      "                                                                     'conv1d_55[4][0]']           \n",
      "                                                                                                  \n",
      " dot_34 (Dot)                (None, 16, 16)               0         ['conv1d_54[0][0]',           \n",
      "                                                                     'conv1d_55[5][0]']           \n",
      "                                                                                                  \n",
      " dot_35 (Dot)                (None, 16, 16)               0         ['conv1d_54[0][0]',           \n",
      "                                                                     'conv1d_55[6][0]']           \n",
      "                                                                                                  \n"
     ]
    },
    {
     "name": "stdout",
     "output_type": "stream",
     "text": [
      " dot_36 (Dot)                (None, 16, 16)               0         ['conv1d_54[0][0]',           \n",
      "                                                                     'conv1d_55[7][0]']           \n",
      "                                                                                                  \n",
      " dot_37 (Dot)                (None, 16, 16)               0         ['conv1d_54[0][0]',           \n",
      "                                                                     'conv1d_55[8][0]']           \n",
      "                                                                                                  \n",
      " flatten_29 (Flatten)        (None, 256)                  0         ['dot_29[0][0]']              \n",
      "                                                                                                  \n",
      " flatten_30 (Flatten)        (None, 256)                  0         ['dot_30[0][0]']              \n",
      "                                                                                                  \n",
      " flatten_31 (Flatten)        (None, 256)                  0         ['dot_31[0][0]']              \n",
      "                                                                                                  \n",
      " flatten_32 (Flatten)        (None, 256)                  0         ['dot_32[0][0]']              \n",
      "                                                                                                  \n",
      " flatten_33 (Flatten)        (None, 256)                  0         ['dot_33[0][0]']              \n",
      "                                                                                                  \n",
      " flatten_34 (Flatten)        (None, 256)                  0         ['dot_34[0][0]']              \n",
      "                                                                                                  \n",
      " flatten_35 (Flatten)        (None, 256)                  0         ['dot_35[0][0]']              \n",
      "                                                                                                  \n",
      " flatten_36 (Flatten)        (None, 256)                  0         ['dot_36[0][0]']              \n",
      "                                                                                                  \n",
      " flatten_37 (Flatten)        (None, 256)                  0         ['dot_37[0][0]']              \n",
      "                                                                                                  \n",
      " dense_7 (Dense)             (None, 1)                    257       ['flatten_29[0][0]',          \n",
      "                                                                     'flatten_30[0][0]',          \n",
      "                                                                     'flatten_31[0][0]',          \n",
      "                                                                     'flatten_32[0][0]',          \n",
      "                                                                     'flatten_33[0][0]',          \n",
      "                                                                     'flatten_34[0][0]',          \n",
      "                                                                     'flatten_35[0][0]',          \n",
      "                                                                     'flatten_36[0][0]',          \n",
      "                                                                     'flatten_37[0][0]']          \n",
      "                                                                                                  \n",
      " concatenate_7 (Concatenate  (None, 9)                    0         ['dense_7[0][0]',             \n",
      " )                                                                   'dense_7[1][0]',             \n",
      "                                                                     'dense_7[2][0]',             \n",
      "                                                                     'dense_7[3][0]',             \n",
      "                                                                     'dense_7[4][0]',             \n",
      "                                                                     'dense_7[5][0]',             \n",
      "                                                                     'dense_7[6][0]',             \n",
      "                                                                     'dense_7[7][0]',             \n",
      "                                                                     'dense_7[8][0]']             \n",
      "                                                                                                  \n",
      " tf.nn.softmax_7 (TFOpLambd  (None, 9)                    0         ['concatenate_7[0][0]']       \n",
      " a)                                                                                               \n",
      "                                                                                                  \n",
      "==================================================================================================\n",
      "Total params: 4377 (17.10 KB)\n",
      "Trainable params: 4377 (17.10 KB)\n",
      "Non-trainable params: 0 (0.00 Byte)\n",
      "__________________________________________________________________________________________________\n",
      "None\n",
      "846/846 - 7s - loss: 2.0672 - accuracy: 0.3341 - 7s/epoch - 9ms/step\n"
     ]
    },
    {
     "name": "stderr",
     "output_type": "stream",
     "text": [
      "2023-11-20 16:12:37.285161: I tensorflow/core/framework/local_rendezvous.cc:421] Local rendezvous recv item cancelled. Key hash: 14338186474982093409\n",
      "2023-11-20 16:12:37.285479: I tensorflow/core/framework/local_rendezvous.cc:421] Local rendezvous recv item cancelled. Key hash: 6825410248458351305\n",
      "2023-11-20 16:12:37.285497: I tensorflow/core/framework/local_rendezvous.cc:421] Local rendezvous recv item cancelled. Key hash: 9812772548421412061\n",
      "2023-11-20 16:12:37.285509: I tensorflow/core/framework/local_rendezvous.cc:421] Local rendezvous recv item cancelled. Key hash: 17981352305312871853\n",
      "2023-11-20 16:12:37.285521: I tensorflow/core/framework/local_rendezvous.cc:421] Local rendezvous recv item cancelled. Key hash: 17220207207416776229\n",
      "2023-11-20 16:12:37.285533: I tensorflow/core/framework/local_rendezvous.cc:421] Local rendezvous recv item cancelled. Key hash: 15000873355378366405\n",
      "2023-11-20 16:12:37.285545: I tensorflow/core/framework/local_rendezvous.cc:421] Local rendezvous recv item cancelled. Key hash: 10845354221489786405\n",
      "2023-11-20 16:12:37.285557: I tensorflow/core/framework/local_rendezvous.cc:421] Local rendezvous recv item cancelled. Key hash: 11784412950783328005\n",
      "2023-11-20 16:12:37.285574: I tensorflow/core/framework/local_rendezvous.cc:421] Local rendezvous recv item cancelled. Key hash: 3782892865653787176\n",
      "2023-11-20 16:12:37.285586: I tensorflow/core/framework/local_rendezvous.cc:421] Local rendezvous recv item cancelled. Key hash: 6553285949813060520\n",
      "2023-11-20 16:12:37.285611: I tensorflow/core/framework/local_rendezvous.cc:421] Local rendezvous recv item cancelled. Key hash: 8954476601624931724\n"
     ]
    },
    {
     "name": "stdout",
     "output_type": "stream",
     "text": [
      "570/570 - 4s - loss: 1.7168 - accuracy: 0.4131 - 4s/epoch - 7ms/step\n",
      "627/627 - 4s - loss: 2.0629 - accuracy: 0.3160 - 4s/epoch - 7ms/step\n"
     ]
    },
    {
     "name": "stderr",
     "output_type": "stream",
     "text": [
      "2023-11-20 16:12:45.643518: I tensorflow/core/framework/local_rendezvous.cc:421] Local rendezvous recv item cancelled. Key hash: 15000873355378366405\n",
      "2023-11-20 16:12:45.643597: I tensorflow/core/framework/local_rendezvous.cc:421] Local rendezvous recv item cancelled. Key hash: 14338186474982093409\n",
      "2023-11-20 16:12:45.643620: I tensorflow/core/framework/local_rendezvous.cc:421] Local rendezvous recv item cancelled. Key hash: 6825410248458351305\n",
      "2023-11-20 16:12:45.643636: I tensorflow/core/framework/local_rendezvous.cc:421] Local rendezvous recv item cancelled. Key hash: 9812772548421412061\n",
      "2023-11-20 16:12:45.643651: I tensorflow/core/framework/local_rendezvous.cc:421] Local rendezvous recv item cancelled. Key hash: 17981352305312871853\n",
      "2023-11-20 16:12:45.643665: I tensorflow/core/framework/local_rendezvous.cc:421] Local rendezvous recv item cancelled. Key hash: 11784412950783328005\n",
      "2023-11-20 16:12:45.643689: I tensorflow/core/framework/local_rendezvous.cc:421] Local rendezvous recv item cancelled. Key hash: 3782892865653787176\n",
      "2023-11-20 16:12:45.643702: I tensorflow/core/framework/local_rendezvous.cc:421] Local rendezvous recv item cancelled. Key hash: 6553285949813060520\n"
     ]
    },
    {
     "name": "stdout",
     "output_type": "stream",
     "text": [
      "550/550 - 4s - loss: 1.8144 - accuracy: 0.3800 - 4s/epoch - 7ms/step\n",
      "627/627 - 4s - loss: 1.9945 - accuracy: 0.3425 - 4s/epoch - 7ms/step\n"
     ]
    },
    {
     "name": "stderr",
     "output_type": "stream",
     "text": [
      "2023-11-20 16:12:53.833320: I tensorflow/core/framework/local_rendezvous.cc:421] Local rendezvous recv item cancelled. Key hash: 11784412950783328005\n"
     ]
    },
    {
     "name": "stdout",
     "output_type": "stream",
     "text": [
      "846/846 - 6s - loss: 1.9220 - accuracy: 0.3366 - 6s/epoch - 7ms/step\n",
      "846/846 - 6s - loss: 1.7187 - accuracy: 0.4274 - 6s/epoch - 7ms/step\n",
      "561/561 - 4s - loss: 1.5458 - accuracy: 0.4643 - 4s/epoch - 7ms/step\n"
     ]
    },
    {
     "name": "stderr",
     "output_type": "stream",
     "text": [
      "2023-11-20 16:13:09.263758: I tensorflow/core/framework/local_rendezvous.cc:421] Local rendezvous recv item cancelled. Key hash: 15000873355378366405\n",
      "2023-11-20 16:13:09.263837: I tensorflow/core/framework/local_rendezvous.cc:421] Local rendezvous recv item cancelled. Key hash: 14338186474982093409\n",
      "2023-11-20 16:13:09.263879: I tensorflow/core/framework/local_rendezvous.cc:421] Local rendezvous recv item cancelled. Key hash: 6825410248458351305\n",
      "2023-11-20 16:13:09.263894: I tensorflow/core/framework/local_rendezvous.cc:421] Local rendezvous recv item cancelled. Key hash: 9812772548421412061\n",
      "2023-11-20 16:13:09.263908: I tensorflow/core/framework/local_rendezvous.cc:421] Local rendezvous recv item cancelled. Key hash: 17981352305312871853\n",
      "2023-11-20 16:13:09.263920: I tensorflow/core/framework/local_rendezvous.cc:421] Local rendezvous recv item cancelled. Key hash: 11784412950783328005\n",
      "2023-11-20 16:13:09.263935: I tensorflow/core/framework/local_rendezvous.cc:421] Local rendezvous recv item cancelled. Key hash: 3782892865653787176\n",
      "2023-11-20 16:13:09.263948: I tensorflow/core/framework/local_rendezvous.cc:421] Local rendezvous recv item cancelled. Key hash: 6553285949813060520\n"
     ]
    },
    {
     "name": "stdout",
     "output_type": "stream",
     "text": [
      "846/846 - 6s - loss: 1.5834 - accuracy: 0.4329 - 6s/epoch - 7ms/step\n",
      "627/627 - 5s - loss: 1.4556 - accuracy: 0.5008 - 5s/epoch - 8ms/step\n",
      "550/550 - 4s - loss: 1.8266 - accuracy: 0.3786 - 4s/epoch - 7ms/step\n"
     ]
    },
    {
     "name": "stderr",
     "output_type": "stream",
     "text": [
      "2023-11-20 16:13:23.691584: I tensorflow/core/framework/local_rendezvous.cc:421] Local rendezvous recv item cancelled. Key hash: 11784412950783328005\n",
      "2023-11-20 16:13:23.691671: I tensorflow/core/framework/local_rendezvous.cc:421] Local rendezvous recv item cancelled. Key hash: 6553285949813060520\n"
     ]
    },
    {
     "name": "stdout",
     "output_type": "stream",
     "text": [
      "846/846 - 6s - loss: 2.1506 - accuracy: 0.3004 - 6s/epoch - 7ms/step\n"
     ]
    },
    {
     "name": "stderr",
     "output_type": "stream",
     "text": [
      "2023-11-20 16:13:29.484088: I tensorflow/core/framework/local_rendezvous.cc:421] Local rendezvous recv item cancelled. Key hash: 14338186474982093409\n",
      "2023-11-20 16:13:29.484158: I tensorflow/core/framework/local_rendezvous.cc:421] Local rendezvous recv item cancelled. Key hash: 9812772548421412061\n",
      "2023-11-20 16:13:29.484177: I tensorflow/core/framework/local_rendezvous.cc:421] Local rendezvous recv item cancelled. Key hash: 11784412950783328005\n",
      "2023-11-20 16:13:29.484215: I tensorflow/core/framework/local_rendezvous.cc:421] Local rendezvous recv item cancelled. Key hash: 3782892865653787176\n",
      "2023-11-20 16:13:29.484233: I tensorflow/core/framework/local_rendezvous.cc:421] Local rendezvous recv item cancelled. Key hash: 6553285949813060520\n"
     ]
    },
    {
     "name": "stdout",
     "output_type": "stream",
     "text": [
      "549/549 - 4s - loss: 2.3319 - accuracy: 0.2817 - 4s/epoch - 7ms/step\n",
      "625/625 - 4s - loss: 2.1448 - accuracy: 0.2990 - 4s/epoch - 7ms/step\n",
      "837/837 - 6s - loss: 1.8810 - accuracy: 0.3474 - 6s/epoch - 7ms/step\n",
      "653/653 - 5s - loss: 2.1827 - accuracy: 0.1817 - 5s/epoch - 7ms/step\n",
      "653/653 - 5s - loss: 2.1989 - accuracy: 0.2942 - 5s/epoch - 7ms/step\n"
     ]
    },
    {
     "name": "stderr",
     "output_type": "stream",
     "text": [
      "2023-11-20 16:13:52.985053: I tensorflow/core/framework/local_rendezvous.cc:421] Local rendezvous recv item cancelled. Key hash: 11784412950783328005\n",
      "2023-11-20 16:13:52.985151: I tensorflow/core/framework/local_rendezvous.cc:421] Local rendezvous recv item cancelled. Key hash: 6553285949813060520\n"
     ]
    },
    {
     "name": "stdout",
     "output_type": "stream",
     "text": [
      "846/846 - 6s - loss: 1.6589 - accuracy: 0.4477 - 6s/epoch - 7ms/step\n",
      "846/846 - 6s - loss: 1.9986 - accuracy: 0.3542 - 6s/epoch - 7ms/step\n",
      "561/561 - 4s - loss: 2.1389 - accuracy: 0.2917 - 4s/epoch - 7ms/step\n"
     ]
    },
    {
     "name": "stderr",
     "output_type": "stream",
     "text": [
      "2023-11-20 16:14:08.818882: I tensorflow/core/framework/local_rendezvous.cc:421] Local rendezvous recv item cancelled. Key hash: 11784412950783328005\n"
     ]
    },
    {
     "name": "stdout",
     "output_type": "stream",
     "text": [
      "561/561 - 4s - loss: 1.6646 - accuracy: 0.4405 - 4s/epoch - 7ms/step\n"
     ]
    },
    {
     "name": "stderr",
     "output_type": "stream",
     "text": [
      "2023-11-20 16:14:12.769204: I tensorflow/core/framework/local_rendezvous.cc:421] Local rendezvous recv item cancelled. Key hash: 11784412950783328005\n"
     ]
    },
    {
     "name": "stdout",
     "output_type": "stream",
     "text": [
      "549/549 - 4s - loss: 1.7036 - accuracy: 0.4240 - 4s/epoch - 7ms/step\n",
      "306/306 - 2s - loss: 2.6954 - accuracy: 0.2157 - 2s/epoch - 8ms/step\n"
     ]
    },
    {
     "name": "stderr",
     "output_type": "stream",
     "text": [
      "2023-11-20 16:14:19.092019: I tensorflow/core/framework/local_rendezvous.cc:421] Local rendezvous recv item cancelled. Key hash: 11784412950783328005\n",
      "2023-11-20 16:14:19.092099: I tensorflow/core/framework/local_rendezvous.cc:421] Local rendezvous recv item cancelled. Key hash: 6553285949813060520\n"
     ]
    },
    {
     "name": "stdout",
     "output_type": "stream",
     "text": [
      "653/653 - 5s - loss: 1.7204 - accuracy: 0.4354 - 5s/epoch - 7ms/step\n",
      "656/656 - 5s - loss: 1.2232 - accuracy: 0.5633 - 5s/epoch - 7ms/step\n",
      "570/570 - 4s - loss: 2.1363 - accuracy: 0.2803 - 4s/epoch - 7ms/step\n"
     ]
    },
    {
     "name": "stderr",
     "output_type": "stream",
     "text": [
      "2023-11-20 16:14:32.400264: I tensorflow/core/framework/local_rendezvous.cc:421] Local rendezvous recv item cancelled. Key hash: 11784412950783328005\n"
     ]
    },
    {
     "name": "stdout",
     "output_type": "stream",
     "text": [
      "561/561 - 4s - loss: 1.5718 - accuracy: 0.4650 - 4s/epoch - 7ms/step\n"
     ]
    },
    {
     "name": "stderr",
     "output_type": "stream",
     "text": [
      "2023-11-20 16:14:36.340167: I tensorflow/core/framework/local_rendezvous.cc:421] Local rendezvous recv item cancelled. Key hash: 11784412950783328005\n"
     ]
    },
    {
     "name": "stdout",
     "output_type": "stream",
     "text": [
      "549/549 - 4s - loss: 2.3824 - accuracy: 0.2228 - 4s/epoch - 7ms/step\n"
     ]
    },
    {
     "name": "stderr",
     "output_type": "stream",
     "text": [
      "2023-11-20 16:14:40.232023: I tensorflow/core/framework/local_rendezvous.cc:421] Local rendezvous recv item cancelled. Key hash: 11784412950783328005\n"
     ]
    },
    {
     "name": "stdout",
     "output_type": "stream",
     "text": [
      "625/625 - 4s - loss: 1.6640 - accuracy: 0.4021 - 4s/epoch - 7ms/step\n"
     ]
    },
    {
     "name": "stderr",
     "output_type": "stream",
     "text": [
      "2023-11-20 16:14:44.565791: I tensorflow/core/framework/local_rendezvous.cc:421] Local rendezvous recv item cancelled. Key hash: 11784412950783328005\n"
     ]
    },
    {
     "name": "stdout",
     "output_type": "stream",
     "text": [
      "676/676 - 5s - loss: 1.5916 - accuracy: 0.4952 - 5s/epoch - 7ms/step\n",
      "846/846 - 6s - loss: 1.4402 - accuracy: 0.5081 - 6s/epoch - 7ms/step\n"
     ]
    },
    {
     "name": "stderr",
     "output_type": "stream",
     "text": [
      "2023-11-20 16:14:55.170629: I tensorflow/core/framework/local_rendezvous.cc:421] Local rendezvous recv item cancelled. Key hash: 11784412950783328005\n"
     ]
    },
    {
     "name": "stdout",
     "output_type": "stream",
     "text": [
      "627/627 - 4s - loss: 1.8355 - accuracy: 0.3606 - 4s/epoch - 7ms/step\n"
     ]
    },
    {
     "name": "stderr",
     "output_type": "stream",
     "text": [
      "2023-11-20 16:14:59.523370: I tensorflow/core/framework/local_rendezvous.cc:421] Local rendezvous recv item cancelled. Key hash: 11784412950783328005\n"
     ]
    },
    {
     "name": "stdout",
     "output_type": "stream",
     "text": [
      "846/846 - 6s - loss: 1.9309 - accuracy: 0.3639 - 6s/epoch - 7ms/step\n",
      "327/327 - 2s - loss: 1.9726 - accuracy: 0.3592 - 2s/epoch - 7ms/step\n",
      "550/550 - 4s - loss: 0.8735 - accuracy: 0.6889 - 4s/epoch - 7ms/step\n"
     ]
    },
    {
     "name": "stderr",
     "output_type": "stream",
     "text": [
      "2023-11-20 16:15:11.586518: I tensorflow/core/framework/local_rendezvous.cc:421] Local rendezvous recv item cancelled. Key hash: 15000873355378366405\n",
      "2023-11-20 16:15:11.586580: I tensorflow/core/framework/local_rendezvous.cc:421] Local rendezvous recv item cancelled. Key hash: 14338186474982093409\n",
      "2023-11-20 16:15:11.586598: I tensorflow/core/framework/local_rendezvous.cc:421] Local rendezvous recv item cancelled. Key hash: 6825410248458351305\n",
      "2023-11-20 16:15:11.586615: I tensorflow/core/framework/local_rendezvous.cc:421] Local rendezvous recv item cancelled. Key hash: 9812772548421412061\n",
      "2023-11-20 16:15:11.586630: I tensorflow/core/framework/local_rendezvous.cc:421] Local rendezvous recv item cancelled. Key hash: 17981352305312871853\n",
      "2023-11-20 16:15:11.586645: I tensorflow/core/framework/local_rendezvous.cc:421] Local rendezvous recv item cancelled. Key hash: 11784412950783328005\n",
      "2023-11-20 16:15:11.586663: I tensorflow/core/framework/local_rendezvous.cc:421] Local rendezvous recv item cancelled. Key hash: 3782892865653787176\n",
      "2023-11-20 16:15:11.586678: I tensorflow/core/framework/local_rendezvous.cc:421] Local rendezvous recv item cancelled. Key hash: 6553285949813060520\n"
     ]
    },
    {
     "name": "stdout",
     "output_type": "stream",
     "text": [
      "549/549 - 5s - loss: 2.0084 - accuracy: 0.2908 - 5s/epoch - 9ms/step\n"
     ]
    },
    {
     "name": "stderr",
     "output_type": "stream",
     "text": [
      "2023-11-20 16:15:16.715522: I tensorflow/core/framework/local_rendezvous.cc:421] Local rendezvous recv item cancelled. Key hash: 15000873355378366405\n",
      "2023-11-20 16:15:16.715586: I tensorflow/core/framework/local_rendezvous.cc:421] Local rendezvous recv item cancelled. Key hash: 14338186474982093409\n",
      "2023-11-20 16:15:16.715604: I tensorflow/core/framework/local_rendezvous.cc:421] Local rendezvous recv item cancelled. Key hash: 6825410248458351305\n",
      "2023-11-20 16:15:16.715620: I tensorflow/core/framework/local_rendezvous.cc:421] Local rendezvous recv item cancelled. Key hash: 9812772548421412061\n",
      "2023-11-20 16:15:16.715635: I tensorflow/core/framework/local_rendezvous.cc:421] Local rendezvous recv item cancelled. Key hash: 17981352305312871853\n",
      "2023-11-20 16:15:16.715651: I tensorflow/core/framework/local_rendezvous.cc:421] Local rendezvous recv item cancelled. Key hash: 11784412950783328005\n",
      "2023-11-20 16:15:16.715668: I tensorflow/core/framework/local_rendezvous.cc:421] Local rendezvous recv item cancelled. Key hash: 3782892865653787176\n",
      "2023-11-20 16:15:16.715683: I tensorflow/core/framework/local_rendezvous.cc:421] Local rendezvous recv item cancelled. Key hash: 6553285949813060520\n"
     ]
    },
    {
     "name": "stdout",
     "output_type": "stream",
     "text": [
      "846/846 - 6s - loss: 2.0212 - accuracy: 0.3645 - 6s/epoch - 7ms/step\n",
      "627/627 - 5s - loss: 1.8818 - accuracy: 0.3438 - 5s/epoch - 8ms/step\n",
      "837/837 - 6s - loss: 2.0372 - accuracy: 0.3132 - 6s/epoch - 7ms/step\n",
      "570/570 - 4s - loss: 1.5301 - accuracy: 0.4710 - 4s/epoch - 7ms/step\n"
     ]
    },
    {
     "name": "stderr",
     "output_type": "stream",
     "text": [
      "2023-11-20 16:15:37.353609: I tensorflow/core/framework/local_rendezvous.cc:421] Local rendezvous recv item cancelled. Key hash: 11784412950783328005\n"
     ]
    },
    {
     "name": "stdout",
     "output_type": "stream",
     "text": [
      "489/489 - 4s - loss: 1.7947 - accuracy: 0.3899 - 4s/epoch - 7ms/step\n",
      "561/561 - 4s - loss: 1.2834 - accuracy: 0.5407 - 4s/epoch - 7ms/step\n"
     ]
    },
    {
     "name": "stderr",
     "output_type": "stream",
     "text": [
      "2023-11-20 16:15:45.040839: I tensorflow/core/framework/local_rendezvous.cc:421] Local rendezvous recv item cancelled. Key hash: 11784412950783328005\n"
     ]
    },
    {
     "name": "stdout",
     "output_type": "stream",
     "text": [
      "570/570 - 4s - loss: 1.5975 - accuracy: 0.4392 - 4s/epoch - 7ms/step\n"
     ]
    },
    {
     "name": "stderr",
     "output_type": "stream",
     "text": [
      "2023-11-20 16:15:49.097046: I tensorflow/core/framework/local_rendezvous.cc:421] Local rendezvous recv item cancelled. Key hash: 11784412950783328005\n"
     ]
    },
    {
     "name": "stdout",
     "output_type": "stream",
     "text": [
      "540/540 - 4s - loss: 2.2846 - accuracy: 0.2226 - 4s/epoch - 7ms/step\n"
     ]
    },
    {
     "name": "stderr",
     "output_type": "stream",
     "text": [
      "2023-11-20 16:15:52.911808: I tensorflow/core/framework/local_rendezvous.cc:421] Local rendezvous recv item cancelled. Key hash: 11784412950783328005\n",
      "2023-11-20 16:15:52.911897: I tensorflow/core/framework/local_rendezvous.cc:421] Local rendezvous recv item cancelled. Key hash: 6553285949813060520\n"
     ]
    },
    {
     "name": "stdout",
     "output_type": "stream",
     "text": [
      "846/846 - 6s - loss: 1.4777 - accuracy: 0.4904 - 6s/epoch - 7ms/step\n"
     ]
    },
    {
     "name": "stderr",
     "output_type": "stream",
     "text": [
      "2023-11-20 16:15:58.795856: I tensorflow/core/framework/local_rendezvous.cc:421] Local rendezvous recv item cancelled. Key hash: 9812772548421412061\n",
      "2023-11-20 16:15:58.795932: I tensorflow/core/framework/local_rendezvous.cc:421] Local rendezvous recv item cancelled. Key hash: 11784412950783328005\n",
      "2023-11-20 16:15:58.795949: I tensorflow/core/framework/local_rendezvous.cc:421] Local rendezvous recv item cancelled. Key hash: 6553285949813060520\n"
     ]
    },
    {
     "name": "stdout",
     "output_type": "stream",
     "text": [
      "837/837 - 6s - loss: 2.2193 - accuracy: 0.2392 - 6s/epoch - 7ms/step\n"
     ]
    },
    {
     "name": "stderr",
     "output_type": "stream",
     "text": [
      "2023-11-20 16:16:04.625710: I tensorflow/core/framework/local_rendezvous.cc:421] Local rendezvous recv item cancelled. Key hash: 11784412950783328005\n"
     ]
    },
    {
     "name": "stdout",
     "output_type": "stream",
     "text": [
      "561/561 - 4s - loss: 2.1997 - accuracy: 0.3183 - 4s/epoch - 7ms/step\n"
     ]
    },
    {
     "name": "stderr",
     "output_type": "stream",
     "text": [
      "2023-11-20 16:16:08.596586: I tensorflow/core/framework/local_rendezvous.cc:421] Local rendezvous recv item cancelled. Key hash: 11784412950783328005\n"
     ]
    },
    {
     "name": "stdout",
     "output_type": "stream",
     "text": [
      "653/653 - 5s - loss: 2.1367 - accuracy: 0.3284 - 5s/epoch - 7ms/step\n",
      "549/549 - 4s - loss: 2.2014 - accuracy: 0.2876 - 4s/epoch - 7ms/step\n"
     ]
    },
    {
     "name": "stderr",
     "output_type": "stream",
     "text": [
      "2023-11-20 16:16:17.264112: I tensorflow/core/framework/local_rendezvous.cc:421] Local rendezvous recv item cancelled. Key hash: 11784412950783328005\n"
     ]
    },
    {
     "name": "stdout",
     "output_type": "stream",
     "text": [
      "625/625 - 5s - loss: 1.5663 - accuracy: 0.4843 - 5s/epoch - 7ms/step\n",
      "653/653 - 5s - loss: 2.1966 - accuracy: 0.2811 - 5s/epoch - 7ms/step\n"
     ]
    },
    {
     "name": "stderr",
     "output_type": "stream",
     "text": [
      "2023-11-20 16:16:26.439073: I tensorflow/core/framework/local_rendezvous.cc:421] Local rendezvous recv item cancelled. Key hash: 11784412950783328005\n",
      "2023-11-20 16:16:26.439147: I tensorflow/core/framework/local_rendezvous.cc:421] Local rendezvous recv item cancelled. Key hash: 6553285949813060520\n"
     ]
    },
    {
     "name": "stdout",
     "output_type": "stream",
     "text": [
      "846/846 - 6s - loss: 2.3274 - accuracy: 0.2658 - 6s/epoch - 7ms/step\n",
      "874/874 - 6s - loss: 1.7214 - accuracy: 0.4183 - 6s/epoch - 7ms/step\n",
      "693/693 - 5s - loss: 2.0768 - accuracy: 0.3138 - 5s/epoch - 7ms/step\n"
     ]
    },
    {
     "name": "stderr",
     "output_type": "stream",
     "text": [
      "2023-11-20 16:16:43.244622: I tensorflow/core/framework/local_rendezvous.cc:421] Local rendezvous recv item cancelled. Key hash: 11784412950783328005\n"
     ]
    },
    {
     "name": "stdout",
     "output_type": "stream",
     "text": [
      "653/653 - 5s - loss: 2.1297 - accuracy: 0.3233 - 5s/epoch - 7ms/step\n",
      "767/767 - 5s - loss: 1.6325 - accuracy: 0.4318 - 5s/epoch - 7ms/step\n"
     ]
    },
    {
     "name": "stderr",
     "output_type": "stream",
     "text": [
      "2023-11-20 16:16:53.168046: I tensorflow/core/framework/local_rendezvous.cc:421] Local rendezvous recv item cancelled. Key hash: 11784412950783328005\n",
      "2023-11-20 16:16:53.168111: I tensorflow/core/framework/local_rendezvous.cc:421] Local rendezvous recv item cancelled. Key hash: 6553285949813060520\n"
     ]
    },
    {
     "name": "stdout",
     "output_type": "stream",
     "text": [
      "656/656 - 5s - loss: 1.3685 - accuracy: 0.5078 - 5s/epoch - 7ms/step\n"
     ]
    },
    {
     "name": "stderr",
     "output_type": "stream",
     "text": [
      "2023-11-20 16:16:57.760856: I tensorflow/core/framework/local_rendezvous.cc:421] Local rendezvous recv item cancelled. Key hash: 11784412950783328005\n"
     ]
    },
    {
     "name": "stdout",
     "output_type": "stream",
     "text": [
      "627/627 - 4s - loss: 1.9993 - accuracy: 0.3631 - 4s/epoch - 7ms/step\n",
      "656/656 - 5s - loss: 1.8186 - accuracy: 0.3989 - 5s/epoch - 7ms/step\n",
      "758/758 - 5s - loss: 1.5089 - accuracy: 0.5044 - 5s/epoch - 7ms/step\n"
     ]
    },
    {
     "name": "stderr",
     "output_type": "stream",
     "text": [
      "2023-11-20 16:17:12.312325: I tensorflow/core/framework/local_rendezvous.cc:421] Local rendezvous recv item cancelled. Key hash: 9812772548421412061\n",
      "2023-11-20 16:17:12.312413: I tensorflow/core/framework/local_rendezvous.cc:421] Local rendezvous recv item cancelled. Key hash: 11784412950783328005\n",
      "2023-11-20 16:17:12.312431: I tensorflow/core/framework/local_rendezvous.cc:421] Local rendezvous recv item cancelled. Key hash: 6553285949813060520\n"
     ]
    },
    {
     "name": "stdout",
     "output_type": "stream",
     "text": [
      "625/625 - 4s - loss: 1.7559 - accuracy: 0.4176 - 4s/epoch - 7ms/step\n"
     ]
    },
    {
     "name": "stderr",
     "output_type": "stream",
     "text": [
      "2023-11-20 16:17:16.754901: I tensorflow/core/framework/local_rendezvous.cc:421] Local rendezvous recv item cancelled. Key hash: 11784412950783328005\n"
     ]
    },
    {
     "name": "stdout",
     "output_type": "stream",
     "text": [
      "767/767 - 5s - loss: 1.8952 - accuracy: 0.3688 - 5s/epoch - 7ms/step\n"
     ]
    },
    {
     "name": "stderr",
     "output_type": "stream",
     "text": [
      "2023-11-20 16:17:22.172447: I tensorflow/core/framework/local_rendezvous.cc:421] Local rendezvous recv item cancelled. Key hash: 11784412950783328005\n"
     ]
    },
    {
     "name": "stdout",
     "output_type": "stream",
     "text": [
      "656/656 - 5s - loss: 1.5094 - accuracy: 0.4499 - 5s/epoch - 7ms/step\n"
     ]
    },
    {
     "name": "stderr",
     "output_type": "stream",
     "text": [
      "2023-11-20 16:17:26.725196: I tensorflow/core/framework/local_rendezvous.cc:421] Local rendezvous recv item cancelled. Key hash: 15000873355378366405\n",
      "2023-11-20 16:17:26.725263: I tensorflow/core/framework/local_rendezvous.cc:421] Local rendezvous recv item cancelled. Key hash: 14338186474982093409\n",
      "2023-11-20 16:17:26.725282: I tensorflow/core/framework/local_rendezvous.cc:421] Local rendezvous recv item cancelled. Key hash: 6825410248458351305\n",
      "2023-11-20 16:17:26.725298: I tensorflow/core/framework/local_rendezvous.cc:421] Local rendezvous recv item cancelled. Key hash: 9812772548421412061\n",
      "2023-11-20 16:17:26.725314: I tensorflow/core/framework/local_rendezvous.cc:421] Local rendezvous recv item cancelled. Key hash: 17981352305312871853\n",
      "2023-11-20 16:17:26.725328: I tensorflow/core/framework/local_rendezvous.cc:421] Local rendezvous recv item cancelled. Key hash: 11784412950783328005\n",
      "2023-11-20 16:17:26.725344: I tensorflow/core/framework/local_rendezvous.cc:421] Local rendezvous recv item cancelled. Key hash: 3782892865653787176\n",
      "2023-11-20 16:17:26.725359: I tensorflow/core/framework/local_rendezvous.cc:421] Local rendezvous recv item cancelled. Key hash: 6553285949813060520\n"
     ]
    },
    {
     "name": "stdout",
     "output_type": "stream",
     "text": [
      "264/264 - 2s - loss: 2.3824 - accuracy: 0.2294 - 2s/epoch - 8ms/step\n"
     ]
    },
    {
     "name": "stderr",
     "output_type": "stream",
     "text": [
      "2023-11-20 16:17:28.795700: I tensorflow/core/framework/local_rendezvous.cc:421] Local rendezvous recv item cancelled. Key hash: 6553285949813060520\n",
      "2023-11-20 16:17:28.795778: I tensorflow/core/framework/local_rendezvous.cc:421] Local rendezvous recv item cancelled. Key hash: 11784412950783328005\n"
     ]
    },
    {
     "name": "stdout",
     "output_type": "stream",
     "text": [
      "846/846 - 6s - loss: 1.8772 - accuracy: 0.3487 - 6s/epoch - 7ms/step\n"
     ]
    },
    {
     "name": "stderr",
     "output_type": "stream",
     "text": [
      "2023-11-20 16:17:34.643325: I tensorflow/core/framework/local_rendezvous.cc:421] Local rendezvous recv item cancelled. Key hash: 9812772548421412061\n",
      "2023-11-20 16:17:34.643408: I tensorflow/core/framework/local_rendezvous.cc:421] Local rendezvous recv item cancelled. Key hash: 11784412950783328005\n",
      "2023-11-20 16:17:34.643433: I tensorflow/core/framework/local_rendezvous.cc:421] Local rendezvous recv item cancelled. Key hash: 3782892865653787176\n",
      "2023-11-20 16:17:34.643449: I tensorflow/core/framework/local_rendezvous.cc:421] Local rendezvous recv item cancelled. Key hash: 6553285949813060520\n"
     ]
    },
    {
     "name": "stdout",
     "output_type": "stream",
     "text": [
      "309/309 - 2s - loss: 2.3383 - accuracy: 0.1499 - 2s/epoch - 8ms/step\n"
     ]
    },
    {
     "name": "stderr",
     "output_type": "stream",
     "text": [
      "2023-11-20 16:17:36.989001: I tensorflow/core/framework/local_rendezvous.cc:421] Local rendezvous recv item cancelled. Key hash: 15000873355378366405\n",
      "2023-11-20 16:17:36.989076: I tensorflow/core/framework/local_rendezvous.cc:421] Local rendezvous recv item cancelled. Key hash: 14338186474982093409\n",
      "2023-11-20 16:17:36.989094: I tensorflow/core/framework/local_rendezvous.cc:421] Local rendezvous recv item cancelled. Key hash: 6825410248458351305\n",
      "2023-11-20 16:17:36.989110: I tensorflow/core/framework/local_rendezvous.cc:421] Local rendezvous recv item cancelled. Key hash: 9812772548421412061\n",
      "2023-11-20 16:17:36.989124: I tensorflow/core/framework/local_rendezvous.cc:421] Local rendezvous recv item cancelled. Key hash: 17981352305312871853\n",
      "2023-11-20 16:17:36.989138: I tensorflow/core/framework/local_rendezvous.cc:421] Local rendezvous recv item cancelled. Key hash: 11784412950783328005\n",
      "2023-11-20 16:17:36.989154: I tensorflow/core/framework/local_rendezvous.cc:421] Local rendezvous recv item cancelled. Key hash: 3782892865653787176\n",
      "2023-11-20 16:17:36.989168: I tensorflow/core/framework/local_rendezvous.cc:421] Local rendezvous recv item cancelled. Key hash: 6553285949813060520\n"
     ]
    },
    {
     "name": "stdout",
     "output_type": "stream",
     "text": [
      "570/570 - 4s - loss: 2.1821 - accuracy: 0.2815 - 4s/epoch - 7ms/step\n"
     ]
    },
    {
     "name": "stderr",
     "output_type": "stream",
     "text": [
      "2023-11-20 16:17:41.043468: I tensorflow/core/framework/local_rendezvous.cc:421] Local rendezvous recv item cancelled. Key hash: 6553285949813060520\n",
      "2023-11-20 16:17:41.043544: I tensorflow/core/framework/local_rendezvous.cc:421] Local rendezvous recv item cancelled. Key hash: 11784412950783328005\n"
     ]
    },
    {
     "name": "stdout",
     "output_type": "stream",
     "text": [
      "570/570 - 4s - loss: 1.9545 - accuracy: 0.3593 - 4s/epoch - 7ms/step\n"
     ]
    },
    {
     "name": "stderr",
     "output_type": "stream",
     "text": [
      "2023-11-20 16:17:45.078421: I tensorflow/core/framework/local_rendezvous.cc:421] Local rendezvous recv item cancelled. Key hash: 11784412950783328005\n",
      "2023-11-20 16:17:45.078499: I tensorflow/core/framework/local_rendezvous.cc:421] Local rendezvous recv item cancelled. Key hash: 6553285949813060520\n"
     ]
    },
    {
     "name": "stdout",
     "output_type": "stream",
     "text": [
      "653/653 - 5s - loss: 2.2762 - accuracy: 0.3376 - 5s/epoch - 7ms/step\n"
     ]
    },
    {
     "name": "stderr",
     "output_type": "stream",
     "text": [
      "2023-11-20 16:17:49.624808: I tensorflow/core/framework/local_rendezvous.cc:421] Local rendezvous recv item cancelled. Key hash: 11784412950783328005\n",
      "2023-11-20 16:17:49.624905: I tensorflow/core/framework/local_rendezvous.cc:421] Local rendezvous recv item cancelled. Key hash: 6553285949813060520\n"
     ]
    },
    {
     "name": "stdout",
     "output_type": "stream",
     "text": [
      "550/550 - 4s - loss: 2.1166 - accuracy: 0.3103 - 4s/epoch - 7ms/step\n",
      "656/656 - 5s - loss: 1.8144 - accuracy: 0.3601 - 5s/epoch - 7ms/step\n"
     ]
    },
    {
     "name": "stderr",
     "output_type": "stream",
     "text": [
      "2023-11-20 16:17:58.402373: I tensorflow/core/framework/local_rendezvous.cc:421] Local rendezvous recv item cancelled. Key hash: 11784412950783328005\n"
     ]
    },
    {
     "name": "stdout",
     "output_type": "stream",
     "text": [
      "846/846 - 6s - loss: 1.5046 - accuracy: 0.4752 - 6s/epoch - 7ms/step\n",
      "336/336 - 2s - loss: 2.3001 - accuracy: 0.2312 - 2s/epoch - 7ms/step\n",
      "625/625 - 4s - loss: 1.5272 - accuracy: 0.4779 - 4s/epoch - 7ms/step\n"
     ]
    },
    {
     "name": "stderr",
     "output_type": "stream",
     "text": [
      "2023-11-20 16:18:11.405151: I tensorflow/core/framework/local_rendezvous.cc:421] Local rendezvous recv item cancelled. Key hash: 9812772548421412061\n",
      "2023-11-20 16:18:11.405229: I tensorflow/core/framework/local_rendezvous.cc:421] Local rendezvous recv item cancelled. Key hash: 11784412950783328005\n",
      "2023-11-20 16:18:11.405251: I tensorflow/core/framework/local_rendezvous.cc:421] Local rendezvous recv item cancelled. Key hash: 6553285949813060520\n"
     ]
    },
    {
     "name": "stdout",
     "output_type": "stream",
     "text": [
      "549/549 - 4s - loss: 2.2876 - accuracy: 0.2785 - 4s/epoch - 7ms/step\n",
      "602/602 - 4s - loss: 1.5701 - accuracy: 0.4596 - 4s/epoch - 7ms/step\n"
     ]
    },
    {
     "name": "stderr",
     "output_type": "stream",
     "text": [
      "2023-11-20 16:18:19.656865: I tensorflow/core/framework/local_rendezvous.cc:421] Local rendezvous recv item cancelled. Key hash: 11784412950783328005\n",
      "2023-11-20 16:18:19.656955: I tensorflow/core/framework/local_rendezvous.cc:421] Local rendezvous recv item cancelled. Key hash: 6553285949813060520\n"
     ]
    },
    {
     "name": "stdout",
     "output_type": "stream",
     "text": [
      "549/549 - 4s - loss: 1.7265 - accuracy: 0.4050 - 4s/epoch - 7ms/step\n"
     ]
    },
    {
     "name": "stderr",
     "output_type": "stream",
     "text": [
      "2023-11-20 16:18:23.537951: I tensorflow/core/framework/local_rendezvous.cc:421] Local rendezvous recv item cancelled. Key hash: 11784412950783328005\n"
     ]
    },
    {
     "name": "stdout",
     "output_type": "stream",
     "text": [
      "693/693 - 5s - loss: 1.5319 - accuracy: 0.4845 - 5s/epoch - 7ms/step\n",
      "846/846 - 6s - loss: 2.2594 - accuracy: 0.2552 - 6s/epoch - 7ms/step\n",
      "653/653 - 5s - loss: 2.1240 - accuracy: 0.3063 - 5s/epoch - 7ms/step\n",
      "837/837 - 6s - loss: 2.0910 - accuracy: 0.2995 - 6s/epoch - 7ms/step\n"
     ]
    },
    {
     "name": "stderr",
     "output_type": "stream",
     "text": [
      "2023-11-20 16:18:44.785571: I tensorflow/core/framework/local_rendezvous.cc:421] Local rendezvous recv item cancelled. Key hash: 11784412950783328005\n",
      "2023-11-20 16:18:44.785643: I tensorflow/core/framework/local_rendezvous.cc:421] Local rendezvous recv item cancelled. Key hash: 6553285949813060520\n"
     ]
    },
    {
     "name": "stdout",
     "output_type": "stream",
     "text": [
      "653/653 - 5s - loss: 2.4208 - accuracy: 0.2484 - 5s/epoch - 7ms/step\n"
     ]
    },
    {
     "name": "stderr",
     "output_type": "stream",
     "text": [
      "2023-11-20 16:18:49.419599: I tensorflow/core/framework/local_rendezvous.cc:421] Local rendezvous recv item cancelled. Key hash: 11784412950783328005\n"
     ]
    },
    {
     "name": "stdout",
     "output_type": "stream",
     "text": [
      "693/693 - 5s - loss: 1.6491 - accuracy: 0.4257 - 5s/epoch - 7ms/step\n"
     ]
    },
    {
     "name": "stderr",
     "output_type": "stream",
     "text": [
      "2023-11-20 16:18:54.282425: I tensorflow/core/framework/local_rendezvous.cc:421] Local rendezvous recv item cancelled. Key hash: 11784412950783328005\n"
     ]
    },
    {
     "name": "stdout",
     "output_type": "stream",
     "text": [
      "693/693 - 5s - loss: 2.1009 - accuracy: 0.3115 - 5s/epoch - 7ms/step\n",
      "693/693 - 5s - loss: 2.0568 - accuracy: 0.3252 - 5s/epoch - 7ms/step\n"
     ]
    },
    {
     "name": "stderr",
     "output_type": "stream",
     "text": [
      "2023-11-20 16:19:04.101688: I tensorflow/core/framework/local_rendezvous.cc:421] Local rendezvous recv item cancelled. Key hash: 6553285949813060520\n",
      "2023-11-20 16:19:04.101762: I tensorflow/core/framework/local_rendezvous.cc:421] Local rendezvous recv item cancelled. Key hash: 11784412950783328005\n"
     ]
    },
    {
     "name": "stdout",
     "output_type": "stream",
     "text": [
      "Model: \"model_8\"\n",
      "__________________________________________________________________________________________________\n",
      " Layer (type)                Output Shape                 Param #   Connected to                  \n",
      "==================================================================================================\n",
      " input_47 (InputLayer)       [(None, 320, 64)]            0         []                            \n",
      "                                                                                                  \n",
      " conv1d_56 (Conv1D)          (None, 320, 8)               520       ['input_47[0][0]']            \n",
      "                                                                                                  \n",
      " input_48 (InputLayer)       [(None, 320, 1)]             0         []                            \n",
      "                                                                                                  \n",
      " input_49 (InputLayer)       [(None, 320, 1)]             0         []                            \n",
      "                                                                                                  \n",
      " input_50 (InputLayer)       [(None, 320, 1)]             0         []                            \n",
      "                                                                                                  \n",
      " input_51 (InputLayer)       [(None, 320, 1)]             0         []                            \n",
      "                                                                                                  \n",
      " input_52 (InputLayer)       [(None, 320, 1)]             0         []                            \n",
      "                                                                                                  \n",
      " input_53 (InputLayer)       [(None, 320, 1)]             0         []                            \n",
      "                                                                                                  \n",
      " input_54 (InputLayer)       [(None, 320, 1)]             0         []                            \n",
      "                                                                                                  \n",
      " input_55 (InputLayer)       [(None, 320, 1)]             0         []                            \n",
      "                                                                                                  \n",
      " input_56 (InputLayer)       [(None, 320, 1)]             0         []                            \n",
      "                                                                                                  \n",
      " conv1d_57 (Conv1D)          (None, 318, 16)              400       ['conv1d_56[0][0]']           \n",
      "                                                                                                  \n",
      " conv1d_58 (Conv1D)          (None, 318, 16)              64        ['input_48[0][0]',            \n",
      "                                                                     'input_49[0][0]',            \n",
      "                                                                     'input_50[0][0]',            \n",
      "                                                                     'input_51[0][0]',            \n",
      "                                                                     'input_52[0][0]',            \n",
      "                                                                     'input_53[0][0]',            \n",
      "                                                                     'input_54[0][0]',            \n",
      "                                                                     'input_55[0][0]',            \n",
      "                                                                     'input_56[0][0]']            \n",
      "                                                                                                  \n",
      " conv1d_59 (Conv1D)          (None, 312, 16)              784       ['conv1d_57[0][0]']           \n",
      "                                                                                                  \n",
      " conv1d_60 (Conv1D)          (None, 312, 16)              784       ['conv1d_58[0][0]',           \n",
      "                                                                     'conv1d_58[1][0]',           \n",
      "                                                                     'conv1d_58[2][0]',           \n",
      "                                                                     'conv1d_58[3][0]',           \n",
      "                                                                     'conv1d_58[4][0]',           \n",
      "                                                                     'conv1d_58[5][0]',           \n",
      "                                                                     'conv1d_58[6][0]',           \n",
      "                                                                     'conv1d_58[7][0]',           \n",
      "                                                                     'conv1d_58[8][0]']           \n",
      "                                                                                                  \n",
      " conv1d_61 (Conv1D)          (None, 294, 16)              784       ['conv1d_59[0][0]']           \n",
      "                                                                                                  \n",
      " conv1d_62 (Conv1D)          (None, 294, 16)              784       ['conv1d_60[0][0]',           \n",
      "                                                                     'conv1d_60[1][0]',           \n",
      "                                                                     'conv1d_60[2][0]',           \n",
      "                                                                     'conv1d_60[3][0]',           \n",
      "                                                                     'conv1d_60[4][0]',           \n",
      "                                                                     'conv1d_60[5][0]',           \n",
      "                                                                     'conv1d_60[6][0]',           \n",
      "                                                                     'conv1d_60[7][0]',           \n",
      "                                                                     'conv1d_60[8][0]']           \n",
      "                                                                                                  \n",
      " dot_38 (Dot)                (None, 16, 16)               0         ['conv1d_61[0][0]',           \n",
      "                                                                     'conv1d_62[0][0]']           \n",
      "                                                                                                  \n",
      " dot_39 (Dot)                (None, 16, 16)               0         ['conv1d_61[0][0]',           \n",
      "                                                                     'conv1d_62[1][0]']           \n",
      "                                                                                                  \n",
      " dot_40 (Dot)                (None, 16, 16)               0         ['conv1d_61[0][0]',           \n",
      "                                                                     'conv1d_62[2][0]']           \n",
      "                                                                                                  \n",
      " dot_41 (Dot)                (None, 16, 16)               0         ['conv1d_61[0][0]',           \n",
      "                                                                     'conv1d_62[3][0]']           \n",
      "                                                                                                  \n",
      " dot_42 (Dot)                (None, 16, 16)               0         ['conv1d_61[0][0]',           \n",
      "                                                                     'conv1d_62[4][0]']           \n",
      "                                                                                                  \n",
      " dot_43 (Dot)                (None, 16, 16)               0         ['conv1d_61[0][0]',           \n",
      "                                                                     'conv1d_62[5][0]']           \n",
      "                                                                                                  \n",
      " dot_44 (Dot)                (None, 16, 16)               0         ['conv1d_61[0][0]',           \n",
      "                                                                     'conv1d_62[6][0]']           \n",
      "                                                                                                  \n",
      " dot_45 (Dot)                (None, 16, 16)               0         ['conv1d_61[0][0]',           \n"
     ]
    },
    {
     "name": "stdout",
     "output_type": "stream",
     "text": [
      "                                                                     'conv1d_62[7][0]']           \n",
      "                                                                                                  \n",
      " dot_46 (Dot)                (None, 16, 16)               0         ['conv1d_61[0][0]',           \n",
      "                                                                     'conv1d_62[8][0]']           \n",
      "                                                                                                  \n",
      " flatten_38 (Flatten)        (None, 256)                  0         ['dot_38[0][0]']              \n",
      "                                                                                                  \n",
      " flatten_39 (Flatten)        (None, 256)                  0         ['dot_39[0][0]']              \n",
      "                                                                                                  \n",
      " flatten_40 (Flatten)        (None, 256)                  0         ['dot_40[0][0]']              \n",
      "                                                                                                  \n",
      " flatten_41 (Flatten)        (None, 256)                  0         ['dot_41[0][0]']              \n",
      "                                                                                                  \n",
      " flatten_42 (Flatten)        (None, 256)                  0         ['dot_42[0][0]']              \n",
      "                                                                                                  \n",
      " flatten_43 (Flatten)        (None, 256)                  0         ['dot_43[0][0]']              \n",
      "                                                                                                  \n",
      " flatten_44 (Flatten)        (None, 256)                  0         ['dot_44[0][0]']              \n",
      "                                                                                                  \n",
      " flatten_45 (Flatten)        (None, 256)                  0         ['dot_45[0][0]']              \n",
      "                                                                                                  \n",
      " flatten_46 (Flatten)        (None, 256)                  0         ['dot_46[0][0]']              \n",
      "                                                                                                  \n",
      " dense_8 (Dense)             (None, 1)                    257       ['flatten_38[0][0]',          \n",
      "                                                                     'flatten_39[0][0]',          \n",
      "                                                                     'flatten_40[0][0]',          \n",
      "                                                                     'flatten_41[0][0]',          \n",
      "                                                                     'flatten_42[0][0]',          \n",
      "                                                                     'flatten_43[0][0]',          \n",
      "                                                                     'flatten_44[0][0]',          \n",
      "                                                                     'flatten_45[0][0]',          \n",
      "                                                                     'flatten_46[0][0]']          \n",
      "                                                                                                  \n",
      " concatenate_8 (Concatenate  (None, 9)                    0         ['dense_8[0][0]',             \n",
      " )                                                                   'dense_8[1][0]',             \n",
      "                                                                     'dense_8[2][0]',             \n",
      "                                                                     'dense_8[3][0]',             \n",
      "                                                                     'dense_8[4][0]',             \n",
      "                                                                     'dense_8[5][0]',             \n",
      "                                                                     'dense_8[6][0]',             \n",
      "                                                                     'dense_8[7][0]',             \n",
      "                                                                     'dense_8[8][0]']             \n",
      "                                                                                                  \n",
      " tf.nn.softmax_8 (TFOpLambd  (None, 9)                    0         ['concatenate_8[0][0]']       \n",
      " a)                                                                                               \n",
      "                                                                                                  \n",
      "==================================================================================================\n",
      "Total params: 4377 (17.10 KB)\n",
      "Trainable params: 4377 (17.10 KB)\n",
      "Non-trainable params: 0 (0.00 Byte)\n",
      "__________________________________________________________________________________________________\n",
      "None\n",
      "826/826 - 8s - loss: 1.6518 - accuracy: 0.4231 - 8s/epoch - 9ms/step\n",
      "558/558 - 4s - loss: 1.2199 - accuracy: 0.5691 - 4s/epoch - 7ms/step\n",
      "613/613 - 5s - loss: 1.6346 - accuracy: 0.4339 - 5s/epoch - 7ms/step\n",
      "536/536 - 4s - loss: 1.3938 - accuracy: 0.4971 - 4s/epoch - 8ms/step\n"
     ]
    },
    {
     "name": "stderr",
     "output_type": "stream",
     "text": [
      "2023-11-20 16:19:36.561833: I tensorflow/core/framework/local_rendezvous.cc:421] Local rendezvous recv item cancelled. Key hash: 9812772548421412061\n"
     ]
    },
    {
     "name": "stdout",
     "output_type": "stream",
     "text": [
      "613/613 - 4s - loss: 1.6520 - accuracy: 0.4327 - 4s/epoch - 7ms/step\n",
      "826/826 - 6s - loss: 1.5110 - accuracy: 0.4650 - 6s/epoch - 7ms/step\n",
      "826/826 - 6s - loss: 1.2831 - accuracy: 0.5370 - 6s/epoch - 7ms/step\n"
     ]
    },
    {
     "name": "stderr",
     "output_type": "stream",
     "text": [
      "2023-11-20 16:19:52.641272: I tensorflow/core/framework/local_rendezvous.cc:421] Local rendezvous recv item cancelled. Key hash: 9812772548421412061\n"
     ]
    },
    {
     "name": "stdout",
     "output_type": "stream",
     "text": [
      "549/549 - 4s - loss: 1.1349 - accuracy: 0.6187 - 4s/epoch - 7ms/step\n"
     ]
    },
    {
     "name": "stderr",
     "output_type": "stream",
     "text": [
      "2023-11-20 16:19:56.617363: I tensorflow/core/framework/local_rendezvous.cc:421] Local rendezvous recv item cancelled. Key hash: 9812772548421412061\n"
     ]
    },
    {
     "name": "stdout",
     "output_type": "stream",
     "text": [
      "826/826 - 6s - loss: 1.1450 - accuracy: 0.5908 - 6s/epoch - 7ms/step\n",
      "613/613 - 4s - loss: 0.9939 - accuracy: 0.6583 - 4s/epoch - 7ms/step\n",
      "536/536 - 4s - loss: 1.4624 - accuracy: 0.4637 - 4s/epoch - 7ms/step\n",
      "826/826 - 6s - loss: 1.6765 - accuracy: 0.4240 - 6s/epoch - 7ms/step\n",
      "535/535 - 4s - loss: 1.9038 - accuracy: 0.3358 - 4s/epoch - 7ms/step\n"
     ]
    },
    {
     "name": "stderr",
     "output_type": "stream",
     "text": [
      "2023-11-20 16:20:20.353266: I tensorflow/core/framework/local_rendezvous.cc:421] Local rendezvous recv item cancelled. Key hash: 9812772548421412061\n"
     ]
    },
    {
     "name": "stdout",
     "output_type": "stream",
     "text": [
      "611/611 - 4s - loss: 1.7668 - accuracy: 0.3510 - 4s/epoch - 7ms/step\n"
     ]
    },
    {
     "name": "stderr",
     "output_type": "stream",
     "text": [
      "2023-11-20 16:20:24.709461: I tensorflow/core/framework/local_rendezvous.cc:421] Local rendezvous recv item cancelled. Key hash: 9812772548421412061\n",
      "2023-11-20 16:20:24.709563: I tensorflow/core/framework/local_rendezvous.cc:421] Local rendezvous recv item cancelled. Key hash: 6553285949813060520\n",
      "2023-11-20 16:20:24.709580: I tensorflow/core/framework/local_rendezvous.cc:421] Local rendezvous recv item cancelled. Key hash: 8954476601624931724\n"
     ]
    },
    {
     "name": "stdout",
     "output_type": "stream",
     "text": [
      "815/815 - 6s - loss: 1.4834 - accuracy: 0.4793 - 6s/epoch - 7ms/step\n",
      "639/639 - 5s - loss: 2.0066 - accuracy: 0.2320 - 5s/epoch - 7ms/step\n",
      "639/639 - 5s - loss: 1.8361 - accuracy: 0.3594 - 5s/epoch - 7ms/step\n",
      "826/826 - 6s - loss: 1.1845 - accuracy: 0.5946 - 6s/epoch - 7ms/step\n",
      "826/826 - 6s - loss: 1.5184 - accuracy: 0.4645 - 6s/epoch - 7ms/step\n",
      "549/549 - 4s - loss: 1.7564 - accuracy: 0.3750 - 4s/epoch - 7ms/step\n",
      "549/549 - 4s - loss: 1.2302 - accuracy: 0.5533 - 4s/epoch - 7ms/step\n",
      "535/535 - 4s - loss: 1.3225 - accuracy: 0.5595 - 4s/epoch - 7ms/step\n"
     ]
    },
    {
     "name": "stderr",
     "output_type": "stream",
     "text": [
      "2023-11-20 16:21:04.052674: I tensorflow/core/framework/local_rendezvous.cc:421] Local rendezvous recv item cancelled. Key hash: 9812772548421412061\n",
      "2023-11-20 16:21:04.052756: I tensorflow/core/framework/local_rendezvous.cc:421] Local rendezvous recv item cancelled. Key hash: 8954476601624931724\n"
     ]
    },
    {
     "name": "stdout",
     "output_type": "stream",
     "text": [
      "298/298 - 2s - loss: 2.1975 - accuracy: 0.2580 - 2s/epoch - 8ms/step\n"
     ]
    },
    {
     "name": "stderr",
     "output_type": "stream",
     "text": [
      "2023-11-20 16:21:06.446453: I tensorflow/core/framework/local_rendezvous.cc:421] Local rendezvous recv item cancelled. Key hash: 9812772548421412061\n",
      "2023-11-20 16:21:06.446538: I tensorflow/core/framework/local_rendezvous.cc:421] Local rendezvous recv item cancelled. Key hash: 6553285949813060520\n",
      "2023-11-20 16:21:06.446556: I tensorflow/core/framework/local_rendezvous.cc:421] Local rendezvous recv item cancelled. Key hash: 8954476601624931724\n"
     ]
    },
    {
     "name": "stdout",
     "output_type": "stream",
     "text": [
      "639/639 - 5s - loss: 1.3215 - accuracy: 0.5239 - 5s/epoch - 7ms/step\n",
      "632/632 - 5s - loss: 0.8442 - accuracy: 0.6944 - 5s/epoch - 7ms/step\n",
      "558/558 - 4s - loss: 1.7753 - accuracy: 0.3769 - 4s/epoch - 7ms/step\n"
     ]
    },
    {
     "name": "stderr",
     "output_type": "stream",
     "text": [
      "2023-11-20 16:21:19.631362: I tensorflow/core/framework/local_rendezvous.cc:421] Local rendezvous recv item cancelled. Key hash: 9812772548421412061\n",
      "2023-11-20 16:21:19.631449: I tensorflow/core/framework/local_rendezvous.cc:421] Local rendezvous recv item cancelled. Key hash: 6553285949813060520\n",
      "2023-11-20 16:21:19.631466: I tensorflow/core/framework/local_rendezvous.cc:421] Local rendezvous recv item cancelled. Key hash: 8954476601624931724\n"
     ]
    },
    {
     "name": "stdout",
     "output_type": "stream",
     "text": [
      "549/549 - 4s - loss: 1.1611 - accuracy: 0.5885 - 4s/epoch - 7ms/step\n",
      "535/535 - 4s - loss: 2.0053 - accuracy: 0.2933 - 4s/epoch - 8ms/step\n",
      "611/611 - 4s - loss: 1.2653 - accuracy: 0.5394 - 4s/epoch - 7ms/step\n",
      "660/660 - 5s - loss: 1.1331 - accuracy: 0.6081 - 5s/epoch - 7ms/step\n",
      "826/826 - 6s - loss: 1.0209 - accuracy: 0.6439 - 6s/epoch - 7ms/step\n"
     ]
    },
    {
     "name": "stderr",
     "output_type": "stream",
     "text": [
      "2023-11-20 16:21:42.841925: I tensorflow/core/framework/local_rendezvous.cc:421] Local rendezvous recv item cancelled. Key hash: 9812772548421412061\n"
     ]
    },
    {
     "name": "stdout",
     "output_type": "stream",
     "text": [
      "613/613 - 4s - loss: 1.3869 - accuracy: 0.5017 - 4s/epoch - 7ms/step\n",
      "826/826 - 6s - loss: 1.5257 - accuracy: 0.4650 - 6s/epoch - 7ms/step\n",
      "319/319 - 2s - loss: 1.5636 - accuracy: 0.4500 - 2s/epoch - 8ms/step\n",
      "536/536 - 4s - loss: 0.5553 - accuracy: 0.7998 - 4s/epoch - 8ms/step\n",
      "535/535 - 4s - loss: 1.6937 - accuracy: 0.3817 - 4s/epoch - 7ms/step\n",
      "826/826 - 6s - loss: 1.5685 - accuracy: 0.4634 - 6s/epoch - 7ms/step\n",
      "613/613 - 4s - loss: 1.5003 - accuracy: 0.4695 - 4s/epoch - 7ms/step\n"
     ]
    },
    {
     "name": "stderr",
     "output_type": "stream",
     "text": [
      "2023-11-20 16:22:13.898979: I tensorflow/core/framework/local_rendezvous.cc:421] Local rendezvous recv item cancelled. Key hash: 9812772548421412061\n"
     ]
    },
    {
     "name": "stdout",
     "output_type": "stream",
     "text": [
      "815/815 - 6s - loss: 1.6613 - accuracy: 0.4078 - 6s/epoch - 7ms/step\n"
     ]
    },
    {
     "name": "stderr",
     "output_type": "stream",
     "text": [
      "2023-11-20 16:22:19.661252: I tensorflow/core/framework/local_rendezvous.cc:421] Local rendezvous recv item cancelled. Key hash: 9812772548421412061\n"
     ]
    },
    {
     "name": "stdout",
     "output_type": "stream",
     "text": [
      "558/558 - 4s - loss: 1.0816 - accuracy: 0.6304 - 4s/epoch - 7ms/step\n",
      "477/477 - 3s - loss: 1.3629 - accuracy: 0.5150 - 3s/epoch - 7ms/step\n"
     ]
    },
    {
     "name": "stderr",
     "output_type": "stream",
     "text": [
      "2023-11-20 16:22:27.249007: I tensorflow/core/framework/local_rendezvous.cc:421] Local rendezvous recv item cancelled. Key hash: 9812772548421412061\n"
     ]
    },
    {
     "name": "stdout",
     "output_type": "stream",
     "text": [
      "549/549 - 4s - loss: 0.8910 - accuracy: 0.6974 - 4s/epoch - 7ms/step\n"
     ]
    },
    {
     "name": "stderr",
     "output_type": "stream",
     "text": [
      "2023-11-20 16:22:31.149628: I tensorflow/core/framework/local_rendezvous.cc:421] Local rendezvous recv item cancelled. Key hash: 9812772548421412061\n",
      "2023-11-20 16:22:31.149731: I tensorflow/core/framework/local_rendezvous.cc:421] Local rendezvous recv item cancelled. Key hash: 6553285949813060520\n",
      "2023-11-20 16:22:31.149747: I tensorflow/core/framework/local_rendezvous.cc:421] Local rendezvous recv item cancelled. Key hash: 8954476601624931724\n"
     ]
    },
    {
     "name": "stdout",
     "output_type": "stream",
     "text": [
      "558/558 - 4s - loss: 1.2035 - accuracy: 0.5771 - 4s/epoch - 7ms/step\n",
      "528/528 - 4s - loss: 1.9406 - accuracy: 0.2940 - 4s/epoch - 7ms/step\n"
     ]
    },
    {
     "name": "stderr",
     "output_type": "stream",
     "text": [
      "2023-11-20 16:22:39.013619: I tensorflow/core/framework/local_rendezvous.cc:421] Local rendezvous recv item cancelled. Key hash: 9812772548421412061\n",
      "2023-11-20 16:22:39.013702: I tensorflow/core/framework/local_rendezvous.cc:421] Local rendezvous recv item cancelled. Key hash: 6553285949813060520\n",
      "2023-11-20 16:22:39.013719: I tensorflow/core/framework/local_rendezvous.cc:421] Local rendezvous recv item cancelled. Key hash: 8954476601624931724\n"
     ]
    },
    {
     "name": "stdout",
     "output_type": "stream",
     "text": [
      "826/826 - 6s - loss: 1.0365 - accuracy: 0.6324 - 6s/epoch - 7ms/step\n",
      "815/815 - 6s - loss: 1.9566 - accuracy: 0.2972 - 6s/epoch - 7ms/step\n",
      "549/549 - 4s - loss: 1.7751 - accuracy: 0.3886 - 4s/epoch - 7ms/step\n",
      "639/639 - 5s - loss: 1.6982 - accuracy: 0.3893 - 5s/epoch - 7ms/step\n"
     ]
    },
    {
     "name": "stderr",
     "output_type": "stream",
     "text": [
      "2023-11-20 16:22:59.048557: I tensorflow/core/framework/local_rendezvous.cc:421] Local rendezvous recv item cancelled. Key hash: 9812772548421412061\n"
     ]
    },
    {
     "name": "stdout",
     "output_type": "stream",
     "text": [
      "535/535 - 4s - loss: 1.7957 - accuracy: 0.3302 - 4s/epoch - 7ms/step\n"
     ]
    },
    {
     "name": "stderr",
     "output_type": "stream",
     "text": [
      "2023-11-20 16:23:02.893625: I tensorflow/core/framework/local_rendezvous.cc:421] Local rendezvous recv item cancelled. Key hash: 8954476601624931724\n",
      "2023-11-20 16:23:02.893706: I tensorflow/core/framework/local_rendezvous.cc:421] Local rendezvous recv item cancelled. Key hash: 9812772548421412061\n"
     ]
    },
    {
     "name": "stdout",
     "output_type": "stream",
     "text": [
      "611/611 - 4s - loss: 1.1555 - accuracy: 0.5748 - 4s/epoch - 7ms/step\n",
      "639/639 - 5s - loss: 1.7971 - accuracy: 0.3705 - 5s/epoch - 7ms/step\n",
      "826/826 - 6s - loss: 1.8753 - accuracy: 0.3644 - 6s/epoch - 7ms/step\n",
      "852/852 - 6s - loss: 1.3216 - accuracy: 0.5355 - 6s/epoch - 7ms/step\n"
     ]
    },
    {
     "name": "stderr",
     "output_type": "stream",
     "text": [
      "2023-11-20 16:23:23.686057: I tensorflow/core/framework/local_rendezvous.cc:421] Local rendezvous recv item cancelled. Key hash: 9812772548421412061\n",
      "2023-11-20 16:23:23.686135: I tensorflow/core/framework/local_rendezvous.cc:421] Local rendezvous recv item cancelled. Key hash: 8954476601624931724\n"
     ]
    },
    {
     "name": "stdout",
     "output_type": "stream",
     "text": [
      "677/677 - 5s - loss: 1.6417 - accuracy: 0.4252 - 5s/epoch - 7ms/step\n"
     ]
    },
    {
     "name": "stderr",
     "output_type": "stream",
     "text": [
      "2023-11-20 16:23:28.498873: I tensorflow/core/framework/local_rendezvous.cc:421] Local rendezvous recv item cancelled. Key hash: 9812772548421412061\n"
     ]
    },
    {
     "name": "stdout",
     "output_type": "stream",
     "text": [
      "639/639 - 5s - loss: 1.7233 - accuracy: 0.3949 - 5s/epoch - 7ms/step\n"
     ]
    },
    {
     "name": "stderr",
     "output_type": "stream",
     "text": [
      "2023-11-20 16:23:33.015669: I tensorflow/core/framework/local_rendezvous.cc:421] Local rendezvous recv item cancelled. Key hash: 9812772548421412061\n"
     ]
    },
    {
     "name": "stdout",
     "output_type": "stream",
     "text": [
      "749/749 - 5s - loss: 1.2318 - accuracy: 0.5649 - 5s/epoch - 7ms/step\n"
     ]
    },
    {
     "name": "stderr",
     "output_type": "stream",
     "text": [
      "2023-11-20 16:23:38.275094: I tensorflow/core/framework/local_rendezvous.cc:421] Local rendezvous recv item cancelled. Key hash: 9812772548421412061\n",
      "2023-11-20 16:23:38.275187: I tensorflow/core/framework/local_rendezvous.cc:421] Local rendezvous recv item cancelled. Key hash: 17220207207416776229\n",
      "2023-11-20 16:23:38.275209: I tensorflow/core/framework/local_rendezvous.cc:421] Local rendezvous recv item cancelled. Key hash: 6553285949813060520\n",
      "2023-11-20 16:23:38.275225: I tensorflow/core/framework/local_rendezvous.cc:421] Local rendezvous recv item cancelled. Key hash: 8954476601624931724\n"
     ]
    },
    {
     "name": "stdout",
     "output_type": "stream",
     "text": [
      "632/632 - 5s - loss: 1.0288 - accuracy: 0.6549 - 5s/epoch - 7ms/step\n",
      "613/613 - 4s - loss: 1.5190 - accuracy: 0.4792 - 4s/epoch - 7ms/step\n",
      "632/632 - 5s - loss: 1.3722 - accuracy: 0.5137 - 5s/epoch - 7ms/step\n"
     ]
    },
    {
     "name": "stderr",
     "output_type": "stream",
     "text": [
      "2023-11-20 16:23:51.747948: I tensorflow/core/framework/local_rendezvous.cc:421] Local rendezvous recv item cancelled. Key hash: 9812772548421412061\n"
     ]
    },
    {
     "name": "stdout",
     "output_type": "stream",
     "text": [
      "740/740 - 5s - loss: 1.1192 - accuracy: 0.6096 - 5s/epoch - 7ms/step\n",
      "611/611 - 4s - loss: 1.3983 - accuracy: 0.4972 - 4s/epoch - 7ms/step\n",
      "749/749 - 5s - loss: 1.4861 - accuracy: 0.4670 - 5s/epoch - 7ms/step\n",
      "632/632 - 5s - loss: 1.1252 - accuracy: 0.5888 - 5s/epoch - 7ms/step\n"
     ]
    },
    {
     "name": "stderr",
     "output_type": "stream",
     "text": [
      "2023-11-20 16:24:11.303693: I tensorflow/core/framework/local_rendezvous.cc:421] Local rendezvous recv item cancelled. Key hash: 9812772548421412061\n"
     ]
    },
    {
     "name": "stdout",
     "output_type": "stream",
     "text": [
      "258/258 - 2s - loss: 1.9648 - accuracy: 0.2812 - 2s/epoch - 8ms/step\n",
      "826/826 - 6s - loss: 1.4934 - accuracy: 0.4891 - 6s/epoch - 7ms/step\n"
     ]
    },
    {
     "name": "stderr",
     "output_type": "stream",
     "text": [
      "2023-11-20 16:24:19.081284: I tensorflow/core/framework/local_rendezvous.cc:421] Local rendezvous recv item cancelled. Key hash: 9812772548421412061\n"
     ]
    },
    {
     "name": "stdout",
     "output_type": "stream",
     "text": [
      "303/303 - 2s - loss: 2.2109 - accuracy: 0.1929 - 2s/epoch - 8ms/step\n"
     ]
    },
    {
     "name": "stderr",
     "output_type": "stream",
     "text": [
      "2023-11-20 16:24:21.419728: I tensorflow/core/framework/local_rendezvous.cc:421] Local rendezvous recv item cancelled. Key hash: 9812772548421412061\n"
     ]
    },
    {
     "name": "stdout",
     "output_type": "stream",
     "text": [
      "558/558 - 4s - loss: 1.7834 - accuracy: 0.3831 - 4s/epoch - 7ms/step\n"
     ]
    },
    {
     "name": "stderr",
     "output_type": "stream",
     "text": [
      "2023-11-20 16:24:25.555304: I tensorflow/core/framework/local_rendezvous.cc:421] Local rendezvous recv item cancelled. Key hash: 9812772548421412061\n",
      "2023-11-20 16:24:25.555390: I tensorflow/core/framework/local_rendezvous.cc:421] Local rendezvous recv item cancelled. Key hash: 6553285949813060520\n",
      "2023-11-20 16:24:25.555406: I tensorflow/core/framework/local_rendezvous.cc:421] Local rendezvous recv item cancelled. Key hash: 8954476601624931724\n"
     ]
    },
    {
     "name": "stdout",
     "output_type": "stream",
     "text": [
      "558/558 - 4s - loss: 1.6119 - accuracy: 0.4327 - 4s/epoch - 7ms/step\n"
     ]
    },
    {
     "name": "stderr",
     "output_type": "stream",
     "text": [
      "2023-11-20 16:24:29.725770: I tensorflow/core/framework/local_rendezvous.cc:421] Local rendezvous recv item cancelled. Key hash: 9812772548421412061\n"
     ]
    },
    {
     "name": "stdout",
     "output_type": "stream",
     "text": [
      "639/639 - 5s - loss: 1.7668 - accuracy: 0.4051 - 5s/epoch - 7ms/step\n"
     ]
    },
    {
     "name": "stderr",
     "output_type": "stream",
     "text": [
      "2023-11-20 16:24:34.279710: I tensorflow/core/framework/local_rendezvous.cc:421] Local rendezvous recv item cancelled. Key hash: 9812772548421412061\n"
     ]
    },
    {
     "name": "stdout",
     "output_type": "stream",
     "text": [
      "536/536 - 4s - loss: 1.6531 - accuracy: 0.4067 - 4s/epoch - 7ms/step\n"
     ]
    },
    {
     "name": "stderr",
     "output_type": "stream",
     "text": [
      "2023-11-20 16:24:38.202962: I tensorflow/core/framework/local_rendezvous.cc:421] Local rendezvous recv item cancelled. Key hash: 9812772548421412061\n"
     ]
    },
    {
     "name": "stdout",
     "output_type": "stream",
     "text": [
      "632/632 - 5s - loss: 1.4713 - accuracy: 0.4650 - 5s/epoch - 7ms/step\n"
     ]
    },
    {
     "name": "stderr",
     "output_type": "stream",
     "text": [
      "2023-11-20 16:24:42.730276: I tensorflow/core/framework/local_rendezvous.cc:421] Local rendezvous recv item cancelled. Key hash: 9812772548421412061\n",
      "2023-11-20 16:24:42.730354: I tensorflow/core/framework/local_rendezvous.cc:421] Local rendezvous recv item cancelled. Key hash: 17220207207416776229\n",
      "2023-11-20 16:24:42.730372: I tensorflow/core/framework/local_rendezvous.cc:421] Local rendezvous recv item cancelled. Key hash: 11784412950783328005\n",
      "2023-11-20 16:24:42.730391: I tensorflow/core/framework/local_rendezvous.cc:421] Local rendezvous recv item cancelled. Key hash: 6553285949813060520\n",
      "2023-11-20 16:24:42.730407: I tensorflow/core/framework/local_rendezvous.cc:421] Local rendezvous recv item cancelled. Key hash: 8954476601624931724\n"
     ]
    },
    {
     "name": "stdout",
     "output_type": "stream",
     "text": [
      "826/826 - 6s - loss: 1.0945 - accuracy: 0.6106 - 6s/epoch - 7ms/step\n"
     ]
    },
    {
     "name": "stderr",
     "output_type": "stream",
     "text": [
      "2023-11-20 16:24:48.546675: I tensorflow/core/framework/local_rendezvous.cc:421] Local rendezvous recv item cancelled. Key hash: 9812772548421412061\n"
     ]
    },
    {
     "name": "stdout",
     "output_type": "stream",
     "text": [
      "328/328 - 3s - loss: 1.9019 - accuracy: 0.3228 - 3s/epoch - 8ms/step\n",
      "611/611 - 4s - loss: 1.1995 - accuracy: 0.6068 - 4s/epoch - 7ms/step\n",
      "535/535 - 4s - loss: 1.7921 - accuracy: 0.3661 - 4s/epoch - 7ms/step\n",
      "588/588 - 4s - loss: 1.1792 - accuracy: 0.5624 - 4s/epoch - 7ms/step\n",
      "535/535 - 4s - loss: 1.3176 - accuracy: 0.5194 - 4s/epoch - 7ms/step\n",
      "677/677 - 5s - loss: 1.0854 - accuracy: 0.6169 - 5s/epoch - 7ms/step\n",
      "826/826 - 6s - loss: 2.0271 - accuracy: 0.2688 - 6s/epoch - 7ms/step\n",
      "639/639 - 4s - loss: 1.6826 - accuracy: 0.4038 - 4s/epoch - 7ms/step\n",
      "815/815 - 6s - loss: 1.7559 - accuracy: 0.3674 - 6s/epoch - 7ms/step\n",
      "639/639 - 4s - loss: 2.0151 - accuracy: 0.2893 - 4s/epoch - 7ms/step\n"
     ]
    },
    {
     "name": "stderr",
     "output_type": "stream",
     "text": [
      "2023-11-20 16:25:32.759153: I tensorflow/core/framework/local_rendezvous.cc:421] Local rendezvous recv item cancelled. Key hash: 9812772548421412061\n"
     ]
    },
    {
     "name": "stdout",
     "output_type": "stream",
     "text": [
      "677/677 - 5s - loss: 1.1950 - accuracy: 0.5894 - 5s/epoch - 7ms/step\n"
     ]
    },
    {
     "name": "stderr",
     "output_type": "stream",
     "text": [
      "2023-11-20 16:25:37.564911: I tensorflow/core/framework/local_rendezvous.cc:421] Local rendezvous recv item cancelled. Key hash: 9812772548421412061\n",
      "2023-11-20 16:25:37.565032: I tensorflow/core/framework/local_rendezvous.cc:421] Local rendezvous recv item cancelled. Key hash: 8954476601624931724\n"
     ]
    },
    {
     "name": "stdout",
     "output_type": "stream",
     "text": [
      "677/677 - 5s - loss: 1.7056 - accuracy: 0.3811 - 5s/epoch - 7ms/step\n",
      "677/677 - 5s - loss: 1.5893 - accuracy: 0.4385 - 5s/epoch - 7ms/step\n"
     ]
    }
   ],
   "source": [
    "\"\"\"Example experiment for the 2 mismatched segments dilation model.\"\"\"\n",
    "import glob\n",
    "import json\n",
    "import logging\n",
    "import os, sys\n",
    "import tensorflow as tf\n",
    "\n",
    "import sys\n",
    "# add base path to sys\n",
    "#sys.path.append(os.path.join(os.path.dirname(__file__), '..', '..'))\n",
    "#from util.dataset_generator import DataGenerator, batch_equalizer_fn, create_tf_dataset\n",
    "\n",
    "\n",
    "def evaluate_model(model, test_dict):\n",
    "    \"\"\"Evaluate a model.\n",
    "\n",
    "    Parameters\n",
    "    ----------\n",
    "    model: tf.keras.Model\n",
    "        Model to evaluate.\n",
    "    test_dict: dict\n",
    "        Mapping between a subject and a tf.data.Dataset containing the test\n",
    "        set for the subject.\n",
    "\n",
    "    Returns\n",
    "    -------\n",
    "    dict\n",
    "        Mapping between a subject and the loss/evaluation score on the test set\n",
    "    \"\"\"\n",
    "    evaluation = {}\n",
    "    for subject, ds_test in test_dict.items():\n",
    "        logging.info(f\"Scores for subject {subject}:\")\n",
    "        results = model.evaluate(ds_test, verbose=2)\n",
    "        metrics = model.metrics_names\n",
    "        evaluation[subject] = dict(zip(metrics, results))\n",
    "    return evaluation\n",
    "\n",
    "\n",
    "if __name__ == \"__main__\":\n",
    "    # Parameters\n",
    "    # Length of the decision window\n",
    "    window_length_s = 5\n",
    "    fs = 64\n",
    "\n",
    "    window_length = window_length_s * fs  # 5 seconds\n",
    "    # Hop length between two consecutive decision windows\n",
    "    hop_length = 64\n",
    "\n",
    "    epochs = 100\n",
    "    patience = 5\n",
    "    batch_size = 64\n",
    "    only_evaluate = False\n",
    "    number_mismatch = 4 # or 4\n",
    "\n",
    "\n",
    "\n",
    "    training_log_filename = \"training_log_{}_{}.csv\".format(number_mismatch, window_length_s)\n",
    "\n",
    "\n",
    "\n",
    "    # Get the path to the config gile\n",
    "    #experiments_folder = os.path.dirname(__file__)\n",
    "    #task_folder = os.path.dirname(experiments_folder)\n",
    "    #util_folder = os.path.join(os.path.dirname(task_folder), \"util\")\n",
    "    #config_path = os.path.join(util_folder, 'config.json')\n",
    "\n",
    "    # Load the config\n",
    "    #with open(config_path) as fp:\n",
    "    #    config = json.load(fp)\n",
    "\n",
    "    # Provide the path of the dataset\n",
    "    # which is split already to train, val, test\n",
    "    #data_folder = os.path.join(config[\"dataset_folder\"], config['derivatives_folder'], config[\"split_folder\"])\n",
    "    data_folder = \"split_data\"\n",
    "    experiments_folder = \"experiment2\"\n",
    "    \n",
    "\n",
    "    # stimulus feature which will be used for training the model. Can be either 'envelope' ( dimension 1) or 'mel' (dimension 28)\n",
    "    stimulus_features = [\"envelope\"]\n",
    "    stimulus_dimension = 1\n",
    "\n",
    "    # uncomment if you want to train with the mel spectrogram stimulus representation\n",
    "    # stimulus_features = [\"mel\"]\n",
    "    # stimulus_dimension = 10\n",
    "\n",
    "    features = [\"eeg\"] + stimulus_features\n",
    "\n",
    "    # Create a directory to store (intermediate) results\n",
    "    results_folder = os.path.join(experiments_folder, \"results_dilated_convolutional_model_{}_MM_{}_s_{}\".format(number_mismatch, window_length_s, stimulus_features[0]))\n",
    "    os.makedirs(results_folder, exist_ok=True)\n",
    "\n",
    "    # create dilation model\n",
    "    model = dilation_model(time_window=window_length, eeg_input_dimension=64, env_input_dimension=stimulus_dimension, num_mismatched_segments = number_mismatch)\n",
    "\n",
    "    model_path = os.path.join(results_folder, \"model_{}_MM_{}_s_{}.h5\".format(number_mismatch, window_length_s, stimulus_features[0]))\n",
    "\n",
    "    if only_evaluate:\n",
    "        model = tf.keras.models.load_model(model_path)\n",
    "\n",
    "    else:\n",
    "\n",
    "        train_files = [x for x in glob.glob(os.path.join(data_folder, \"train_-_*\")) if os.path.basename(x).split(\"_-_\")[-1].split(\".\")[0] in features]\n",
    "        # Create list of numpy array files\n",
    "        train_generator = DataGenerator(train_files, window_length)\n",
    "        import pdb\n",
    "        dataset_train = create_tf_dataset(train_generator, window_length, batch_equalizer_fn,\n",
    "                                          hop_length, batch_size,\n",
    "                                          number_mismatch=number_mismatch,\n",
    "                                          data_types=(tf.float32, tf.float32),\n",
    "                                          feature_dims=(64, stimulus_dimension))\n",
    "\n",
    "        # Create the generator for the validation set\n",
    "        val_files = [x for x in glob.glob(os.path.join(data_folder, \"val_-_*\")) if os.path.basename(x).split(\"_-_\")[-1].split(\".\")[0] in features]\n",
    "        val_generator = DataGenerator(val_files, window_length)\n",
    "        dataset_val = create_tf_dataset(val_generator,  window_length, batch_equalizer_fn,\n",
    "                                          hop_length, batch_size,\n",
    "                                          number_mismatch=number_mismatch,\n",
    "                                          data_types=(tf.float32, tf.float32),\n",
    "                                          feature_dims=(64, stimulus_dimension))\n",
    "\n",
    "\n",
    "        # Train the model\n",
    "        with tf.device('/GPU:0'):\n",
    "            model.fit(\n",
    "                dataset_train,\n",
    "                epochs=epochs,\n",
    "                validation_data=dataset_val,\n",
    "                callbacks=[\n",
    "                    tf.keras.callbacks.ModelCheckpoint(model_path, save_best_only=True),\n",
    "                    tf.keras.callbacks.CSVLogger(os.path.join(results_folder, training_log_filename)),\n",
    "                    tf.keras.callbacks.EarlyStopping(patience=patience, restore_best_weights=True),\n",
    "                ],\n",
    "            )\n",
    "\n",
    "    test_window_lengths = [3,5]\n",
    "    number_mismatch_test = [2,3,4, 8]\n",
    "    for number_mismatch in number_mismatch_test:\n",
    "        for window_length_s in test_window_lengths:\n",
    "            window_length = window_length_s * fs\n",
    "            results_filename = 'eval_{}_{}_s.json'.format(number_mismatch, window_length_s)\n",
    "\n",
    "            model = dilation_model(time_window=window_length, eeg_input_dimension=64,\n",
    "                                   env_input_dimension=stimulus_dimension, num_mismatched_segments=number_mismatch)\n",
    "\n",
    "            model.load_weights(model_path)\n",
    "            # Evaluate the model on test set\n",
    "            # Create a dataset generator for each test subject\n",
    "            test_files = [x for x in glob.glob(os.path.join(data_folder, \"test_-_*\")) if\n",
    "                          os.path.basename(x).split(\"_-_\")[-1].split(\".\")[0] in features]\n",
    "            # Get all different subjects from the test set\n",
    "            subjects = list(set([os.path.basename(x).split(\"_-_\")[1] for x in test_files]))\n",
    "            datasets_test = {}\n",
    "            # Create a generator for each subject\n",
    "            for sub in subjects:\n",
    "                files_test_sub = [f for f in test_files if sub in os.path.basename(f)]\n",
    "                test_generator = DataGenerator(files_test_sub, window_length)\n",
    "                datasets_test[sub] = create_tf_dataset(test_generator, window_length, batch_equalizer_fn,\n",
    "                                                       hop_length, batch_size=1,\n",
    "                                                       number_mismatch=number_mismatch,\n",
    "                                                       data_types=(tf.float32, tf.float32),\n",
    "                                                       feature_dims=(64, stimulus_dimension))\n",
    "\n",
    "            evaluation = evaluate_model(model, datasets_test)\n",
    "\n",
    "            # We can save our results in a json encoded file\n",
    "            results_path = os.path.join(results_folder, results_filename)\n",
    "            with open(results_path, \"w\") as fp:\n",
    "                json.dump(evaluation, fp)\n",
    "            logging.info(f\"Results saved at {results_path}\")"
   ]
  },
  {
   "cell_type": "code",
   "execution_count": 3,
   "metadata": {},
   "outputs": [
    {
     "name": "stdout",
     "output_type": "stream",
     "text": [
      "TensorFlow version: 2.15.0\n",
      "Is GPU available: [PhysicalDevice(name='/physical_device:GPU:0', device_type='GPU')]\n"
     ]
    }
   ],
   "source": [
    "import tensorflow as tf\n",
    "print(\"TensorFlow version:\", tf.__version__)\n",
    "print(\"Is GPU available:\", tf.config.list_physical_devices('GPU'))"
   ]
  },
  {
   "cell_type": "code",
   "execution_count": 4,
   "metadata": {},
   "outputs": [
    {
     "name": "stdout",
     "output_type": "stream",
     "text": [
      "Mon Nov 20 14:26:45 2023       \n",
      "+---------------------------------------------------------------------------------------+\n",
      "| NVIDIA-SMI 535.54.03              Driver Version: 535.54.03    CUDA Version: 12.2     |\n",
      "|-----------------------------------------+----------------------+----------------------+\n",
      "| GPU  Name                 Persistence-M | Bus-Id        Disp.A | Volatile Uncorr. ECC |\n",
      "| Fan  Temp   Perf          Pwr:Usage/Cap |         Memory-Usage | GPU-Util  Compute M. |\n",
      "|                                         |                      |               MIG M. |\n",
      "|=========================================+======================+======================|\n",
      "|   0  NVIDIA L40                     On  | 00000000:24:00.0 Off |                    0 |\n",
      "| N/A   32C    P8              34W / 300W |      7MiB / 46068MiB |      0%      Default |\n",
      "|                                         |                      |                  N/A |\n",
      "+-----------------------------------------+----------------------+----------------------+\n",
      "                                                                                         \n",
      "+---------------------------------------------------------------------------------------+\n",
      "| Processes:                                                                            |\n",
      "|  GPU   GI   CI        PID   Type   Process name                            GPU Memory |\n",
      "|        ID   ID                                                             Usage      |\n",
      "|=======================================================================================|\n",
      "|  No running processes found                                                           |\n",
      "+---------------------------------------------------------------------------------------+\n"
     ]
    }
   ],
   "source": [
    "!nvidia-smi"
   ]
  },
  {
   "cell_type": "code",
   "execution_count": 6,
   "metadata": {},
   "outputs": [],
   "source": [
    "import gc\n",
    "gc.collect()\n",
    "tf.keras.backend.clear_session()\n",
    "\n",
    "\n"
   ]
  },
  {
   "cell_type": "code",
   "execution_count": null,
   "metadata": {},
   "outputs": [],
   "source": []
  }
 ],
 "metadata": {
  "kernelspec": {
   "display_name": "Python [conda env:.conda-myenv]",
   "language": "python",
   "name": "conda-env-.conda-myenv-py"
  },
  "language_info": {
   "codemirror_mode": {
    "name": "ipython",
    "version": 3
   },
   "file_extension": ".py",
   "mimetype": "text/x-python",
   "name": "python",
   "nbconvert_exporter": "python",
   "pygments_lexer": "ipython3",
   "version": "3.10.13"
  }
 },
 "nbformat": 4,
 "nbformat_minor": 2
}
