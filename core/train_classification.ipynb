{
 "cells": [
  {
   "cell_type": "code",
   "execution_count": 1,
   "metadata": {},
   "outputs": [],
   "source": [
    "import os\n",
    "import sys\n",
    "import wandb\n",
    "import torch\n",
    "import datetime\n",
    "import collections\n",
    "import speechbrain as sb\n",
    "from hyperpyyaml import load_hyperpyyaml\n",
    "\n",
    "os.environ['WANDB_NOTEBOOK_NAME'] = 'train_classification.ipynb'\n",
    "\n",
    "HPARAM_FILE = 'hparams/class/twin_tcn.yaml'"
   ]
  },
  {
   "cell_type": "code",
   "execution_count": 2,
   "metadata": {},
   "outputs": [
    {
     "name": "stdout",
     "output_type": "stream",
     "text": [
      "Experiment Time Stamp: 2023-11-27+21-46-11\n"
     ]
    },
    {
     "name": "stderr",
     "output_type": "stream",
     "text": [
      "2023-11-27 21:46:12.008521: E tensorflow/compiler/xla/stream_executor/cuda/cuda_dnn.cc:9342] Unable to register cuDNN factory: Attempting to register factory for plugin cuDNN when one has already been registered\n",
      "2023-11-27 21:46:12.008590: E tensorflow/compiler/xla/stream_executor/cuda/cuda_fft.cc:609] Unable to register cuFFT factory: Attempting to register factory for plugin cuFFT when one has already been registered\n",
      "2023-11-27 21:46:12.008613: E tensorflow/compiler/xla/stream_executor/cuda/cuda_blas.cc:1518] Unable to register cuBLAS factory: Attempting to register factory for plugin cuBLAS when one has already been registered\n",
      "2023-11-27 21:46:12.018225: I tensorflow/core/platform/cpu_feature_guard.cc:182] This TensorFlow binary is optimized to use available CPU instructions in performance-critical operations.\n",
      "To enable the following instructions: AVX2 FMA, in other operations, rebuild TensorFlow with the appropriate compiler flags.\n",
      "2023-11-27 21:46:17.179939: I tensorflow/core/common_runtime/gpu/gpu_device.cc:1886] Created device /job:localhost/replica:0/task:0/device:GPU:0 with 43412 MB memory:  -> device: 0, name: NVIDIA L40, pci bus id: 0000:61:00.0, compute capability: 8.9\n",
      "Counting batches in TF dataset: 7975it [01:26, 91.70it/s] \n",
      "Counting batches in TF dataset: 845it [00:07, 118.89it/s]\n",
      "\u001b[34m\u001b[1mwandb\u001b[0m: Currently logged in as: \u001b[33mxj2289\u001b[0m (\u001b[33mxj-audio\u001b[0m). Use \u001b[1m`wandb login --relogin`\u001b[0m to force relogin\n"
     ]
    },
    {
     "data": {
      "text/html": [
       "Tracking run with wandb version 0.16.0"
      ],
      "text/plain": [
       "<IPython.core.display.HTML object>"
      ]
     },
     "metadata": {},
     "output_type": "display_data"
    },
    {
     "data": {
      "text/html": [
       "Run data is saved locally in <code>./save/class/env_tcn_bs4_lr1e-3_ep200/1234/wandb/run-20231127_214800-6wxcztp8</code>"
      ],
      "text/plain": [
       "<IPython.core.display.HTML object>"
      ]
     },
     "metadata": {},
     "output_type": "display_data"
    },
    {
     "data": {
      "text/html": [
       "Syncing run <strong><a href='https://wandb.ai/xj-audio/EEECh24/runs/6wxcztp8' target=\"_blank\">env_tcn_bs4_lr1e-3_ep200-2023-11-27+21-46-11</a></strong> to <a href='https://wandb.ai/xj-audio/EEECh24' target=\"_blank\">Weights & Biases</a> (<a href='https://wandb.me/run' target=\"_blank\">docs</a>)<br/>"
      ],
      "text/plain": [
       "<IPython.core.display.HTML object>"
      ]
     },
     "metadata": {},
     "output_type": "display_data"
    },
    {
     "data": {
      "text/html": [
       " View project at <a href='https://wandb.ai/xj-audio/EEECh24' target=\"_blank\">https://wandb.ai/xj-audio/EEECh24</a>"
      ],
      "text/plain": [
       "<IPython.core.display.HTML object>"
      ]
     },
     "metadata": {},
     "output_type": "display_data"
    },
    {
     "data": {
      "text/html": [
       " View run at <a href='https://wandb.ai/xj-audio/EEECh24/runs/6wxcztp8' target=\"_blank\">https://wandb.ai/xj-audio/EEECh24/runs/6wxcztp8</a>"
      ],
      "text/plain": [
       "<IPython.core.display.HTML object>"
      ]
     },
     "metadata": {},
     "output_type": "display_data"
    }
   ],
   "source": [
    "time_stamp = datetime.datetime.now().strftime('%Y-%m-%d+%H-%M-%S')\n",
    "print(f'Experiment Time Stamp: {time_stamp}')\n",
    "\n",
    "# Overwrite hparams\n",
    "argv = [HPARAM_FILE, '--time_stamp', time_stamp]\n",
    "argv += ['--use_wandb', 'true']\n",
    "argv += ['--n_mismatch', '4']\n",
    "argv += ['--experiment', 'env_tcn_bs4_lr1e-3_ep200']\n",
    "\n",
    "hparam_file, run_opts, overrides = sb.parse_arguments(argv)\n",
    "\n",
    "with open(HPARAM_FILE) as f:\n",
    "    hparams = load_hyperpyyaml(f, overrides)\n",
    "    \n",
    "run_opts['auto_mix_prec'] = hparams['mix_prec'] # False\n",
    "\n",
    "if hparams['use_wandb']:\n",
    "    hparams['logger'] = hparams['wandb_logger']()\n",
    "    \n",
    "# sb.utils.distributed.ddp_init_group(run_opts)"
   ]
  },
  {
   "cell_type": "code",
   "execution_count": 3,
   "metadata": {},
   "outputs": [],
   "source": [
    "class Classifier(sb.core.Brain):\n",
    "\n",
    "    def compute_forward(self, eeg, speech, stage):\n",
    "        eeg_emb = self.modules.eeg_model(eeg)\n",
    "        speech_emb = self.modules.speech_model(speech)\n",
    "        pred = self.modules.classifier(eeg_emb, speech_emb)\n",
    "        \n",
    "        return pred\n",
    "    \n",
    "    def compute_objectives(self, pred, label, stage):\n",
    "        B = label.shape[0]\n",
    "        \n",
    "        loss = self.hparams.loss_fn(pred, label)\n",
    "        est_label = torch.argmax(pred, dim=-1)\n",
    "        acc = sum(est_label==label) / B\n",
    "        \n",
    "        self.loss_stat['loss'] += float(loss) * B\n",
    "        self.loss_stat['acc'] += float(acc) * B\n",
    "        self.count += B\n",
    "    \n",
    "        return loss\n",
    "\n",
    "    def make_dataloader(\n",
    "        self, dataset, stage, ckpt_prefix=\"dataloader-\", **loader_kwargs\n",
    "    ):\n",
    "        # Treat pytorch TF wrapper as a dataloader\n",
    "        # Because create_tf_dataset already batches EEGs and speeches\n",
    "        return dataset\n",
    "    \n",
    "    def fit_batch(self, batch):\n",
    "        eeg, speech = batch\n",
    "    \n",
    "        # Select one EEG as the target. Keep all M speeches as candidates.\n",
    "        B, M, C, T = eeg.shape\n",
    "        label = torch.randint(0, M, (B,), dtype=torch.long)\n",
    "        eeg = eeg[torch.arange(B), label]\n",
    "        \n",
    "        eeg = eeg.to(self.device)\n",
    "        speech = speech.to(self.device)\n",
    "        label = label.to(self.device)\n",
    "        \n",
    "        # Forward\n",
    "        pred = self.compute_forward(eeg, speech, sb.Stage.TRAIN)\n",
    "        loss = self.compute_objectives(pred, label, sb.Stage.TRAIN)\n",
    "        loss.backward()\n",
    "        \n",
    "        if self.check_gradients(loss):\n",
    "            self.optimizer.step()\n",
    "        self.optimizer.zero_grad()\n",
    "            \n",
    "        return loss.detach().cpu()\n",
    "    \n",
    "    def evaluate_batch(self, batch, stage):\n",
    "        eeg, speech = batch\n",
    "\n",
    "        # Select one EEG as the target. Keep all M speeches as candidates.\n",
    "        B, M, C, T = eeg.shape\n",
    "        label = torch.zeros(B, dtype=torch.long)\n",
    "        eeg = eeg[torch.arange(B), label]\n",
    "        \n",
    "        eeg = eeg.to(self.device)\n",
    "        speech = speech.to(self.device)\n",
    "        label = label.to(self.device)\n",
    "        \n",
    "        # Forward\n",
    "        with torch.no_grad():\n",
    "            pred = self.compute_forward(eeg, speech, stage)\n",
    "            loss = self.compute_objectives(pred, label, stage)\n",
    "            \n",
    "        return loss.detach().cpu()\n",
    "        \n",
    "        \n",
    "    def on_stage_start(self, stage, epoch=None):\n",
    "        super().on_stage_start(stage, epoch)\n",
    "        self.count = 0\n",
    "        self.loss_stat = {\n",
    "            'loss': 0,\n",
    "            'acc': 0,\n",
    "        }\n",
    "        # Reload windows at the start of each epoch\n",
    "        if stage == sb.Stage.TRAIN:\n",
    "            self.hparams.train_windows.reload()\n",
    "        elif stage == sb.Stage.VALID:\n",
    "            self.hparams.valid_windows.reload()\n",
    "\n",
    "    def on_stage_end(self, stage, stage_loss, epoch=None):\n",
    "        for loss_key in self.loss_stat:\n",
    "            self.loss_stat[loss_key] /= self.count\n",
    "        \n",
    "        if stage == sb.Stage.TRAIN:\n",
    "            stage_stats = {'train_'+key: round(float(value), 4) for key, value in self.loss_stat.items()}\n",
    "            stage_stats['lr'] = self.optimizer.param_groups[0]['lr']\n",
    "            stage_stats['epoch'] = epoch\n",
    "    \n",
    "        elif stage == sb.Stage.VALID:\n",
    "            stage_stats = {'valid_'+key: round(float(value), 4) for key, value in self.loss_stat.items()}\n",
    "            stage_stats['epoch'] = epoch\n",
    "            self.lr_scheduler.step(self.loss_stat['loss'])\n",
    "\n",
    "        if self.hparams.use_wandb:\n",
    "            self.hparams.logger.run.log(\n",
    "                data=stage_stats,\n",
    "            )\n",
    "                        \n",
    "        print(f'Epoch {epoch}: ', stage, stage_stats)\n",
    "        \n",
    "    def init_optimizers(self):\n",
    "        super().init_optimizers()\n",
    "        self.lr_scheduler = self.hparams.lr_scheduler(self.optimizer)\n",
    "        if self.checkpointer is not None:\n",
    "            self.checkpointer.add_recoverable(\"optimizer\", self.optimizer)\n",
    "            self.checkpointer.add_recoverable(\"lr_scheduler\", self.lr_scheduler)\n",
    "                        \n",
    "    "
   ]
  },
  {
   "cell_type": "code",
   "execution_count": 4,
   "metadata": {},
   "outputs": [],
   "source": [
    "brain = Classifier(\n",
    "    modules=hparams['modules'],\n",
    "    opt_class=hparams['optimizer'],\n",
    "    hparams=hparams,\n",
    "    run_opts=run_opts,\n",
    "    checkpointer=hparams['checkpointer'],\n",
    ")"
   ]
  },
  {
   "cell_type": "code",
   "execution_count": null,
   "metadata": {},
   "outputs": [
    {
     "name": "stderr",
     "output_type": "stream",
     "text": [
      "100%|██████████| 7975/7975 [03:17<00:00, 40.43it/s, train_loss=1.1] \n"
     ]
    },
    {
     "name": "stdout",
     "output_type": "stream",
     "text": [
      "Epoch 1:  Stage.TRAIN {'train_loss': 1.0962, 'train_acc': 0.5682, 'lr': 0.001, 'epoch': 1}\n"
     ]
    },
    {
     "name": "stderr",
     "output_type": "stream",
     "text": [
      "100%|██████████| 845/845 [00:13<00:00, 61.31it/s] \n"
     ]
    },
    {
     "name": "stdout",
     "output_type": "stream",
     "text": [
      "Epoch 1:  Stage.VALID {'valid_loss': 1.175, 'valid_acc': 0.5532, 'epoch': 1}\n"
     ]
    },
    {
     "name": "stderr",
     "output_type": "stream",
     "text": [
      " 55%|█████▌    | 4423/7975 [01:52<01:28, 40.22it/s, train_loss=1]   "
     ]
    }
   ],
   "source": [
    "brain.fit(\n",
    "    epoch_counter=brain.hparams.epoch_counter,\n",
    "    train_set=hparams['train_windows'],\n",
    "    valid_set=hparams['valid_windows']\n",
    ")"
   ]
  },
  {
   "cell_type": "code",
   "execution_count": null,
   "metadata": {},
   "outputs": [],
   "source": [
    "wandb.finish()"
   ]
  },
  {
   "cell_type": "code",
   "execution_count": null,
   "metadata": {},
   "outputs": [],
   "source": []
  },
  {
   "cell_type": "code",
   "execution_count": null,
   "metadata": {},
   "outputs": [],
   "source": []
  }
 ],
 "metadata": {
  "kernelspec": {
   "display_name": "Python [conda env:.conda-EEGCh24]",
   "language": "python",
   "name": "conda-env-.conda-EEGCh24-py"
  },
  "language_info": {
   "codemirror_mode": {
    "name": "ipython",
    "version": 3
   },
   "file_extension": ".py",
   "mimetype": "text/x-python",
   "name": "python",
   "nbconvert_exporter": "python",
   "pygments_lexer": "ipython3",
   "version": "3.9.18"
  }
 },
 "nbformat": 4,
 "nbformat_minor": 2
}
