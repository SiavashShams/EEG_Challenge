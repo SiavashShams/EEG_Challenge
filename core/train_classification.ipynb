{
 "cells": [
  {
   "cell_type": "code",
   "execution_count": 1,
   "metadata": {},
   "outputs": [],
   "source": [
    "import os\n",
    "import sys\n",
    "import wandb\n",
    "import torch\n",
    "import datetime\n",
    "import collections\n",
    "import speechbrain as sb\n",
    "from hyperpyyaml import load_hyperpyyaml\n",
    "\n",
    "os.environ['WANDB_NOTEBOOK_NAME'] = 'train_classification.ipynb'\n",
    "\n",
    "HPARAM_FILE = 'hparams/class/twin_tcn.yaml'"
   ]
  },
  {
   "cell_type": "code",
   "execution_count": 2,
   "metadata": {},
   "outputs": [
    {
     "name": "stdout",
     "output_type": "stream",
     "text": [
      "Experiment Time Stamp: 2023-11-27+18-58-18\n"
     ]
    },
    {
     "name": "stderr",
     "output_type": "stream",
     "text": [
      "2023-11-27 18:58:18.487400: E tensorflow/compiler/xla/stream_executor/cuda/cuda_dnn.cc:9342] Unable to register cuDNN factory: Attempting to register factory for plugin cuDNN when one has already been registered\n",
      "2023-11-27 18:58:18.487469: E tensorflow/compiler/xla/stream_executor/cuda/cuda_fft.cc:609] Unable to register cuFFT factory: Attempting to register factory for plugin cuFFT when one has already been registered\n",
      "2023-11-27 18:58:18.487492: E tensorflow/compiler/xla/stream_executor/cuda/cuda_blas.cc:1518] Unable to register cuBLAS factory: Attempting to register factory for plugin cuBLAS when one has already been registered\n",
      "2023-11-27 18:58:18.496223: I tensorflow/core/platform/cpu_feature_guard.cc:182] This TensorFlow binary is optimized to use available CPU instructions in performance-critical operations.\n",
      "To enable the following instructions: AVX2 FMA, in other operations, rebuild TensorFlow with the appropriate compiler flags.\n",
      "2023-11-27 18:58:21.587797: I tensorflow/core/common_runtime/gpu/gpu_device.cc:1886] Created device /job:localhost/replica:0/task:0/device:GPU:0 with 43412 MB memory:  -> device: 0, name: NVIDIA L40, pci bus id: 0000:61:00.0, compute capability: 8.9\n",
      "Counting batches in TF dataset: 7975it [01:19, 100.56it/s]\n",
      "Counting batches in TF dataset: 845it [00:07, 108.31it/s]\n",
      "\u001b[34m\u001b[1mwandb\u001b[0m: Currently logged in as: \u001b[33mxj2289\u001b[0m (\u001b[33mxj-audio\u001b[0m). Use \u001b[1m`wandb login --relogin`\u001b[0m to force relogin\n"
     ]
    },
    {
     "data": {
      "text/html": [
       "Tracking run with wandb version 0.16.0"
      ],
      "text/plain": [
       "<IPython.core.display.HTML object>"
      ]
     },
     "metadata": {},
     "output_type": "display_data"
    },
    {
     "data": {
      "text/html": [
       "Run data is saved locally in <code>./save/class/env_tcn_bs64_lr1e-3_ep100/1234/wandb/run-20231127_185952-gj8c623j</code>"
      ],
      "text/plain": [
       "<IPython.core.display.HTML object>"
      ]
     },
     "metadata": {},
     "output_type": "display_data"
    },
    {
     "data": {
      "text/html": [
       "Syncing run <strong><a href='https://wandb.ai/xj-audio/EEECh24/runs/gj8c623j' target=\"_blank\">env_tcn_bs64_lr1e-3_ep100-2023-11-27+18-58-18</a></strong> to <a href='https://wandb.ai/xj-audio/EEECh24' target=\"_blank\">Weights & Biases</a> (<a href='https://wandb.me/run' target=\"_blank\">docs</a>)<br/>"
      ],
      "text/plain": [
       "<IPython.core.display.HTML object>"
      ]
     },
     "metadata": {},
     "output_type": "display_data"
    },
    {
     "data": {
      "text/html": [
       " View project at <a href='https://wandb.ai/xj-audio/EEECh24' target=\"_blank\">https://wandb.ai/xj-audio/EEECh24</a>"
      ],
      "text/plain": [
       "<IPython.core.display.HTML object>"
      ]
     },
     "metadata": {},
     "output_type": "display_data"
    },
    {
     "data": {
      "text/html": [
       " View run at <a href='https://wandb.ai/xj-audio/EEECh24/runs/gj8c623j' target=\"_blank\">https://wandb.ai/xj-audio/EEECh24/runs/gj8c623j</a>"
      ],
      "text/plain": [
       "<IPython.core.display.HTML object>"
      ]
     },
     "metadata": {},
     "output_type": "display_data"
    }
   ],
   "source": [
    "time_stamp = datetime.datetime.now().strftime('%Y-%m-%d+%H-%M-%S')\n",
    "print(f'Experiment Time Stamp: {time_stamp}')\n",
    "\n",
    "# Overwrite hparams\n",
    "argv = [HPARAM_FILE, '--time_stamp', time_stamp]\n",
    "argv += ['--me', 'xj-audio']\n",
    "argv += ['--use_wandb', 'true']\n",
    "argv += ['--n_mismatch', '4']\n",
    "argv += ['--batch_size', '64']\n",
    "argv += ['--n_epoch', '100']\n",
    "argv += ['--experiment', 'env_tcn_bs64_lr1e-3_ep100']\n",
    "\n",
    "hparam_file, run_opts, overrides = sb.parse_arguments(argv)\n",
    "\n",
    "with open(HPARAM_FILE) as f:\n",
    "    hparams = load_hyperpyyaml(f, overrides)\n",
    "    \n",
    "run_opts['auto_mix_prec'] = hparams['mix_prec'] # False\n",
    "\n",
    "if hparams['use_wandb']:\n",
    "    hparams['logger'] = hparams['wandb_logger']()\n",
    "    \n",
    "# sb.utils.distributed.ddp_init_group(run_opts)"
   ]
  },
  {
   "cell_type": "code",
   "execution_count": 3,
   "metadata": {},
   "outputs": [],
   "source": [
    "class Classifier(sb.core.Brain):\n",
    "\n",
    "    def compute_forward(self, eeg, speech, stage):\n",
    "        eeg_emb = self.modules.eeg_model(eeg)\n",
    "        speech_emb = self.modules.speech_model(speech)\n",
    "        pred = self.modules.classifier(eeg_emb, speech_emb)\n",
    "        \n",
    "        return pred\n",
    "    \n",
    "    def compute_objectives(self, pred, label, stage):\n",
    "        B = label.shape[0]\n",
    "        \n",
    "        loss = self.hparams.loss_fn(pred, label)\n",
    "        est_label = torch.argmax(pred, dim=-1)\n",
    "        acc = sum(est_label==label) / B\n",
    "        \n",
    "        self.loss_stat['loss'] += float(loss) * B\n",
    "        self.loss_stat['acc'] += float(acc) * B\n",
    "        self.count += B\n",
    "    \n",
    "        return loss\n",
    "    \n",
    "    def make_dataloader(\n",
    "        self, dataset, stage, ckpt_prefix=\"dataloader-\", **loader_kwargs\n",
    "    ):\n",
    "        # Treat pytorch TF wrapper as a dataloader\n",
    "        # Because create_tf_dataset already batches EEGs and speeches\n",
    "        return dataset\n",
    "\n",
    "    def fit_batch(self, batch):\n",
    "        eeg = batch[0].to(self.device)\n",
    "        speech = batch[1].to(self.device)\n",
    "        \n",
    "        # Select one EEG as the target. \n",
    "        # Keep all M speeches as candidates.\n",
    "        B, M, C, T = eeg.shape\n",
    "        label = torch.randint(0, M, (B,), dtype=torch.long).to(self.device)\n",
    "        eeg = eeg[torch.arange(B), label]\n",
    "        \n",
    "        # Forward\n",
    "        pred = self.compute_forward(eeg, speech, sb.Stage.TRAIN)\n",
    "        loss = self.compute_objectives(pred, label, sb.Stage.TRAIN)\n",
    "        loss.backward()\n",
    "        \n",
    "        if self.check_gradients(loss):\n",
    "            self.optimizer.step()\n",
    "        self.optimizer.zero_grad()\n",
    "            \n",
    "        return loss.detach().cpu()\n",
    "    \n",
    "    def evaluate_batch(self, batch, stage):\n",
    "        eeg = batch[0].to(self.device)\n",
    "        speech = batch[1].to(self.device)\n",
    "        \n",
    "        # Select one EEG as the target. \n",
    "        # Keep all M speeches as candidates.\n",
    "        B, M, C, T = eeg.shape\n",
    "        label = torch.zeros(B, dtype=torch.long).to(self.device)\n",
    "        eeg = eeg[torch.arange(B), label]\n",
    "        \n",
    "        # Forward\n",
    "        with torch.no_grad():\n",
    "            pred = self.compute_forward(eeg, speech, stage)\n",
    "            loss = self.compute_objectives(pred, label, stage)\n",
    "            \n",
    "        return loss.detach().cpu()\n",
    "        \n",
    "    def on_stage_start(self, stage, epoch=None):\n",
    "        super().on_stage_start(stage, epoch)\n",
    "        self.count = 0\n",
    "        self.loss_stat = {\n",
    "            'loss': 0,\n",
    "            'acc': 0,\n",
    "        }\n",
    "        # Reload windows at the start of each epoch\n",
    "        if stage == sb.Stage.TRAIN:\n",
    "            self.hparams.train_windows.reload()\n",
    "        elif stage == sb.Stage.VALID:\n",
    "            self.hparams.valid_windows.reload()\n",
    "\n",
    "    def on_stage_end(self, stage, stage_loss, epoch=None):\n",
    "        for loss_key in self.loss_stat:\n",
    "            self.loss_stat[loss_key] /= self.count\n",
    "        \n",
    "        if stage == sb.Stage.TRAIN:\n",
    "            stage_stats = {'train_'+key: round(float(value), 4) for key, value in self.loss_stat.items()}\n",
    "            stage_stats['lr'] = self.optimizer.param_groups[0]['lr']\n",
    "            stage_stats['epoch'] = epoch\n",
    "    \n",
    "        elif stage == sb.Stage.VALID:\n",
    "            stage_stats = {'valid_'+key: round(float(value), 4) for key, value in self.loss_stat.items()}\n",
    "            stage_stats['epoch'] = epoch\n",
    "\n",
    "        if self.hparams.use_wandb:\n",
    "            self.hparams.logger.run.log(\n",
    "                data=stage_stats,\n",
    "            )\n",
    "                        \n",
    "        print(f'Epoch {epoch}: ', stage, stage_stats)\n",
    "                        \n",
    "    "
   ]
  },
  {
   "cell_type": "code",
   "execution_count": 4,
   "metadata": {},
   "outputs": [],
   "source": [
    "brain = Classifier(\n",
    "    modules=hparams['modules'],\n",
    "    opt_class=hparams['optimizer'],\n",
    "    hparams=hparams,\n",
    "    run_opts=run_opts,\n",
    "    checkpointer=hparams['checkpointer'],\n",
    ")"
   ]
  },
  {
   "cell_type": "code",
   "execution_count": null,
   "metadata": {},
   "outputs": [
    {
     "name": "stderr",
     "output_type": "stream",
     "text": [
      " 24%|██▍       | 1953/7975 [00:57<03:04, 32.62it/s, train_loss=1.2] "
     ]
    }
   ],
   "source": [
    "brain.fit(\n",
    "    epoch_counter=brain.hparams.epoch_counter,\n",
    "    train_set=hparams['train_windows'],\n",
    "    valid_set=hparams['valid_windows'],\n",
    ")"
   ]
  },
  {
   "cell_type": "code",
   "execution_count": null,
   "metadata": {},
   "outputs": [],
   "source": [
    "wandb.finish()"
   ]
  },
  {
   "cell_type": "code",
   "execution_count": null,
   "metadata": {},
   "outputs": [],
   "source": []
  }
 ],
 "metadata": {
  "kernelspec": {
   "display_name": "Python [conda env:.conda-EEGCh24]",
   "language": "python",
   "name": "conda-env-.conda-EEGCh24-py"
  },
  "language_info": {
   "codemirror_mode": {
    "name": "ipython",
    "version": 3
   },
   "file_extension": ".py",
   "mimetype": "text/x-python",
   "name": "python",
   "nbconvert_exporter": "python",
   "pygments_lexer": "ipython3",
   "version": "3.9.18"
  }
 },
 "nbformat": 4,
 "nbformat_minor": 2
}
