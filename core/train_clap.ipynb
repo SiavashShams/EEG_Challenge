{
 "cells": [
  {
   "cell_type": "code",
   "execution_count": 1,
   "metadata": {},
   "outputs": [],
   "source": [
    "import os\n",
    "import sys\n",
    "import wandb\n",
    "import torch\n",
    "import datetime\n",
    "import collections\n",
    "import speechbrain as sb\n",
    "from hyperpyyaml import load_hyperpyyaml\n",
    "\n",
    "os.environ['WANDB_NOTEBOOK_NAME'] = 'train_clap.ipynb'\n",
    "\n",
    "HPARAM_FILE = 'hparams/clap/env_tcn_clap.yaml'"
   ]
  },
  {
   "cell_type": "code",
   "execution_count": 2,
   "metadata": {},
   "outputs": [
    {
     "name": "stdout",
     "output_type": "stream",
     "text": [
      "Experiment Time Stamp: 2023-12-08+18-20-19\n"
     ]
    },
    {
     "name": "stderr",
     "output_type": "stream",
     "text": [
      "2023-12-08 18:20:19.986633: E tensorflow/compiler/xla/stream_executor/cuda/cuda_dnn.cc:9342] Unable to register cuDNN factory: Attempting to register factory for plugin cuDNN when one has already been registered\n",
      "2023-12-08 18:20:19.986703: E tensorflow/compiler/xla/stream_executor/cuda/cuda_fft.cc:609] Unable to register cuFFT factory: Attempting to register factory for plugin cuFFT when one has already been registered\n",
      "2023-12-08 18:20:19.986729: E tensorflow/compiler/xla/stream_executor/cuda/cuda_blas.cc:1518] Unable to register cuBLAS factory: Attempting to register factory for plugin cuBLAS when one has already been registered\n",
      "2023-12-08 18:20:19.996199: I tensorflow/core/platform/cpu_feature_guard.cc:182] This TensorFlow binary is optimized to use available CPU instructions in performance-critical operations.\n",
      "To enable the following instructions: AVX2 FMA, in other operations, rebuild TensorFlow with the appropriate compiler flags.\n",
      "2023-12-08 18:20:23.104496: I tensorflow/core/common_runtime/gpu/gpu_device.cc:1886] Created device /job:localhost/replica:0/task:0/device:GPU:0 with 482 MB memory:  -> device: 0, name: NVIDIA L40, pci bus id: 0000:c1:00.0, compute capability: 8.9\n",
      "Counting batches in TF dataset: 1690it [00:04, 360.67it/s]\n",
      "\u001b[34m\u001b[1mwandb\u001b[0m: Currently logged in as: \u001b[33mxj2289\u001b[0m (\u001b[33mxj-audio\u001b[0m). Use \u001b[1m`wandb login --relogin`\u001b[0m to force relogin\n"
     ]
    },
    {
     "data": {
      "text/html": [
       "wandb version 0.16.1 is available!  To upgrade, please run:\n",
       " $ pip install wandb --upgrade"
      ],
      "text/plain": [
       "<IPython.core.display.HTML object>"
      ]
     },
     "metadata": {},
     "output_type": "display_data"
    },
    {
     "data": {
      "text/html": [
       "Tracking run with wandb version 0.16.0"
      ],
      "text/plain": [
       "<IPython.core.display.HTML object>"
      ]
     },
     "metadata": {},
     "output_type": "display_data"
    },
    {
     "data": {
      "text/html": [
       "Run data is saved locally in <code>./save/clap/FULL_CLAP_env_tcn_cbs16_cc16_lr1e-4_ep20/1234/wandb/run-20231208_182029-nxh46wwa</code>"
      ],
      "text/plain": [
       "<IPython.core.display.HTML object>"
      ]
     },
     "metadata": {},
     "output_type": "display_data"
    },
    {
     "data": {
      "text/html": [
       "Syncing run <strong><a href='https://wandb.ai/xj-audio/EEGCh24/runs/nxh46wwa' target=\"_blank\">FULL_CLAP_env_tcn_cbs16_cc16_lr1e-4_ep20-2023-12-08+18-20-19</a></strong> to <a href='https://wandb.ai/xj-audio/EEGCh24' target=\"_blank\">Weights & Biases</a> (<a href='https://wandb.me/run' target=\"_blank\">docs</a>)<br/>"
      ],
      "text/plain": [
       "<IPython.core.display.HTML object>"
      ]
     },
     "metadata": {},
     "output_type": "display_data"
    },
    {
     "data": {
      "text/html": [
       " View project at <a href='https://wandb.ai/xj-audio/EEGCh24' target=\"_blank\">https://wandb.ai/xj-audio/EEGCh24</a>"
      ],
      "text/plain": [
       "<IPython.core.display.HTML object>"
      ]
     },
     "metadata": {},
     "output_type": "display_data"
    },
    {
     "data": {
      "text/html": [
       " View run at <a href='https://wandb.ai/xj-audio/EEGCh24/runs/nxh46wwa' target=\"_blank\">https://wandb.ai/xj-audio/EEGCh24/runs/nxh46wwa</a>"
      ],
      "text/plain": [
       "<IPython.core.display.HTML object>"
      ]
     },
     "metadata": {},
     "output_type": "display_data"
    }
   ],
   "source": [
    "time_stamp = datetime.datetime.now().strftime('%Y-%m-%d+%H-%M-%S')\n",
    "print(f'Experiment Time Stamp: {time_stamp}')\n",
    "\n",
    "# Overwrite hparams\n",
    "argv = [HPARAM_FILE, '--time_stamp', time_stamp]\n",
    "argv += ['--use_wandb', 'true']\n",
    "argv += ['--clap_batch_size', '16']\n",
    "argv += ['--n_epoch', '20']\n",
    "argv += ['--lr', '1.0e-4']\n",
    "argv += ['--tau', '0.07']\n",
    "argv += ['--clap_ch', '16']\n",
    "argv += ['--patience', '2']\n",
    "argv += ['--experiment', 'FULL_CLAP_env_tcn_cbs16_cc16_lr1e-4_ep20']\n",
    "\n",
    "hparam_file, run_opts, overrides = sb.parse_arguments(argv)\n",
    "\n",
    "with open(HPARAM_FILE) as f:\n",
    "    hparams = load_hyperpyyaml(f, overrides)\n",
    "    \n",
    "run_opts['auto_mix_prec'] = hparams['mix_prec'] # False\n",
    "\n",
    "if hparams['use_wandb']:\n",
    "    hparams['logger'] = hparams['wandb_logger']()\n",
    "    \n",
    "# sb.utils.distributed.ddp_init_group(run_opts)"
   ]
  },
  {
   "cell_type": "code",
   "execution_count": 3,
   "metadata": {},
   "outputs": [],
   "source": [
    "class CLAP(sb.core.Brain):\n",
    "\n",
    "    def compute_forward(self, speech, eeg, stage):\n",
    "\n",
    "        speech_ndim = speech.ndim\n",
    "        eeg_ndim = eeg.ndim\n",
    "        \n",
    "        if speech_ndim != 3:\n",
    "            B, M1, C1, T1 = speech.shape\n",
    "            speech = speech.view(B*M1, C1, T1)\n",
    "        if eeg_ndim != 3:\n",
    "            B, M2, C2, T2 = eeg.shape\n",
    "            eeg = eeg.view(B*M2, C2, T2)\n",
    "        \n",
    "        speech_proj, eeg_proj, logit_scale_exp = self.modules.clap(speech, eeg)\n",
    "        \n",
    "        if speech_ndim != 3:\n",
    "            speech_proj = speech_proj.view((B, M1) + speech_proj.shape[1:])\n",
    "        if eeg_ndim != 3:\n",
    "            eeg_proj = eeg_proj.view((B, M2) + eeg_proj.shape[1:])\n",
    "        \n",
    "        return speech_proj, eeg_proj, logit_scale_exp\n",
    "    \n",
    "\n",
    "    def compute_clap_objectives(self, speech_proj, eeg_proj, logit_scale_exp):\n",
    "        similarity = self.modules.clap.compute_similarity_with_scale(\n",
    "            speech_proj, eeg_proj, logit_scale_exp\n",
    "        )\n",
    "        \n",
    "        eeg_label_for_speech = torch.arange(similarity.shape[0]).long().to(self.device) # number of speech\n",
    "        speech_label_for_eeg = torch.arange(similarity.shape[1]).long().to(self.device) # number of eeg\n",
    "        \n",
    "        predict_eeg_loss = self.hparams.cross_entropy(similarity, eeg_label_for_speech)\n",
    "        predict_speech_loss = self.hparams.cross_entropy(similarity.T, speech_label_for_eeg)\n",
    "        loss = 0.5 * (self.hparams.lambda_predict_eeg * predict_eeg_loss \\\n",
    "            + self.hparams.lambda_predict_speech * predict_speech_loss)\n",
    "    \n",
    "        with torch.no_grad():\n",
    "            predict_eeg_correct = (torch.max(similarity, dim=1)[1]==eeg_label_for_speech).sum()\n",
    "            predict_speech_correct = (torch.max(similarity, dim=0)[1]==speech_label_for_eeg).sum()\n",
    "            predict_eeg_acc = predict_eeg_correct / len(eeg_label_for_speech)\n",
    "            predict_speech_acc = predict_speech_correct / len(speech_label_for_eeg)\n",
    "            clap_acc = 0.5 * (predict_eeg_acc + predict_speech_acc)\n",
    "        \n",
    "        loss_dict = {\n",
    "            'predict_eeg_loss': predict_eeg_loss,\n",
    "            'predict_speech_loss': predict_speech_loss,\n",
    "            'predict_eeg_acc': predict_eeg_acc,\n",
    "            'predict_speech_acc': predict_speech_acc,\n",
    "            'loss': loss,\n",
    "            'acc': predict_speech_acc,\n",
    "            'clap_acc': clap_acc\n",
    "        }\n",
    "        \n",
    "        # Update loss stat\n",
    "        if not torch.isnan(loss):\n",
    "            B = eeg_proj.shape[0]\n",
    "            self.count += B\n",
    "            for key in self.loss_stat:\n",
    "                with torch.no_grad():\n",
    "                    self.loss_stat[key] += B * loss_dict[key]\n",
    "        \n",
    "        return loss\n",
    "    \n",
    "    \n",
    "    def compute_class_objectives(self, speech_proj, eeg_proj, label):\n",
    "        '''\n",
    "        speech_proj: (B, M, D)\n",
    "        eeg_proj: (B, D)\n",
    "        '''\n",
    "        \n",
    "        B = eeg_proj.shape[0]\n",
    "        est_label = self.modules.clap.predict_speech(\n",
    "            speech_proj, eeg_proj\n",
    "        )\n",
    "            \n",
    "        acc = sum(est_label==label) / B\n",
    "        \n",
    "        self.loss_stat['acc'] += float(acc) * B\n",
    "        self.count += B\n",
    "    \n",
    "        return torch.tensor(0)\n",
    "    \n",
    "    \n",
    "    def fit_batch(self, batch):\n",
    "        # Always use batch_size = 1\n",
    "        # Number of the windows is the actual batch size for clap\n",
    "        eeg, speech = batch\n",
    "        eeg = eeg.squeeze(0).to(self.device)\n",
    "        speech = speech.squeeze(0).to(self.device)\n",
    "        \n",
    "        # Forward\n",
    "        speech_proj, eeg_proj, logit_scale_exp = self.compute_forward(speech, eeg, sb.Stage.TRAIN)\n",
    "        loss = self.compute_clap_objectives(speech_proj, eeg_proj, logit_scale_exp)\n",
    "        loss.backward()\n",
    "        \n",
    "        if self.check_gradients(loss):\n",
    "            self.optimizer.step()\n",
    "        self.optimizer.zero_grad()\n",
    "            \n",
    "        return loss.detach().cpu()\n",
    "    \n",
    "    \n",
    "    def evaluate_batch(self, batch, stage):\n",
    "        eeg, speech, label = batch\n",
    "        \n",
    "        eeg = eeg.to(self.device)\n",
    "        speech = speech.to(self.device)\n",
    "        label = label.to(self.device)\n",
    "        \n",
    "        # Forward\n",
    "        with torch.no_grad():\n",
    "            speech_proj, eeg_proj, _ = self.compute_forward(speech, eeg, stage)\n",
    "            loss = self.compute_class_objectives(speech_proj, eeg_proj, label)\n",
    "            \n",
    "        return loss.detach().cpu()\n",
    "        \n",
    "\n",
    "    def make_dataloader(\n",
    "        self, dataset, stage, ckpt_prefix=\"dataloader-\", **loader_kwargs\n",
    "    ):\n",
    "        # Treat pytorch TF wrapper as a dataloader\n",
    "        # Because create_tf_dataset already batches EEGs and speeches\n",
    "        return dataset\n",
    "        \n",
    "\n",
    "    def on_stage_start(self, stage, epoch=None):\n",
    "        super().on_stage_start(stage, epoch)\n",
    "        self.count = 0\n",
    "        if stage == sb.Stage.TRAIN:\n",
    "            self.loss_stat = {\n",
    "                'predict_eeg_loss': 0,\n",
    "                'predict_speech_loss': 0,\n",
    "                'predict_eeg_acc': 0,\n",
    "                'predict_speech_acc': 0,\n",
    "                'loss': 0,\n",
    "                'acc': 0,\n",
    "                'clap_acc': 0\n",
    "            }\n",
    "        else:\n",
    "            self.loss_stat = {\n",
    "                'acc': 0,\n",
    "            }\n",
    "        \n",
    "        # Reload windows at the start of each epoch\n",
    "        if stage == sb.Stage.TRAIN:\n",
    "            self.hparams.train_windows.reload()\n",
    "        elif stage == sb.Stage.VALID:\n",
    "            self.hparams.valid_windows.reload()\n",
    "        \n",
    "    \n",
    "    def on_stage_end(self, stage, stage_loss, epoch=None):\n",
    "        for loss_key in self.loss_stat:\n",
    "            if self.count != 0:\n",
    "                self.loss_stat[loss_key] /= self.count\n",
    "        \n",
    "        if stage == sb.Stage.TRAIN:\n",
    "            stage_stats = {'train_'+key: round(float(value), 4) for key, value in self.loss_stat.items()}\n",
    "            stage_stats['lr'] = self.optimizer.param_groups[0]['lr']\n",
    "            stage_stats['tau'] = float(1/self.modules.clap.logit_scale.exp().item())      \n",
    "            stage_stats['epoch'] = epoch\n",
    "    \n",
    "        elif stage == sb.Stage.VALID:\n",
    "            stage_stats = {'valid_'+key: round(float(value), 4) for key, value in self.loss_stat.items()}\n",
    "            stage_stats['epoch'] = epoch\n",
    "            self.lr_scheduler.step(-self.loss_stat['acc'])\n",
    "\n",
    "        if self.hparams.use_wandb:\n",
    "            self.hparams.logger.run.log(\n",
    "                data=stage_stats,\n",
    "            )\n",
    "                        \n",
    "        print(f'Epoch {epoch}: ', stage, stage_stats)\n",
    "      \n",
    "    \n",
    "    def init_optimizers(self):\n",
    "        super().init_optimizers()\n",
    "        self.lr_scheduler = self.hparams.lr_scheduler(self.optimizer)\n",
    "        if self.checkpointer is not None:\n",
    "            self.checkpointer.add_recoverable(\"optimizer\", self.optimizer)\n",
    "            self.checkpointer.add_recoverable(\"lr_scheduler\", self.lr_scheduler)\n",
    "                        \n",
    "    "
   ]
  },
  {
   "cell_type": "code",
   "execution_count": 4,
   "metadata": {},
   "outputs": [],
   "source": [
    "brain = CLAP(\n",
    "    modules=hparams['modules'],\n",
    "    opt_class=hparams['optimizer'],\n",
    "    hparams=hparams,\n",
    "    run_opts=run_opts,\n",
    "    checkpointer=hparams['checkpointer'],\n",
    ")"
   ]
  },
  {
   "cell_type": "code",
   "execution_count": null,
   "metadata": {},
   "outputs": [
    {
     "name": "stderr",
     "output_type": "stream",
     "text": [
      "  8%|▊         | 43122/510443 [06:24<1:11:29, 108.95it/s, train_loss=2.04]"
     ]
    }
   ],
   "source": [
    "brain.fit(\n",
    "    epoch_counter=brain.hparams.epoch_counter,\n",
    "    train_set=hparams['train_windows'],\n",
    "    valid_set=hparams['valid_windows']\n",
    ")"
   ]
  },
  {
   "cell_type": "code",
   "execution_count": null,
   "metadata": {},
   "outputs": [],
   "source": [
    "wandb.finish()"
   ]
  },
  {
   "cell_type": "code",
   "execution_count": null,
   "metadata": {},
   "outputs": [],
   "source": []
  },
  {
   "cell_type": "code",
   "execution_count": null,
   "metadata": {},
   "outputs": [],
   "source": []
  }
 ],
 "metadata": {
  "kernelspec": {
   "display_name": "Python [conda env:.conda-EEGCh24]",
   "language": "python",
   "name": "conda-env-.conda-EEGCh24-py"
  },
  "language_info": {
   "codemirror_mode": {
    "name": "ipython",
    "version": 3
   },
   "file_extension": ".py",
   "mimetype": "text/x-python",
   "name": "python",
   "nbconvert_exporter": "python",
   "pygments_lexer": "ipython3",
   "version": "3.9.18"
  }
 },
 "nbformat": 4,
 "nbformat_minor": 2
}
